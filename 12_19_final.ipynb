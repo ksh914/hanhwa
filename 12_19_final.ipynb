{
 "cells": [
  {
   "cell_type": "markdown",
   "metadata": {},
   "source": [
    "# 실행"
   ]
  },
  {
   "cell_type": "code",
   "execution_count": 2,
   "metadata": {},
   "outputs": [],
   "source": [
    "from final_functions.final_transformer import *"
   ]
  },
  {
   "cell_type": "code",
   "execution_count": 3,
   "metadata": {},
   "outputs": [],
   "source": [
    "scaler_train = MinMaxScaler()\n",
    "scaler_test = MinMaxScaler()\n",
    "\n",
    "# Hyper Parameter\n",
    "input_window = 100\n",
    "output_window = 60\n",
    "epochs = 150\n",
    "batch_size = 512\n",
    "\n",
    "# Dataset 불러오기\n",
    "df_DL = time_series_dataframe()\n",
    "df_DL_temp = df_DL['TEMP'].values\n",
    "df_DL_label = df_DL['label'].values\n",
    "\n",
    "train_len = int(len(df_DL) * 0.7)\n",
    "train_data = df_DL_temp[:train_len]\n",
    "test_data = df_DL_temp[train_len:]\n",
    "train_label = df_DL_label[:train_len]\n",
    "test_label = df_DL_label[train_len:]\n",
    "\n",
    "\n",
    "train_data = scaler_train.fit_transform(train_data.reshape(-1,1)).reshape(-1)\n",
    "test_data = scaler_test.fit_transform(test_data.reshape(-1,1)).reshape(-1)\n",
    "\n",
    "train_data, _ = multistep_time_series(train_data, train_label, input_window, output_window)\n",
    "test_data, test_label = multistep_time_series(test_data, test_label, input_window, output_window)\n",
    "\n",
    "X_train = train_data[:, 0, :].reshape((-1,input_window, 1))\n",
    "y_train = train_data[:, 1, :].reshape((-1,input_window, 1))\n",
    "X_test = test_data[:, 0, :].reshape((-1,input_window, 1))\n",
    "y_test = test_data[:, 1, :].reshape((-1,input_window, 1))\n",
    "\n",
    "\n",
    "# PyTorch 돌리기위한 설정\n",
    "lr = 0.001\n",
    "device = 'cuda' if torch.cuda.is_available else 'cpu' \n",
    "model = TransAm().to(device)\n",
    "criterion = nn.MSELoss()\n",
    "optimizer = torch.optim.Adam(params = model.parameters(), lr=lr)\n",
    "scheduler = torch.optim.lr_scheduler.StepLR(optimizer, 1.0, gamma=0.98)\n",
    "\n",
    "train_dataset = TimeSeiresDataset(X_train, y_train, input_window)\n",
    "test_dataset = TimeSeiresDataset(X_test, y_test, input_window)\n",
    "train_dataloader = DataLoader(train_dataset, batch_size = batch_size, shuffle = True)\n",
    "test_dataloader = DataLoader(test_dataset, batch_size = batch_size, shuffle = False)\n",
    "train_data = train_data.to(device)\n",
    "test_data = test_data.to(device)"
   ]
  },
  {
   "cell_type": "code",
   "execution_count": 5,
   "metadata": {},
   "outputs": [
    {
     "name": "stdout",
     "output_type": "stream",
     "text": [
      "|epoch   1 |     0/  909 batches | lr 0.000960 | loss 0.00030\n",
      "|epoch   1 |   181/  909 batches | lr 0.000960 | loss 0.04607\n",
      "|epoch   1 |   362/  909 batches | lr 0.000960 | loss 0.04542\n",
      "|epoch   1 |   543/  909 batches | lr 0.000960 | loss 0.04535\n",
      "|epoch   1 |   724/  909 batches | lr 0.000960 | loss 0.04513\n",
      "|epoch   1 |   905/  909 batches | lr 0.000960 | loss 0.04493\n"
     ]
    },
    {
     "name": "stderr",
     "output_type": "stream",
     "text": [
      "100%|██████████| 390/390 [00:12<00:00, 30.23it/s]\n"
     ]
    },
    {
     "name": "stdout",
     "output_type": "stream",
     "text": [
      "---------------------------------------------------------------------------\n",
      "| end of epoch   1 | time: 90.98s | valid loss 0.00014 | valid ppl     1.00 |\n",
      "---------------------------------------------------------------------------\n",
      "|epoch   2 |     0/  909 batches | lr 0.000941 | loss 0.00025\n",
      "|epoch   2 |   181/  909 batches | lr 0.000941 | loss 0.04500\n",
      "|epoch   2 |   362/  909 batches | lr 0.000941 | loss 0.04487\n",
      "|epoch   2 |   543/  909 batches | lr 0.000941 | loss 0.04481\n",
      "|epoch   2 |   724/  909 batches | lr 0.000941 | loss 0.04477\n",
      "|epoch   2 |   905/  909 batches | lr 0.000941 | loss 0.04456\n"
     ]
    },
    {
     "name": "stderr",
     "output_type": "stream",
     "text": [
      "100%|██████████| 390/390 [00:12<00:00, 30.37it/s]\n"
     ]
    },
    {
     "name": "stdout",
     "output_type": "stream",
     "text": [
      "---------------------------------------------------------------------------\n",
      "| end of epoch   2 | time: 91.45s | valid loss 0.00014 | valid ppl     1.00 |\n",
      "---------------------------------------------------------------------------\n",
      "|epoch   3 |     0/  909 batches | lr 0.000922 | loss 0.00024\n",
      "|epoch   3 |   181/  909 batches | lr 0.000922 | loss 0.04452\n",
      "|epoch   3 |   362/  909 batches | lr 0.000922 | loss 0.04413\n",
      "|epoch   3 |   543/  909 batches | lr 0.000922 | loss 0.04428\n",
      "|epoch   3 |   724/  909 batches | lr 0.000922 | loss 0.04432\n",
      "|epoch   3 |   905/  909 batches | lr 0.000922 | loss 0.04422\n"
     ]
    },
    {
     "name": "stderr",
     "output_type": "stream",
     "text": [
      "100%|██████████| 390/390 [00:12<00:00, 31.48it/s]\n"
     ]
    },
    {
     "name": "stdout",
     "output_type": "stream",
     "text": [
      "---------------------------------------------------------------------------\n",
      "| end of epoch   3 | time: 91.17s | valid loss 0.00012 | valid ppl     1.00 |\n",
      "---------------------------------------------------------------------------\n",
      "|epoch   4 |     0/  909 batches | lr 0.000904 | loss 0.00025\n",
      "|epoch   4 |   181/  909 batches | lr 0.000904 | loss 0.04423\n",
      "|epoch   4 |   362/  909 batches | lr 0.000904 | loss 0.04385\n",
      "|epoch   4 |   543/  909 batches | lr 0.000904 | loss 0.04391\n",
      "|epoch   4 |   724/  909 batches | lr 0.000904 | loss 0.04419\n",
      "|epoch   4 |   905/  909 batches | lr 0.000904 | loss 0.04410\n"
     ]
    },
    {
     "name": "stderr",
     "output_type": "stream",
     "text": [
      "100%|██████████| 390/390 [00:12<00:00, 30.52it/s]\n"
     ]
    },
    {
     "name": "stdout",
     "output_type": "stream",
     "text": [
      "---------------------------------------------------------------------------\n",
      "| end of epoch   4 | time: 91.25s | valid loss 0.00014 | valid ppl     1.00 |\n",
      "---------------------------------------------------------------------------\n",
      "|epoch   5 |     0/  909 batches | lr 0.000886 | loss 0.00026\n",
      "|epoch   5 |   181/  909 batches | lr 0.000886 | loss 0.04381\n",
      "|epoch   5 |   362/  909 batches | lr 0.000886 | loss 0.04404\n",
      "|epoch   5 |   543/  909 batches | lr 0.000886 | loss 0.04379\n",
      "|epoch   5 |   724/  909 batches | lr 0.000886 | loss 0.04385\n",
      "|epoch   5 |   905/  909 batches | lr 0.000886 | loss 0.04381\n"
     ]
    },
    {
     "name": "stderr",
     "output_type": "stream",
     "text": [
      "100%|██████████| 390/390 [00:12<00:00, 30.06it/s]\n"
     ]
    },
    {
     "name": "stdout",
     "output_type": "stream",
     "text": [
      "---------------------------------------------------------------------------\n",
      "| end of epoch   5 | time: 91.70s | valid loss 0.00013 | valid ppl     1.00 |\n",
      "---------------------------------------------------------------------------\n",
      "|epoch   6 |     0/  909 batches | lr 0.000868 | loss 0.00024\n",
      "|epoch   6 |   181/  909 batches | lr 0.000868 | loss 0.04374\n",
      "|epoch   6 |   362/  909 batches | lr 0.000868 | loss 0.04357\n",
      "|epoch   6 |   543/  909 batches | lr 0.000868 | loss 0.04389\n",
      "|epoch   6 |   724/  909 batches | lr 0.000868 | loss 0.04370\n",
      "|epoch   6 |   905/  909 batches | lr 0.000868 | loss 0.04373\n"
     ]
    },
    {
     "name": "stderr",
     "output_type": "stream",
     "text": [
      "100%|██████████| 390/390 [00:12<00:00, 30.27it/s]\n"
     ]
    },
    {
     "name": "stdout",
     "output_type": "stream",
     "text": [
      "---------------------------------------------------------------------------\n",
      "| end of epoch   6 | time: 91.69s | valid loss 0.00010 | valid ppl     1.00 |\n",
      "---------------------------------------------------------------------------\n",
      "|epoch   7 |     0/  909 batches | lr 0.000851 | loss 0.00024\n",
      "|epoch   7 |   181/  909 batches | lr 0.000851 | loss 0.04353\n",
      "|epoch   7 |   362/  909 batches | lr 0.000851 | loss 0.04356\n",
      "|epoch   7 |   543/  909 batches | lr 0.000851 | loss 0.04358\n",
      "|epoch   7 |   724/  909 batches | lr 0.000851 | loss 0.04387\n",
      "|epoch   7 |   905/  909 batches | lr 0.000851 | loss 0.04333\n"
     ]
    },
    {
     "name": "stderr",
     "output_type": "stream",
     "text": [
      "100%|██████████| 390/390 [00:12<00:00, 31.26it/s]\n"
     ]
    },
    {
     "name": "stdout",
     "output_type": "stream",
     "text": [
      "---------------------------------------------------------------------------\n",
      "| end of epoch   7 | time: 90.20s | valid loss 0.00011 | valid ppl     1.00 |\n",
      "---------------------------------------------------------------------------\n",
      "|epoch   8 |     0/  909 batches | lr 0.000834 | loss 0.00025\n",
      "|epoch   8 |   181/  909 batches | lr 0.000834 | loss 0.04350\n",
      "|epoch   8 |   362/  909 batches | lr 0.000834 | loss 0.04338\n",
      "|epoch   8 |   543/  909 batches | lr 0.000834 | loss 0.04345\n",
      "|epoch   8 |   724/  909 batches | lr 0.000834 | loss 0.04358\n",
      "|epoch   8 |   905/  909 batches | lr 0.000834 | loss 0.04307\n"
     ]
    },
    {
     "name": "stderr",
     "output_type": "stream",
     "text": [
      "100%|██████████| 390/390 [00:12<00:00, 31.26it/s]\n"
     ]
    },
    {
     "name": "stdout",
     "output_type": "stream",
     "text": [
      "---------------------------------------------------------------------------\n",
      "| end of epoch   8 | time: 90.11s | valid loss 0.00010 | valid ppl     1.00 |\n",
      "---------------------------------------------------------------------------\n",
      "|epoch   9 |     0/  909 batches | lr 0.000817 | loss 0.00025\n",
      "|epoch   9 |   181/  909 batches | lr 0.000817 | loss 0.04358\n",
      "|epoch   9 |   362/  909 batches | lr 0.000817 | loss 0.04322\n",
      "|epoch   9 |   543/  909 batches | lr 0.000817 | loss 0.04318\n",
      "|epoch   9 |   724/  909 batches | lr 0.000817 | loss 0.04323\n",
      "|epoch   9 |   905/  909 batches | lr 0.000817 | loss 0.04342\n"
     ]
    },
    {
     "name": "stderr",
     "output_type": "stream",
     "text": [
      "100%|██████████| 390/390 [00:12<00:00, 31.27it/s]\n"
     ]
    },
    {
     "name": "stdout",
     "output_type": "stream",
     "text": [
      "---------------------------------------------------------------------------\n",
      "| end of epoch   9 | time: 89.88s | valid loss 0.00010 | valid ppl     1.00 |\n",
      "---------------------------------------------------------------------------\n",
      "|epoch  10 |     0/  909 batches | lr 0.000801 | loss 0.00023\n",
      "|epoch  10 |   181/  909 batches | lr 0.000801 | loss 0.04319\n",
      "|epoch  10 |   362/  909 batches | lr 0.000801 | loss 0.04340\n",
      "|epoch  10 |   543/  909 batches | lr 0.000801 | loss 0.04314\n",
      "|epoch  10 |   724/  909 batches | lr 0.000801 | loss 0.04313\n",
      "|epoch  10 |   905/  909 batches | lr 0.000801 | loss 0.04334\n"
     ]
    },
    {
     "name": "stderr",
     "output_type": "stream",
     "text": [
      "100%|██████████| 390/390 [00:12<00:00, 31.26it/s]\n"
     ]
    },
    {
     "name": "stdout",
     "output_type": "stream",
     "text": [
      "---------------------------------------------------------------------------\n",
      "| end of epoch  10 | time: 90.13s | valid loss 0.00010 | valid ppl     1.00 |\n",
      "---------------------------------------------------------------------------\n",
      "|epoch  11 |     0/  909 batches | lr 0.000785 | loss 0.00024\n",
      "|epoch  11 |   181/  909 batches | lr 0.000785 | loss 0.04318\n",
      "|epoch  11 |   362/  909 batches | lr 0.000785 | loss 0.04312\n",
      "|epoch  11 |   543/  909 batches | lr 0.000785 | loss 0.04323\n",
      "|epoch  11 |   724/  909 batches | lr 0.000785 | loss 0.04317\n",
      "|epoch  11 |   905/  909 batches | lr 0.000785 | loss 0.04325\n"
     ]
    },
    {
     "name": "stderr",
     "output_type": "stream",
     "text": [
      "100%|██████████| 390/390 [00:12<00:00, 30.48it/s]\n"
     ]
    },
    {
     "name": "stdout",
     "output_type": "stream",
     "text": [
      "---------------------------------------------------------------------------\n",
      "| end of epoch  11 | time: 91.56s | valid loss 0.00010 | valid ppl     1.00 |\n",
      "---------------------------------------------------------------------------\n",
      "|epoch  12 |     0/  909 batches | lr 0.000769 | loss 0.00024\n",
      "|epoch  12 |   181/  909 batches | lr 0.000769 | loss 0.04318\n",
      "|epoch  12 |   362/  909 batches | lr 0.000769 | loss 0.04286\n",
      "|epoch  12 |   543/  909 batches | lr 0.000769 | loss 0.04313\n",
      "|epoch  12 |   724/  909 batches | lr 0.000769 | loss 0.04334\n",
      "|epoch  12 |   905/  909 batches | lr 0.000769 | loss 0.04316\n"
     ]
    },
    {
     "name": "stderr",
     "output_type": "stream",
     "text": [
      "100%|██████████| 390/390 [00:11<00:00, 34.13it/s]\n"
     ]
    },
    {
     "name": "stdout",
     "output_type": "stream",
     "text": [
      "---------------------------------------------------------------------------\n",
      "| end of epoch  12 | time: 90.37s | valid loss 0.00010 | valid ppl     1.00 |\n",
      "---------------------------------------------------------------------------\n",
      "|epoch  13 |     0/  909 batches | lr 0.000754 | loss 0.00025\n",
      "|epoch  13 |   181/  909 batches | lr 0.000754 | loss 0.04305\n",
      "|epoch  13 |   362/  909 batches | lr 0.000754 | loss 0.04322\n",
      "|epoch  13 |   543/  909 batches | lr 0.000754 | loss 0.04317\n",
      "|epoch  13 |   724/  909 batches | lr 0.000754 | loss 0.04295\n",
      "|epoch  13 |   905/  909 batches | lr 0.000754 | loss 0.04316\n"
     ]
    },
    {
     "name": "stderr",
     "output_type": "stream",
     "text": [
      "100%|██████████| 390/390 [00:11<00:00, 34.41it/s]\n"
     ]
    },
    {
     "name": "stdout",
     "output_type": "stream",
     "text": [
      "---------------------------------------------------------------------------\n",
      "| end of epoch  13 | time: 87.36s | valid loss 0.00010 | valid ppl     1.00 |\n",
      "---------------------------------------------------------------------------\n",
      "|epoch  14 |     0/  909 batches | lr 0.000739 | loss 0.00023\n",
      "|epoch  14 |   181/  909 batches | lr 0.000739 | loss 0.04309\n",
      "|epoch  14 |   362/  909 batches | lr 0.000739 | loss 0.04294\n",
      "|epoch  14 |   543/  909 batches | lr 0.000739 | loss 0.04313\n",
      "|epoch  14 |   724/  909 batches | lr 0.000739 | loss 0.04304\n",
      "|epoch  14 |   905/  909 batches | lr 0.000739 | loss 0.04317\n"
     ]
    },
    {
     "name": "stderr",
     "output_type": "stream",
     "text": [
      "100%|██████████| 390/390 [00:11<00:00, 34.22it/s]\n"
     ]
    },
    {
     "name": "stdout",
     "output_type": "stream",
     "text": [
      "---------------------------------------------------------------------------\n",
      "| end of epoch  14 | time: 87.40s | valid loss 0.00010 | valid ppl     1.00 |\n",
      "---------------------------------------------------------------------------\n",
      "|epoch  15 |     0/  909 batches | lr 0.000724 | loss 0.00024\n",
      "|epoch  15 |   181/  909 batches | lr 0.000724 | loss 0.04308\n",
      "|epoch  15 |   362/  909 batches | lr 0.000724 | loss 0.04307\n",
      "|epoch  15 |   543/  909 batches | lr 0.000724 | loss 0.04300\n",
      "|epoch  15 |   724/  909 batches | lr 0.000724 | loss 0.04315\n",
      "|epoch  15 |   905/  909 batches | lr 0.000724 | loss 0.04305\n"
     ]
    },
    {
     "name": "stderr",
     "output_type": "stream",
     "text": [
      "100%|██████████| 390/390 [00:11<00:00, 34.29it/s]\n"
     ]
    },
    {
     "name": "stdout",
     "output_type": "stream",
     "text": [
      "---------------------------------------------------------------------------\n",
      "| end of epoch  15 | time: 87.40s | valid loss 0.00010 | valid ppl     1.00 |\n",
      "---------------------------------------------------------------------------\n",
      "|epoch  16 |     0/  909 batches | lr 0.000709 | loss 0.00024\n",
      "|epoch  16 |   181/  909 batches | lr 0.000709 | loss 0.04297\n",
      "|epoch  16 |   362/  909 batches | lr 0.000709 | loss 0.04281\n",
      "|epoch  16 |   543/  909 batches | lr 0.000709 | loss 0.04303\n",
      "|epoch  16 |   724/  909 batches | lr 0.000709 | loss 0.04326\n",
      "|epoch  16 |   905/  909 batches | lr 0.000709 | loss 0.04312\n"
     ]
    },
    {
     "name": "stderr",
     "output_type": "stream",
     "text": [
      "100%|██████████| 390/390 [00:11<00:00, 34.27it/s]\n"
     ]
    },
    {
     "name": "stdout",
     "output_type": "stream",
     "text": [
      "---------------------------------------------------------------------------\n",
      "| end of epoch  16 | time: 88.18s | valid loss 0.00010 | valid ppl     1.00 |\n",
      "---------------------------------------------------------------------------\n",
      "|epoch  17 |     0/  909 batches | lr 0.000695 | loss 0.00024\n",
      "|epoch  17 |   181/  909 batches | lr 0.000695 | loss 0.04311\n",
      "|epoch  17 |   362/  909 batches | lr 0.000695 | loss 0.04278\n",
      "|epoch  17 |   543/  909 batches | lr 0.000695 | loss 0.04314\n",
      "|epoch  17 |   724/  909 batches | lr 0.000695 | loss 0.04311\n",
      "|epoch  17 |   905/  909 batches | lr 0.000695 | loss 0.04290\n"
     ]
    },
    {
     "name": "stderr",
     "output_type": "stream",
     "text": [
      "100%|██████████| 390/390 [00:11<00:00, 34.17it/s]\n"
     ]
    },
    {
     "name": "stdout",
     "output_type": "stream",
     "text": [
      "---------------------------------------------------------------------------\n",
      "| end of epoch  17 | time: 87.93s | valid loss 0.00010 | valid ppl     1.00 |\n",
      "---------------------------------------------------------------------------\n",
      "|epoch  18 |     0/  909 batches | lr 0.000681 | loss 0.00024\n",
      "|epoch  18 |   181/  909 batches | lr 0.000681 | loss 0.04296\n",
      "|epoch  18 |   362/  909 batches | lr 0.000681 | loss 0.04287\n",
      "|epoch  18 |   543/  909 batches | lr 0.000681 | loss 0.04302\n",
      "|epoch  18 |   724/  909 batches | lr 0.000681 | loss 0.04305\n",
      "|epoch  18 |   905/  909 batches | lr 0.000681 | loss 0.04315\n"
     ]
    },
    {
     "name": "stderr",
     "output_type": "stream",
     "text": [
      "100%|██████████| 390/390 [00:11<00:00, 34.54it/s]\n"
     ]
    },
    {
     "name": "stdout",
     "output_type": "stream",
     "text": [
      "---------------------------------------------------------------------------\n",
      "| end of epoch  18 | time: 87.49s | valid loss 0.00010 | valid ppl     1.00 |\n",
      "---------------------------------------------------------------------------\n",
      "|epoch  19 |     0/  909 batches | lr 0.000668 | loss 0.00024\n",
      "|epoch  19 |   181/  909 batches | lr 0.000668 | loss 0.04313\n",
      "|epoch  19 |   362/  909 batches | lr 0.000668 | loss 0.04291\n",
      "|epoch  19 |   543/  909 batches | lr 0.000668 | loss 0.04305\n",
      "|epoch  19 |   724/  909 batches | lr 0.000668 | loss 0.04284\n",
      "|epoch  19 |   905/  909 batches | lr 0.000668 | loss 0.04303\n"
     ]
    },
    {
     "name": "stderr",
     "output_type": "stream",
     "text": [
      "100%|██████████| 390/390 [00:11<00:00, 34.09it/s]\n"
     ]
    },
    {
     "name": "stdout",
     "output_type": "stream",
     "text": [
      "---------------------------------------------------------------------------\n",
      "| end of epoch  19 | time: 87.92s | valid loss 0.00010 | valid ppl     1.00 |\n",
      "---------------------------------------------------------------------------\n",
      "|epoch  20 |     0/  909 batches | lr 0.000654 | loss 0.00024\n",
      "|epoch  20 |   181/  909 batches | lr 0.000654 | loss 0.04287\n",
      "|epoch  20 |   362/  909 batches | lr 0.000654 | loss 0.04311\n",
      "|epoch  20 |   543/  909 batches | lr 0.000654 | loss 0.04307\n",
      "|epoch  20 |   724/  909 batches | lr 0.000654 | loss 0.04294\n",
      "|epoch  20 |   905/  909 batches | lr 0.000654 | loss 0.04286\n"
     ]
    },
    {
     "name": "stderr",
     "output_type": "stream",
     "text": [
      "100%|██████████| 390/390 [00:11<00:00, 34.03it/s]\n"
     ]
    },
    {
     "name": "stdout",
     "output_type": "stream",
     "text": [
      "---------------------------------------------------------------------------\n",
      "| end of epoch  20 | time: 87.66s | valid loss 0.00010 | valid ppl     1.00 |\n",
      "---------------------------------------------------------------------------\n",
      "|epoch  21 |     0/  909 batches | lr 0.000641 | loss 0.00025\n",
      "|epoch  21 |   181/  909 batches | lr 0.000641 | loss 0.04309\n",
      "|epoch  21 |   362/  909 batches | lr 0.000641 | loss 0.04297\n",
      "|epoch  21 |   543/  909 batches | lr 0.000641 | loss 0.04303\n",
      "|epoch  21 |   724/  909 batches | lr 0.000641 | loss 0.04303\n",
      "|epoch  21 |   905/  909 batches | lr 0.000641 | loss 0.04266\n"
     ]
    },
    {
     "name": "stderr",
     "output_type": "stream",
     "text": [
      "100%|██████████| 390/390 [00:11<00:00, 34.17it/s]\n"
     ]
    },
    {
     "name": "stdout",
     "output_type": "stream",
     "text": [
      "---------------------------------------------------------------------------\n",
      "| end of epoch  21 | time: 87.91s | valid loss 0.00010 | valid ppl     1.00 |\n",
      "---------------------------------------------------------------------------\n",
      "|epoch  22 |     0/  909 batches | lr 0.000628 | loss 0.00023\n",
      "|epoch  22 |   181/  909 batches | lr 0.000628 | loss 0.04292\n",
      "|epoch  22 |   362/  909 batches | lr 0.000628 | loss 0.04295\n",
      "|epoch  22 |   543/  909 batches | lr 0.000628 | loss 0.04280\n",
      "|epoch  22 |   724/  909 batches | lr 0.000628 | loss 0.04298\n",
      "|epoch  22 |   905/  909 batches | lr 0.000628 | loss 0.04309\n"
     ]
    },
    {
     "name": "stderr",
     "output_type": "stream",
     "text": [
      "100%|██████████| 390/390 [00:11<00:00, 34.57it/s]\n"
     ]
    },
    {
     "name": "stdout",
     "output_type": "stream",
     "text": [
      "---------------------------------------------------------------------------\n",
      "| end of epoch  22 | time: 87.60s | valid loss 0.00010 | valid ppl     1.00 |\n",
      "---------------------------------------------------------------------------\n",
      "|epoch  23 |     0/  909 batches | lr 0.000616 | loss 0.00023\n",
      "|epoch  23 |   181/  909 batches | lr 0.000616 | loss 0.04290\n",
      "|epoch  23 |   362/  909 batches | lr 0.000616 | loss 0.04275\n",
      "|epoch  23 |   543/  909 batches | lr 0.000616 | loss 0.04289\n",
      "|epoch  23 |   724/  909 batches | lr 0.000616 | loss 0.04311\n",
      "|epoch  23 |   905/  909 batches | lr 0.000616 | loss 0.04315\n"
     ]
    },
    {
     "name": "stderr",
     "output_type": "stream",
     "text": [
      "100%|██████████| 390/390 [00:11<00:00, 34.48it/s]\n"
     ]
    },
    {
     "name": "stdout",
     "output_type": "stream",
     "text": [
      "---------------------------------------------------------------------------\n",
      "| end of epoch  23 | time: 87.59s | valid loss 0.00010 | valid ppl     1.00 |\n",
      "---------------------------------------------------------------------------\n",
      "|epoch  24 |     0/  909 batches | lr 0.000603 | loss 0.00023\n",
      "|epoch  24 |   181/  909 batches | lr 0.000603 | loss 0.04302\n",
      "|epoch  24 |   362/  909 batches | lr 0.000603 | loss 0.04302\n",
      "|epoch  24 |   543/  909 batches | lr 0.000603 | loss 0.04291\n",
      "|epoch  24 |   724/  909 batches | lr 0.000603 | loss 0.04283\n",
      "|epoch  24 |   905/  909 batches | lr 0.000603 | loss 0.04296\n"
     ]
    },
    {
     "name": "stderr",
     "output_type": "stream",
     "text": [
      "100%|██████████| 390/390 [00:13<00:00, 29.93it/s]\n"
     ]
    },
    {
     "name": "stdout",
     "output_type": "stream",
     "text": [
      "---------------------------------------------------------------------------\n",
      "| end of epoch  24 | time: 91.08s | valid loss 0.00010 | valid ppl     1.00 |\n",
      "---------------------------------------------------------------------------\n",
      "|epoch  25 |     0/  909 batches | lr 0.000591 | loss 0.00023\n",
      "|epoch  25 |   181/  909 batches | lr 0.000591 | loss 0.04310\n",
      "|epoch  25 |   362/  909 batches | lr 0.000591 | loss 0.04304\n",
      "|epoch  25 |   543/  909 batches | lr 0.000591 | loss 0.04288\n",
      "|epoch  25 |   724/  909 batches | lr 0.000591 | loss 0.04267\n",
      "|epoch  25 |   905/  909 batches | lr 0.000591 | loss 0.04307\n"
     ]
    },
    {
     "name": "stderr",
     "output_type": "stream",
     "text": [
      "100%|██████████| 390/390 [00:13<00:00, 29.77it/s]\n"
     ]
    },
    {
     "name": "stdout",
     "output_type": "stream",
     "text": [
      "---------------------------------------------------------------------------\n",
      "| end of epoch  25 | time: 92.81s | valid loss 0.00010 | valid ppl     1.00 |\n",
      "---------------------------------------------------------------------------\n",
      "|epoch  26 |     0/  909 batches | lr 0.000580 | loss 0.00023\n",
      "|epoch  26 |   181/  909 batches | lr 0.000580 | loss 0.04298\n",
      "|epoch  26 |   362/  909 batches | lr 0.000580 | loss 0.04277\n",
      "|epoch  26 |   543/  909 batches | lr 0.000580 | loss 0.04309\n",
      "|epoch  26 |   724/  909 batches | lr 0.000580 | loss 0.04296\n",
      "|epoch  26 |   905/  909 batches | lr 0.000580 | loss 0.04286\n"
     ]
    },
    {
     "name": "stderr",
     "output_type": "stream",
     "text": [
      "100%|██████████| 390/390 [00:13<00:00, 29.87it/s]\n"
     ]
    },
    {
     "name": "stdout",
     "output_type": "stream",
     "text": [
      "---------------------------------------------------------------------------\n",
      "| end of epoch  26 | time: 93.15s | valid loss 0.00010 | valid ppl     1.00 |\n",
      "---------------------------------------------------------------------------\n",
      "|epoch  27 |     0/  909 batches | lr 0.000568 | loss 0.00024\n",
      "|epoch  27 |   181/  909 batches | lr 0.000568 | loss 0.04295\n",
      "|epoch  27 |   362/  909 batches | lr 0.000568 | loss 0.04292\n",
      "|epoch  27 |   543/  909 batches | lr 0.000568 | loss 0.04297\n",
      "|epoch  27 |   724/  909 batches | lr 0.000568 | loss 0.04295\n",
      "|epoch  27 |   905/  909 batches | lr 0.000568 | loss 0.04290\n"
     ]
    },
    {
     "name": "stderr",
     "output_type": "stream",
     "text": [
      "100%|██████████| 390/390 [00:13<00:00, 29.57it/s]\n"
     ]
    },
    {
     "name": "stdout",
     "output_type": "stream",
     "text": [
      "---------------------------------------------------------------------------\n",
      "| end of epoch  27 | time: 92.87s | valid loss 0.00010 | valid ppl     1.00 |\n",
      "---------------------------------------------------------------------------\n",
      "|epoch  28 |     0/  909 batches | lr 0.000557 | loss 0.00023\n",
      "|epoch  28 |   181/  909 batches | lr 0.000557 | loss 0.04281\n",
      "|epoch  28 |   362/  909 batches | lr 0.000557 | loss 0.04313\n",
      "|epoch  28 |   543/  909 batches | lr 0.000557 | loss 0.04308\n",
      "|epoch  28 |   724/  909 batches | lr 0.000557 | loss 0.04273\n",
      "|epoch  28 |   905/  909 batches | lr 0.000557 | loss 0.04292\n"
     ]
    },
    {
     "name": "stderr",
     "output_type": "stream",
     "text": [
      "100%|██████████| 390/390 [00:12<00:00, 30.02it/s]\n"
     ]
    },
    {
     "name": "stdout",
     "output_type": "stream",
     "text": [
      "---------------------------------------------------------------------------\n",
      "| end of epoch  28 | time: 92.59s | valid loss 0.00010 | valid ppl     1.00 |\n",
      "---------------------------------------------------------------------------\n",
      "|epoch  29 |     0/  909 batches | lr 0.000545 | loss 0.00024\n",
      "|epoch  29 |   181/  909 batches | lr 0.000545 | loss 0.04302\n",
      "|epoch  29 |   362/  909 batches | lr 0.000545 | loss 0.04286\n",
      "|epoch  29 |   543/  909 batches | lr 0.000545 | loss 0.04304\n",
      "|epoch  29 |   724/  909 batches | lr 0.000545 | loss 0.04281\n",
      "|epoch  29 |   905/  909 batches | lr 0.000545 | loss 0.04287\n"
     ]
    },
    {
     "name": "stderr",
     "output_type": "stream",
     "text": [
      "100%|██████████| 390/390 [00:13<00:00, 29.62it/s]\n"
     ]
    },
    {
     "name": "stdout",
     "output_type": "stream",
     "text": [
      "---------------------------------------------------------------------------\n",
      "| end of epoch  29 | time: 93.16s | valid loss 0.00010 | valid ppl     1.00 |\n",
      "---------------------------------------------------------------------------\n",
      "|epoch  30 |     0/  909 batches | lr 0.000535 | loss 0.00024\n",
      "|epoch  30 |   181/  909 batches | lr 0.000535 | loss 0.04290\n",
      "|epoch  30 |   362/  909 batches | lr 0.000535 | loss 0.04300\n",
      "|epoch  30 |   543/  909 batches | lr 0.000535 | loss 0.04280\n",
      "|epoch  30 |   724/  909 batches | lr 0.000535 | loss 0.04305\n",
      "|epoch  30 |   905/  909 batches | lr 0.000535 | loss 0.04283\n"
     ]
    },
    {
     "name": "stderr",
     "output_type": "stream",
     "text": [
      "100%|██████████| 390/390 [00:13<00:00, 29.72it/s]\n"
     ]
    },
    {
     "name": "stdout",
     "output_type": "stream",
     "text": [
      "---------------------------------------------------------------------------\n",
      "| end of epoch  30 | time: 93.08s | valid loss 0.00010 | valid ppl     1.00 |\n",
      "---------------------------------------------------------------------------\n",
      "|epoch  31 |     0/  909 batches | lr 0.000524 | loss 0.00025\n",
      "|epoch  31 |   181/  909 batches | lr 0.000524 | loss 0.04310\n",
      "|epoch  31 |   362/  909 batches | lr 0.000524 | loss 0.04292\n",
      "|epoch  31 |   543/  909 batches | lr 0.000524 | loss 0.04295\n",
      "|epoch  31 |   724/  909 batches | lr 0.000524 | loss 0.04264\n",
      "|epoch  31 |   905/  909 batches | lr 0.000524 | loss 0.04295\n"
     ]
    },
    {
     "name": "stderr",
     "output_type": "stream",
     "text": [
      "100%|██████████| 390/390 [00:13<00:00, 29.86it/s]\n"
     ]
    },
    {
     "name": "stdout",
     "output_type": "stream",
     "text": [
      "---------------------------------------------------------------------------\n",
      "| end of epoch  31 | time: 93.04s | valid loss 0.00010 | valid ppl     1.00 |\n",
      "---------------------------------------------------------------------------\n",
      "|epoch  32 |     0/  909 batches | lr 0.000513 | loss 0.00023\n",
      "|epoch  32 |   181/  909 batches | lr 0.000513 | loss 0.04306\n",
      "|epoch  32 |   362/  909 batches | lr 0.000513 | loss 0.04294\n",
      "|epoch  32 |   543/  909 batches | lr 0.000513 | loss 0.04288\n",
      "|epoch  32 |   724/  909 batches | lr 0.000513 | loss 0.04285\n",
      "|epoch  32 |   905/  909 batches | lr 0.000513 | loss 0.04282\n"
     ]
    },
    {
     "name": "stderr",
     "output_type": "stream",
     "text": [
      "100%|██████████| 390/390 [00:12<00:00, 30.18it/s]\n"
     ]
    },
    {
     "name": "stdout",
     "output_type": "stream",
     "text": [
      "---------------------------------------------------------------------------\n",
      "| end of epoch  32 | time: 92.61s | valid loss 0.00010 | valid ppl     1.00 |\n",
      "---------------------------------------------------------------------------\n",
      "|epoch  33 |     0/  909 batches | lr 0.000503 | loss 0.00024\n",
      "|epoch  33 |   181/  909 batches | lr 0.000503 | loss 0.04283\n",
      "|epoch  33 |   362/  909 batches | lr 0.000503 | loss 0.04295\n",
      "|epoch  33 |   543/  909 batches | lr 0.000503 | loss 0.04297\n",
      "|epoch  33 |   724/  909 batches | lr 0.000503 | loss 0.04296\n",
      "|epoch  33 |   905/  909 batches | lr 0.000503 | loss 0.04281\n"
     ]
    },
    {
     "name": "stderr",
     "output_type": "stream",
     "text": [
      "100%|██████████| 390/390 [00:12<00:00, 30.60it/s]\n"
     ]
    },
    {
     "name": "stdout",
     "output_type": "stream",
     "text": [
      "---------------------------------------------------------------------------\n",
      "| end of epoch  33 | time: 91.60s | valid loss 0.00010 | valid ppl     1.00 |\n",
      "---------------------------------------------------------------------------\n",
      "|epoch  34 |     0/  909 batches | lr 0.000493 | loss 0.00023\n",
      "|epoch  34 |   181/  909 batches | lr 0.000493 | loss 0.04287\n",
      "|epoch  34 |   362/  909 batches | lr 0.000493 | loss 0.04281\n",
      "|epoch  34 |   543/  909 batches | lr 0.000493 | loss 0.04298\n",
      "|epoch  34 |   724/  909 batches | lr 0.000493 | loss 0.04289\n",
      "|epoch  34 |   905/  909 batches | lr 0.000493 | loss 0.04293\n"
     ]
    },
    {
     "name": "stderr",
     "output_type": "stream",
     "text": [
      "100%|██████████| 390/390 [00:12<00:00, 30.22it/s]\n"
     ]
    },
    {
     "name": "stdout",
     "output_type": "stream",
     "text": [
      "---------------------------------------------------------------------------\n",
      "| end of epoch  34 | time: 92.26s | valid loss 0.00010 | valid ppl     1.00 |\n",
      "---------------------------------------------------------------------------\n",
      "|epoch  35 |     0/  909 batches | lr 0.000483 | loss 0.00025\n",
      "|epoch  35 |   181/  909 batches | lr 0.000483 | loss 0.04264\n",
      "|epoch  35 |   362/  909 batches | lr 0.000483 | loss 0.04306\n",
      "|epoch  35 |   543/  909 batches | lr 0.000483 | loss 0.04301\n",
      "|epoch  35 |   724/  909 batches | lr 0.000483 | loss 0.04291\n",
      "|epoch  35 |   905/  909 batches | lr 0.000483 | loss 0.04287\n"
     ]
    },
    {
     "name": "stderr",
     "output_type": "stream",
     "text": [
      "100%|██████████| 390/390 [00:12<00:00, 31.16it/s]\n"
     ]
    },
    {
     "name": "stdout",
     "output_type": "stream",
     "text": [
      "---------------------------------------------------------------------------\n",
      "| end of epoch  35 | time: 91.28s | valid loss 0.00010 | valid ppl     1.00 |\n",
      "---------------------------------------------------------------------------\n",
      "|epoch  36 |     0/  909 batches | lr 0.000474 | loss 0.00025\n",
      "|epoch  36 |   181/  909 batches | lr 0.000474 | loss 0.04321\n",
      "|epoch  36 |   362/  909 batches | lr 0.000474 | loss 0.04292\n",
      "|epoch  36 |   543/  909 batches | lr 0.000474 | loss 0.04278\n",
      "|epoch  36 |   724/  909 batches | lr 0.000474 | loss 0.04272\n",
      "|epoch  36 |   905/  909 batches | lr 0.000474 | loss 0.04287\n"
     ]
    },
    {
     "name": "stderr",
     "output_type": "stream",
     "text": [
      "100%|██████████| 390/390 [00:12<00:00, 30.40it/s]\n"
     ]
    },
    {
     "name": "stdout",
     "output_type": "stream",
     "text": [
      "---------------------------------------------------------------------------\n",
      "| end of epoch  36 | time: 91.69s | valid loss 0.00010 | valid ppl     1.00 |\n",
      "---------------------------------------------------------------------------\n",
      "|epoch  37 |     0/  909 batches | lr 0.000464 | loss 0.00024\n",
      "|epoch  37 |   181/  909 batches | lr 0.000464 | loss 0.04281\n",
      "|epoch  37 |   362/  909 batches | lr 0.000464 | loss 0.04309\n",
      "|epoch  37 |   543/  909 batches | lr 0.000464 | loss 0.04279\n",
      "|epoch  37 |   724/  909 batches | lr 0.000464 | loss 0.04303\n",
      "|epoch  37 |   905/  909 batches | lr 0.000464 | loss 0.04279\n"
     ]
    },
    {
     "name": "stderr",
     "output_type": "stream",
     "text": [
      "100%|██████████| 390/390 [00:12<00:00, 30.74it/s]\n"
     ]
    },
    {
     "name": "stdout",
     "output_type": "stream",
     "text": [
      "---------------------------------------------------------------------------\n",
      "| end of epoch  37 | time: 91.05s | valid loss 0.00010 | valid ppl     1.00 |\n",
      "---------------------------------------------------------------------------\n",
      "|epoch  38 |     0/  909 batches | lr 0.000455 | loss 0.00024\n",
      "|epoch  38 |   181/  909 batches | lr 0.000455 | loss 0.04276\n",
      "|epoch  38 |   362/  909 batches | lr 0.000455 | loss 0.04301\n",
      "|epoch  38 |   543/  909 batches | lr 0.000455 | loss 0.04282\n",
      "|epoch  38 |   724/  909 batches | lr 0.000455 | loss 0.04292\n",
      "|epoch  38 |   905/  909 batches | lr 0.000455 | loss 0.04291\n"
     ]
    },
    {
     "name": "stderr",
     "output_type": "stream",
     "text": [
      "100%|██████████| 390/390 [00:12<00:00, 30.51it/s]\n"
     ]
    },
    {
     "name": "stdout",
     "output_type": "stream",
     "text": [
      "---------------------------------------------------------------------------\n",
      "| end of epoch  38 | time: 92.03s | valid loss 0.00010 | valid ppl     1.00 |\n",
      "---------------------------------------------------------------------------\n",
      "|epoch  39 |     0/  909 batches | lr 0.000446 | loss 0.00024\n",
      "|epoch  39 |   181/  909 batches | lr 0.000446 | loss 0.04279\n",
      "|epoch  39 |   362/  909 batches | lr 0.000446 | loss 0.04312\n",
      "|epoch  39 |   543/  909 batches | lr 0.000446 | loss 0.04255\n",
      "|epoch  39 |   724/  909 batches | lr 0.000446 | loss 0.04282\n",
      "|epoch  39 |   905/  909 batches | lr 0.000446 | loss 0.04314\n"
     ]
    },
    {
     "name": "stderr",
     "output_type": "stream",
     "text": [
      "100%|██████████| 390/390 [00:12<00:00, 30.70it/s]\n"
     ]
    },
    {
     "name": "stdout",
     "output_type": "stream",
     "text": [
      "---------------------------------------------------------------------------\n",
      "| end of epoch  39 | time: 91.25s | valid loss 0.00010 | valid ppl     1.00 |\n",
      "---------------------------------------------------------------------------\n",
      "|epoch  40 |     0/  909 batches | lr 0.000437 | loss 0.00023\n",
      "|epoch  40 |   181/  909 batches | lr 0.000437 | loss 0.04268\n",
      "|epoch  40 |   362/  909 batches | lr 0.000437 | loss 0.04299\n",
      "|epoch  40 |   543/  909 batches | lr 0.000437 | loss 0.04270\n",
      "|epoch  40 |   724/  909 batches | lr 0.000437 | loss 0.04304\n",
      "|epoch  40 |   905/  909 batches | lr 0.000437 | loss 0.04305\n"
     ]
    },
    {
     "name": "stderr",
     "output_type": "stream",
     "text": [
      "100%|██████████| 390/390 [00:13<00:00, 29.87it/s]\n"
     ]
    },
    {
     "name": "stdout",
     "output_type": "stream",
     "text": [
      "---------------------------------------------------------------------------\n",
      "| end of epoch  40 | time: 92.22s | valid loss 0.00010 | valid ppl     1.00 |\n",
      "---------------------------------------------------------------------------\n",
      "|epoch  41 |     0/  909 batches | lr 0.000428 | loss 0.00025\n",
      "|epoch  41 |   181/  909 batches | lr 0.000428 | loss 0.04293\n",
      "|epoch  41 |   362/  909 batches | lr 0.000428 | loss 0.04275\n",
      "|epoch  41 |   543/  909 batches | lr 0.000428 | loss 0.04294\n",
      "|epoch  41 |   724/  909 batches | lr 0.000428 | loss 0.04287\n",
      "|epoch  41 |   905/  909 batches | lr 0.000428 | loss 0.04290\n"
     ]
    },
    {
     "name": "stderr",
     "output_type": "stream",
     "text": [
      "100%|██████████| 390/390 [00:12<00:00, 30.27it/s]\n"
     ]
    },
    {
     "name": "stdout",
     "output_type": "stream",
     "text": [
      "---------------------------------------------------------------------------\n",
      "| end of epoch  41 | time: 92.26s | valid loss 0.00010 | valid ppl     1.00 |\n",
      "---------------------------------------------------------------------------\n",
      "|epoch  42 |     0/  909 batches | lr 0.000419 | loss 0.00023\n",
      "|epoch  42 |   181/  909 batches | lr 0.000419 | loss 0.04309\n",
      "|epoch  42 |   362/  909 batches | lr 0.000419 | loss 0.04297\n",
      "|epoch  42 |   543/  909 batches | lr 0.000419 | loss 0.04266\n",
      "|epoch  42 |   724/  909 batches | lr 0.000419 | loss 0.04297\n",
      "|epoch  42 |   905/  909 batches | lr 0.000419 | loss 0.04276\n"
     ]
    },
    {
     "name": "stderr",
     "output_type": "stream",
     "text": [
      "100%|██████████| 390/390 [00:12<00:00, 30.47it/s]\n"
     ]
    },
    {
     "name": "stdout",
     "output_type": "stream",
     "text": [
      "---------------------------------------------------------------------------\n",
      "| end of epoch  42 | time: 92.22s | valid loss 0.00010 | valid ppl     1.00 |\n",
      "---------------------------------------------------------------------------\n",
      "|epoch  43 |     0/  909 batches | lr 0.000411 | loss 0.00024\n",
      "|epoch  43 |   181/  909 batches | lr 0.000411 | loss 0.04300\n",
      "|epoch  43 |   362/  909 batches | lr 0.000411 | loss 0.04296\n",
      "|epoch  43 |   543/  909 batches | lr 0.000411 | loss 0.04286\n",
      "|epoch  43 |   724/  909 batches | lr 0.000411 | loss 0.04269\n",
      "|epoch  43 |   905/  909 batches | lr 0.000411 | loss 0.04291\n"
     ]
    },
    {
     "name": "stderr",
     "output_type": "stream",
     "text": [
      "100%|██████████| 390/390 [00:12<00:00, 30.46it/s]\n"
     ]
    },
    {
     "name": "stdout",
     "output_type": "stream",
     "text": [
      "---------------------------------------------------------------------------\n",
      "| end of epoch  43 | time: 92.20s | valid loss 0.00010 | valid ppl     1.00 |\n",
      "---------------------------------------------------------------------------\n",
      "|epoch  44 |     0/  909 batches | lr 0.000403 | loss 0.00024\n",
      "|epoch  44 |   181/  909 batches | lr 0.000403 | loss 0.04293\n",
      "|epoch  44 |   362/  909 batches | lr 0.000403 | loss 0.04282\n",
      "|epoch  44 |   543/  909 batches | lr 0.000403 | loss 0.04285\n",
      "|epoch  44 |   724/  909 batches | lr 0.000403 | loss 0.04281\n",
      "|epoch  44 |   905/  909 batches | lr 0.000403 | loss 0.04291\n"
     ]
    },
    {
     "name": "stderr",
     "output_type": "stream",
     "text": [
      "100%|██████████| 390/390 [00:12<00:00, 30.17it/s]\n"
     ]
    },
    {
     "name": "stdout",
     "output_type": "stream",
     "text": [
      "---------------------------------------------------------------------------\n",
      "| end of epoch  44 | time: 92.54s | valid loss 0.00010 | valid ppl     1.00 |\n",
      "---------------------------------------------------------------------------\n",
      "|epoch  45 |     0/  909 batches | lr 0.000395 | loss 0.00023\n",
      "|epoch  45 |   181/  909 batches | lr 0.000395 | loss 0.04287\n",
      "|epoch  45 |   362/  909 batches | lr 0.000395 | loss 0.04306\n",
      "|epoch  45 |   543/  909 batches | lr 0.000395 | loss 0.04285\n",
      "|epoch  45 |   724/  909 batches | lr 0.000395 | loss 0.04276\n",
      "|epoch  45 |   905/  909 batches | lr 0.000395 | loss 0.04285\n"
     ]
    },
    {
     "name": "stderr",
     "output_type": "stream",
     "text": [
      "100%|██████████| 390/390 [00:12<00:00, 32.44it/s]\n"
     ]
    },
    {
     "name": "stdout",
     "output_type": "stream",
     "text": [
      "---------------------------------------------------------------------------\n",
      "| end of epoch  45 | time: 90.22s | valid loss 0.00010 | valid ppl     1.00 |\n",
      "---------------------------------------------------------------------------\n",
      "|epoch  46 |     0/  909 batches | lr 0.000387 | loss 0.00025\n",
      "|epoch  46 |   181/  909 batches | lr 0.000387 | loss 0.04277\n",
      "|epoch  46 |   362/  909 batches | lr 0.000387 | loss 0.04306\n",
      "|epoch  46 |   543/  909 batches | lr 0.000387 | loss 0.04256\n",
      "|epoch  46 |   724/  909 batches | lr 0.000387 | loss 0.04309\n",
      "|epoch  46 |   905/  909 batches | lr 0.000387 | loss 0.04284\n"
     ]
    },
    {
     "name": "stderr",
     "output_type": "stream",
     "text": [
      "100%|██████████| 390/390 [00:11<00:00, 33.97it/s]\n"
     ]
    },
    {
     "name": "stdout",
     "output_type": "stream",
     "text": [
      "---------------------------------------------------------------------------\n",
      "| end of epoch  46 | time: 88.74s | valid loss 0.00010 | valid ppl     1.00 |\n",
      "---------------------------------------------------------------------------\n",
      "|epoch  47 |     0/  909 batches | lr 0.000379 | loss 0.00023\n",
      "|epoch  47 |   181/  909 batches | lr 0.000379 | loss 0.04289\n",
      "|epoch  47 |   362/  909 batches | lr 0.000379 | loss 0.04277\n",
      "|epoch  47 |   543/  909 batches | lr 0.000379 | loss 0.04295\n",
      "|epoch  47 |   724/  909 batches | lr 0.000379 | loss 0.04287\n",
      "|epoch  47 |   905/  909 batches | lr 0.000379 | loss 0.04287\n"
     ]
    },
    {
     "name": "stderr",
     "output_type": "stream",
     "text": [
      "100%|██████████| 390/390 [00:11<00:00, 34.22it/s]\n"
     ]
    },
    {
     "name": "stdout",
     "output_type": "stream",
     "text": [
      "---------------------------------------------------------------------------\n",
      "| end of epoch  47 | time: 87.88s | valid loss 0.00010 | valid ppl     1.00 |\n",
      "---------------------------------------------------------------------------\n",
      "|epoch  48 |     0/  909 batches | lr 0.000372 | loss 0.00023\n",
      "|epoch  48 |   181/  909 batches | lr 0.000372 | loss 0.04294\n",
      "|epoch  48 |   362/  909 batches | lr 0.000372 | loss 0.04289\n",
      "|epoch  48 |   543/  909 batches | lr 0.000372 | loss 0.04297\n",
      "|epoch  48 |   724/  909 batches | lr 0.000372 | loss 0.04279\n",
      "|epoch  48 |   905/  909 batches | lr 0.000372 | loss 0.04276\n"
     ]
    },
    {
     "name": "stderr",
     "output_type": "stream",
     "text": [
      "100%|██████████| 390/390 [00:11<00:00, 33.79it/s]\n"
     ]
    },
    {
     "name": "stdout",
     "output_type": "stream",
     "text": [
      "---------------------------------------------------------------------------\n",
      "| end of epoch  48 | time: 87.87s | valid loss 0.00010 | valid ppl     1.00 |\n",
      "---------------------------------------------------------------------------\n",
      "|epoch  49 |     0/  909 batches | lr 0.000364 | loss 0.00023\n",
      "|epoch  49 |   181/  909 batches | lr 0.000364 | loss 0.04281\n",
      "|epoch  49 |   362/  909 batches | lr 0.000364 | loss 0.04299\n",
      "|epoch  49 |   543/  909 batches | lr 0.000364 | loss 0.04284\n",
      "|epoch  49 |   724/  909 batches | lr 0.000364 | loss 0.04283\n",
      "|epoch  49 |   905/  909 batches | lr 0.000364 | loss 0.04286\n"
     ]
    },
    {
     "name": "stderr",
     "output_type": "stream",
     "text": [
      "100%|██████████| 390/390 [00:11<00:00, 34.57it/s]\n"
     ]
    },
    {
     "name": "stdout",
     "output_type": "stream",
     "text": [
      "---------------------------------------------------------------------------\n",
      "| end of epoch  49 | time: 87.59s | valid loss 0.00010 | valid ppl     1.00 |\n",
      "---------------------------------------------------------------------------\n",
      "|epoch  50 |     0/  909 batches | lr 0.000357 | loss 0.00023\n",
      "|epoch  50 |   181/  909 batches | lr 0.000357 | loss 0.04286\n",
      "|epoch  50 |   362/  909 batches | lr 0.000357 | loss 0.04292\n",
      "|epoch  50 |   543/  909 batches | lr 0.000357 | loss 0.04282\n",
      "|epoch  50 |   724/  909 batches | lr 0.000357 | loss 0.04290\n",
      "|epoch  50 |   905/  909 batches | lr 0.000357 | loss 0.04280\n"
     ]
    },
    {
     "name": "stderr",
     "output_type": "stream",
     "text": [
      "100%|██████████| 390/390 [13:39<00:00,  2.10s/it]\n"
     ]
    },
    {
     "data": {
      "image/png": "[encoded data removed]",
      "text/plain": [
       "<Figure size 640x480 with 1 Axes>"
      ]
     },
     "metadata": {},
     "output_type": "display_data"
    },
    {
     "name": "stdout",
     "output_type": "stream",
     "text": [
      "---------------------------------------------------------------------------\n",
      "| end of epoch  50 | time: 897.49s | valid loss 26.72745 | valid ppl 405119384331.24 |\n",
      "---------------------------------------------------------------------------\n",
      "|epoch  51 |     0/  909 batches | lr 0.000350 | loss 0.00023\n",
      "|epoch  51 |   181/  909 batches | lr 0.000350 | loss 0.04278\n",
      "|epoch  51 |   362/  909 batches | lr 0.000350 | loss 0.04292\n",
      "|epoch  51 |   543/  909 batches | lr 0.000350 | loss 0.04295\n",
      "|epoch  51 |   724/  909 batches | lr 0.000350 | loss 0.04291\n",
      "|epoch  51 |   905/  909 batches | lr 0.000350 | loss 0.04276\n"
     ]
    },
    {
     "name": "stderr",
     "output_type": "stream",
     "text": [
      "100%|██████████| 390/390 [00:11<00:00, 33.76it/s]\n"
     ]
    },
    {
     "name": "stdout",
     "output_type": "stream",
     "text": [
      "---------------------------------------------------------------------------\n",
      "| end of epoch  51 | time: 88.20s | valid loss 0.00010 | valid ppl     1.00 |\n",
      "---------------------------------------------------------------------------\n",
      "|epoch  52 |     0/  909 batches | lr 0.000343 | loss 0.00026\n",
      "|epoch  52 |   181/  909 batches | lr 0.000343 | loss 0.04276\n",
      "|epoch  52 |   362/  909 batches | lr 0.000343 | loss 0.04289\n",
      "|epoch  52 |   543/  909 batches | lr 0.000343 | loss 0.04295\n",
      "|epoch  52 |   724/  909 batches | lr 0.000343 | loss 0.04274\n",
      "|epoch  52 |   905/  909 batches | lr 0.000343 | loss 0.04293\n"
     ]
    },
    {
     "name": "stderr",
     "output_type": "stream",
     "text": [
      "100%|██████████| 390/390 [00:11<00:00, 34.53it/s]\n"
     ]
    },
    {
     "name": "stdout",
     "output_type": "stream",
     "text": [
      "---------------------------------------------------------------------------\n",
      "| end of epoch  52 | time: 86.63s | valid loss 0.00010 | valid ppl     1.00 |\n",
      "---------------------------------------------------------------------------\n",
      "|epoch  53 |     0/  909 batches | lr 0.000336 | loss 0.00025\n",
      "|epoch  53 |   181/  909 batches | lr 0.000336 | loss 0.04293\n",
      "|epoch  53 |   362/  909 batches | lr 0.000336 | loss 0.04275\n",
      "|epoch  53 |   543/  909 batches | lr 0.000336 | loss 0.04284\n",
      "|epoch  53 |   724/  909 batches | lr 0.000336 | loss 0.04288\n",
      "|epoch  53 |   905/  909 batches | lr 0.000336 | loss 0.04290\n"
     ]
    },
    {
     "name": "stderr",
     "output_type": "stream",
     "text": [
      "100%|██████████| 390/390 [00:11<00:00, 34.34it/s]\n"
     ]
    },
    {
     "name": "stdout",
     "output_type": "stream",
     "text": [
      "---------------------------------------------------------------------------\n",
      "| end of epoch  53 | time: 86.56s | valid loss 0.00010 | valid ppl     1.00 |\n",
      "---------------------------------------------------------------------------\n",
      "|epoch  54 |     0/  909 batches | lr 0.000329 | loss 0.00023\n",
      "|epoch  54 |   181/  909 batches | lr 0.000329 | loss 0.04288\n",
      "|epoch  54 |   362/  909 batches | lr 0.000329 | loss 0.04287\n",
      "|epoch  54 |   543/  909 batches | lr 0.000329 | loss 0.04270\n",
      "|epoch  54 |   724/  909 batches | lr 0.000329 | loss 0.04275\n",
      "|epoch  54 |   905/  909 batches | lr 0.000329 | loss 0.04307\n"
     ]
    },
    {
     "name": "stderr",
     "output_type": "stream",
     "text": [
      "100%|██████████| 390/390 [00:11<00:00, 34.70it/s]\n"
     ]
    },
    {
     "name": "stdout",
     "output_type": "stream",
     "text": [
      "---------------------------------------------------------------------------\n",
      "| end of epoch  54 | time: 86.32s | valid loss 0.00010 | valid ppl     1.00 |\n",
      "---------------------------------------------------------------------------\n",
      "|epoch  55 |     0/  909 batches | lr 0.000323 | loss 0.00024\n",
      "|epoch  55 |   181/  909 batches | lr 0.000323 | loss 0.04297\n",
      "|epoch  55 |   362/  909 batches | lr 0.000323 | loss 0.04276\n",
      "|epoch  55 |   543/  909 batches | lr 0.000323 | loss 0.04291\n",
      "|epoch  55 |   724/  909 batches | lr 0.000323 | loss 0.04295\n",
      "|epoch  55 |   905/  909 batches | lr 0.000323 | loss 0.04272\n"
     ]
    },
    {
     "name": "stderr",
     "output_type": "stream",
     "text": [
      "100%|██████████| 390/390 [00:11<00:00, 34.96it/s]\n"
     ]
    },
    {
     "name": "stdout",
     "output_type": "stream",
     "text": [
      "---------------------------------------------------------------------------\n",
      "| end of epoch  55 | time: 86.31s | valid loss 0.00010 | valid ppl     1.00 |\n",
      "---------------------------------------------------------------------------\n",
      "|epoch  56 |     0/  909 batches | lr 0.000316 | loss 0.00024\n",
      "|epoch  56 |   181/  909 batches | lr 0.000316 | loss 0.04280\n",
      "|epoch  56 |   362/  909 batches | lr 0.000316 | loss 0.04276\n",
      "|epoch  56 |   543/  909 batches | lr 0.000316 | loss 0.04278\n",
      "|epoch  56 |   724/  909 batches | lr 0.000316 | loss 0.04290\n",
      "|epoch  56 |   905/  909 batches | lr 0.000316 | loss 0.04305\n"
     ]
    },
    {
     "name": "stderr",
     "output_type": "stream",
     "text": [
      "100%|██████████| 390/390 [00:11<00:00, 35.06it/s]\n"
     ]
    },
    {
     "name": "stdout",
     "output_type": "stream",
     "text": [
      "---------------------------------------------------------------------------\n",
      "| end of epoch  56 | time: 86.30s | valid loss 0.00010 | valid ppl     1.00 |\n",
      "---------------------------------------------------------------------------\n",
      "|epoch  57 |     0/  909 batches | lr 0.000310 | loss 0.00023\n",
      "|epoch  57 |   181/  909 batches | lr 0.000310 | loss 0.04291\n",
      "|epoch  57 |   362/  909 batches | lr 0.000310 | loss 0.04278\n",
      "|epoch  57 |   543/  909 batches | lr 0.000310 | loss 0.04295\n",
      "|epoch  57 |   724/  909 batches | lr 0.000310 | loss 0.04293\n",
      "|epoch  57 |   905/  909 batches | lr 0.000310 | loss 0.04267\n"
     ]
    },
    {
     "name": "stderr",
     "output_type": "stream",
     "text": [
      "100%|██████████| 390/390 [00:11<00:00, 33.97it/s]\n"
     ]
    },
    {
     "name": "stdout",
     "output_type": "stream",
     "text": [
      "---------------------------------------------------------------------------\n",
      "| end of epoch  57 | time: 87.85s | valid loss 0.00010 | valid ppl     1.00 |\n",
      "---------------------------------------------------------------------------\n",
      "|epoch  58 |     0/  909 batches | lr 0.000304 | loss 0.00024\n",
      "|epoch  58 |   181/  909 batches | lr 0.000304 | loss 0.04275\n",
      "|epoch  58 |   362/  909 batches | lr 0.000304 | loss 0.04269\n",
      "|epoch  58 |   543/  909 batches | lr 0.000304 | loss 0.04298\n",
      "|epoch  58 |   724/  909 batches | lr 0.000304 | loss 0.04305\n",
      "|epoch  58 |   905/  909 batches | lr 0.000304 | loss 0.04276\n"
     ]
    },
    {
     "name": "stderr",
     "output_type": "stream",
     "text": [
      "100%|██████████| 390/390 [00:11<00:00, 34.09it/s]\n"
     ]
    },
    {
     "name": "stdout",
     "output_type": "stream",
     "text": [
      "---------------------------------------------------------------------------\n",
      "| end of epoch  58 | time: 88.13s | valid loss 0.00010 | valid ppl     1.00 |\n",
      "---------------------------------------------------------------------------\n",
      "|epoch  59 |     0/  909 batches | lr 0.000298 | loss 0.00022\n",
      "|epoch  59 |   181/  909 batches | lr 0.000298 | loss 0.04291\n",
      "|epoch  59 |   362/  909 batches | lr 0.000298 | loss 0.04293\n",
      "|epoch  59 |   543/  909 batches | lr 0.000298 | loss 0.04279\n",
      "|epoch  59 |   724/  909 batches | lr 0.000298 | loss 0.04277\n",
      "|epoch  59 |   905/  909 batches | lr 0.000298 | loss 0.04286\n"
     ]
    },
    {
     "name": "stderr",
     "output_type": "stream",
     "text": [
      "100%|██████████| 390/390 [00:11<00:00, 33.94it/s]\n"
     ]
    },
    {
     "name": "stdout",
     "output_type": "stream",
     "text": [
      "---------------------------------------------------------------------------\n",
      "| end of epoch  59 | time: 88.21s | valid loss 0.00010 | valid ppl     1.00 |\n",
      "---------------------------------------------------------------------------\n",
      "|epoch  60 |     0/  909 batches | lr 0.000292 | loss 0.00021\n",
      "|epoch  60 |   181/  909 batches | lr 0.000292 | loss 0.04292\n",
      "|epoch  60 |   362/  909 batches | lr 0.000292 | loss 0.04293\n",
      "|epoch  60 |   543/  909 batches | lr 0.000292 | loss 0.04281\n",
      "|epoch  60 |   724/  909 batches | lr 0.000292 | loss 0.04290\n",
      "|epoch  60 |   905/  909 batches | lr 0.000292 | loss 0.04272\n"
     ]
    },
    {
     "name": "stderr",
     "output_type": "stream",
     "text": [
      "100%|██████████| 390/390 [00:11<00:00, 34.54it/s]\n"
     ]
    },
    {
     "name": "stdout",
     "output_type": "stream",
     "text": [
      "---------------------------------------------------------------------------\n",
      "| end of epoch  60 | time: 87.52s | valid loss 0.00010 | valid ppl     1.00 |\n",
      "---------------------------------------------------------------------------\n",
      "|epoch  61 |     0/  909 batches | lr 0.000286 | loss 0.00023\n",
      "|epoch  61 |   181/  909 batches | lr 0.000286 | loss 0.04293\n",
      "|epoch  61 |   362/  909 batches | lr 0.000286 | loss 0.04271\n",
      "|epoch  61 |   543/  909 batches | lr 0.000286 | loss 0.04300\n",
      "|epoch  61 |   724/  909 batches | lr 0.000286 | loss 0.04284\n",
      "|epoch  61 |   905/  909 batches | lr 0.000286 | loss 0.04276\n"
     ]
    },
    {
     "name": "stderr",
     "output_type": "stream",
     "text": [
      "100%|██████████| 390/390 [00:11<00:00, 33.84it/s]\n"
     ]
    },
    {
     "name": "stdout",
     "output_type": "stream",
     "text": [
      "---------------------------------------------------------------------------\n",
      "| end of epoch  61 | time: 87.92s | valid loss 0.00010 | valid ppl     1.00 |\n",
      "---------------------------------------------------------------------------\n",
      "|epoch  62 |     0/  909 batches | lr 0.000280 | loss 0.00023\n",
      "|epoch  62 |   181/  909 batches | lr 0.000280 | loss 0.04282\n",
      "|epoch  62 |   362/  909 batches | lr 0.000280 | loss 0.04286\n",
      "|epoch  62 |   543/  909 batches | lr 0.000280 | loss 0.04270\n",
      "|epoch  62 |   724/  909 batches | lr 0.000280 | loss 0.04293\n",
      "|epoch  62 |   905/  909 batches | lr 0.000280 | loss 0.04291\n"
     ]
    },
    {
     "name": "stderr",
     "output_type": "stream",
     "text": [
      "100%|██████████| 390/390 [00:11<00:00, 34.56it/s]\n"
     ]
    },
    {
     "name": "stdout",
     "output_type": "stream",
     "text": [
      "---------------------------------------------------------------------------\n",
      "| end of epoch  62 | time: 87.15s | valid loss 0.00010 | valid ppl     1.00 |\n",
      "---------------------------------------------------------------------------\n",
      "|epoch  63 |     0/  909 batches | lr 0.000274 | loss 0.00025\n",
      "|epoch  63 |   181/  909 batches | lr 0.000274 | loss 0.04291\n",
      "|epoch  63 |   362/  909 batches | lr 0.000274 | loss 0.04287\n",
      "|epoch  63 |   543/  909 batches | lr 0.000274 | loss 0.04288\n",
      "|epoch  63 |   724/  909 batches | lr 0.000274 | loss 0.04262\n",
      "|epoch  63 |   905/  909 batches | lr 0.000274 | loss 0.04294\n"
     ]
    },
    {
     "name": "stderr",
     "output_type": "stream",
     "text": [
      "100%|██████████| 390/390 [00:11<00:00, 35.00it/s]\n"
     ]
    },
    {
     "name": "stdout",
     "output_type": "stream",
     "text": [
      "---------------------------------------------------------------------------\n",
      "| end of epoch  63 | time: 86.46s | valid loss 0.00010 | valid ppl     1.00 |\n",
      "---------------------------------------------------------------------------\n",
      "|epoch  64 |     0/  909 batches | lr 0.000269 | loss 0.00024\n",
      "|epoch  64 |   181/  909 batches | lr 0.000269 | loss 0.04284\n",
      "|epoch  64 |   362/  909 batches | lr 0.000269 | loss 0.04278\n",
      "|epoch  64 |   543/  909 batches | lr 0.000269 | loss 0.04299\n",
      "|epoch  64 |   724/  909 batches | lr 0.000269 | loss 0.04284\n",
      "|epoch  64 |   905/  909 batches | lr 0.000269 | loss 0.04273\n"
     ]
    },
    {
     "name": "stderr",
     "output_type": "stream",
     "text": [
      "100%|██████████| 390/390 [00:11<00:00, 34.39it/s]\n"
     ]
    },
    {
     "name": "stdout",
     "output_type": "stream",
     "text": [
      "---------------------------------------------------------------------------\n",
      "| end of epoch  64 | time: 87.19s | valid loss 0.00010 | valid ppl     1.00 |\n",
      "---------------------------------------------------------------------------\n",
      "|epoch  65 |     0/  909 batches | lr 0.000264 | loss 0.00023\n",
      "|epoch  65 |   181/  909 batches | lr 0.000264 | loss 0.04275\n",
      "|epoch  65 |   362/  909 batches | lr 0.000264 | loss 0.04295\n",
      "|epoch  65 |   543/  909 batches | lr 0.000264 | loss 0.04269\n",
      "|epoch  65 |   724/  909 batches | lr 0.000264 | loss 0.04283\n",
      "|epoch  65 |   905/  909 batches | lr 0.000264 | loss 0.04297\n"
     ]
    },
    {
     "name": "stderr",
     "output_type": "stream",
     "text": [
      "100%|██████████| 390/390 [00:11<00:00, 34.25it/s]\n"
     ]
    },
    {
     "name": "stdout",
     "output_type": "stream",
     "text": [
      "---------------------------------------------------------------------------\n",
      "| end of epoch  65 | time: 87.32s | valid loss 0.00010 | valid ppl     1.00 |\n",
      "---------------------------------------------------------------------------\n",
      "|epoch  66 |     0/  909 batches | lr 0.000258 | loss 0.00024\n",
      "|epoch  66 |   181/  909 batches | lr 0.000258 | loss 0.04275\n",
      "|epoch  66 |   362/  909 batches | lr 0.000258 | loss 0.04298\n",
      "|epoch  66 |   543/  909 batches | lr 0.000258 | loss 0.04289\n",
      "|epoch  66 |   724/  909 batches | lr 0.000258 | loss 0.04270\n",
      "|epoch  66 |   905/  909 batches | lr 0.000258 | loss 0.04285\n"
     ]
    },
    {
     "name": "stderr",
     "output_type": "stream",
     "text": [
      "100%|██████████| 390/390 [00:11<00:00, 34.38it/s]\n"
     ]
    },
    {
     "name": "stdout",
     "output_type": "stream",
     "text": [
      "---------------------------------------------------------------------------\n",
      "| end of epoch  66 | time: 87.28s | valid loss 0.00010 | valid ppl     1.00 |\n",
      "---------------------------------------------------------------------------\n",
      "|epoch  67 |     0/  909 batches | lr 0.000253 | loss 0.00023\n",
      "|epoch  67 |   181/  909 batches | lr 0.000253 | loss 0.04298\n",
      "|epoch  67 |   362/  909 batches | lr 0.000253 | loss 0.04268\n",
      "|epoch  67 |   543/  909 batches | lr 0.000253 | loss 0.04284\n",
      "|epoch  67 |   724/  909 batches | lr 0.000253 | loss 0.04288\n",
      "|epoch  67 |   905/  909 batches | lr 0.000253 | loss 0.04285\n"
     ]
    },
    {
     "name": "stderr",
     "output_type": "stream",
     "text": [
      "100%|██████████| 390/390 [00:11<00:00, 34.50it/s]\n"
     ]
    },
    {
     "name": "stdout",
     "output_type": "stream",
     "text": [
      "---------------------------------------------------------------------------\n",
      "| end of epoch  67 | time: 87.22s | valid loss 0.00010 | valid ppl     1.00 |\n",
      "---------------------------------------------------------------------------\n",
      "|epoch  68 |     0/  909 batches | lr 0.000248 | loss 0.00023\n",
      "|epoch  68 |   181/  909 batches | lr 0.000248 | loss 0.04287\n",
      "|epoch  68 |   362/  909 batches | lr 0.000248 | loss 0.04291\n",
      "|epoch  68 |   543/  909 batches | lr 0.000248 | loss 0.04299\n",
      "|epoch  68 |   724/  909 batches | lr 0.000248 | loss 0.04289\n",
      "|epoch  68 |   905/  909 batches | lr 0.000248 | loss 0.04257\n"
     ]
    },
    {
     "name": "stderr",
     "output_type": "stream",
     "text": [
      "100%|██████████| 390/390 [00:11<00:00, 34.05it/s]\n"
     ]
    },
    {
     "name": "stdout",
     "output_type": "stream",
     "text": [
      "---------------------------------------------------------------------------\n",
      "| end of epoch  68 | time: 87.84s | valid loss 0.00010 | valid ppl     1.00 |\n",
      "---------------------------------------------------------------------------\n",
      "|epoch  69 |     0/  909 batches | lr 0.000243 | loss 0.00022\n",
      "|epoch  69 |   181/  909 batches | lr 0.000243 | loss 0.04299\n",
      "|epoch  69 |   362/  909 batches | lr 0.000243 | loss 0.04298\n",
      "|epoch  69 |   543/  909 batches | lr 0.000243 | loss 0.04293\n",
      "|epoch  69 |   724/  909 batches | lr 0.000243 | loss 0.04284\n",
      "|epoch  69 |   905/  909 batches | lr 0.000243 | loss 0.04252\n"
     ]
    },
    {
     "name": "stderr",
     "output_type": "stream",
     "text": [
      "100%|██████████| 390/390 [00:11<00:00, 34.09it/s]\n"
     ]
    },
    {
     "name": "stdout",
     "output_type": "stream",
     "text": [
      "---------------------------------------------------------------------------\n",
      "| end of epoch  69 | time: 88.26s | valid loss 0.00010 | valid ppl     1.00 |\n",
      "---------------------------------------------------------------------------\n",
      "|epoch  70 |     0/  909 batches | lr 0.000238 | loss 0.00022\n",
      "|epoch  70 |   181/  909 batches | lr 0.000238 | loss 0.04285\n",
      "|epoch  70 |   362/  909 batches | lr 0.000238 | loss 0.04280\n",
      "|epoch  70 |   543/  909 batches | lr 0.000238 | loss 0.04298\n",
      "|epoch  70 |   724/  909 batches | lr 0.000238 | loss 0.04284\n",
      "|epoch  70 |   905/  909 batches | lr 0.000238 | loss 0.04274\n"
     ]
    },
    {
     "name": "stderr",
     "output_type": "stream",
     "text": [
      "100%|██████████| 390/390 [00:11<00:00, 34.36it/s]\n"
     ]
    },
    {
     "name": "stdout",
     "output_type": "stream",
     "text": [
      "---------------------------------------------------------------------------\n",
      "| end of epoch  70 | time: 88.24s | valid loss 0.00010 | valid ppl     1.00 |\n",
      "---------------------------------------------------------------------------\n",
      "|epoch  71 |     0/  909 batches | lr 0.000233 | loss 0.00023\n",
      "|epoch  71 |   181/  909 batches | lr 0.000233 | loss 0.04269\n",
      "|epoch  71 |   362/  909 batches | lr 0.000233 | loss 0.04294\n",
      "|epoch  71 |   543/  909 batches | lr 0.000233 | loss 0.04301\n",
      "|epoch  71 |   724/  909 batches | lr 0.000233 | loss 0.04262\n",
      "|epoch  71 |   905/  909 batches | lr 0.000233 | loss 0.04291\n"
     ]
    },
    {
     "name": "stderr",
     "output_type": "stream",
     "text": [
      "100%|██████████| 390/390 [00:11<00:00, 33.82it/s]\n"
     ]
    },
    {
     "name": "stdout",
     "output_type": "stream",
     "text": [
      "---------------------------------------------------------------------------\n",
      "| end of epoch  71 | time: 88.35s | valid loss 0.00010 | valid ppl     1.00 |\n",
      "---------------------------------------------------------------------------\n",
      "|epoch  72 |     0/  909 batches | lr 0.000229 | loss 0.00023\n",
      "|epoch  72 |   181/  909 batches | lr 0.000229 | loss 0.04300\n",
      "|epoch  72 |   362/  909 batches | lr 0.000229 | loss 0.04285\n",
      "|epoch  72 |   543/  909 batches | lr 0.000229 | loss 0.04280\n",
      "|epoch  72 |   724/  909 batches | lr 0.000229 | loss 0.04280\n",
      "|epoch  72 |   905/  909 batches | lr 0.000229 | loss 0.04270\n"
     ]
    },
    {
     "name": "stderr",
     "output_type": "stream",
     "text": [
      "100%|██████████| 390/390 [00:11<00:00, 34.00it/s]\n"
     ]
    },
    {
     "name": "stdout",
     "output_type": "stream",
     "text": [
      "---------------------------------------------------------------------------\n",
      "| end of epoch  72 | time: 88.15s | valid loss 0.00010 | valid ppl     1.00 |\n",
      "---------------------------------------------------------------------------\n",
      "|epoch  73 |     0/  909 batches | lr 0.000224 | loss 0.00024\n",
      "|epoch  73 |   181/  909 batches | lr 0.000224 | loss 0.04301\n",
      "|epoch  73 |   362/  909 batches | lr 0.000224 | loss 0.04275\n",
      "|epoch  73 |   543/  909 batches | lr 0.000224 | loss 0.04289\n",
      "|epoch  73 |   724/  909 batches | lr 0.000224 | loss 0.04270\n",
      "|epoch  73 |   905/  909 batches | lr 0.000224 | loss 0.04279\n"
     ]
    },
    {
     "name": "stderr",
     "output_type": "stream",
     "text": [
      "100%|██████████| 390/390 [00:11<00:00, 34.34it/s]\n"
     ]
    },
    {
     "name": "stdout",
     "output_type": "stream",
     "text": [
      "---------------------------------------------------------------------------\n",
      "| end of epoch  73 | time: 87.69s | valid loss 0.00010 | valid ppl     1.00 |\n",
      "---------------------------------------------------------------------------\n",
      "|epoch  74 |     0/  909 batches | lr 0.000220 | loss 0.00024\n",
      "|epoch  74 |   181/  909 batches | lr 0.000220 | loss 0.04294\n",
      "|epoch  74 |   362/  909 batches | lr 0.000220 | loss 0.04268\n",
      "|epoch  74 |   543/  909 batches | lr 0.000220 | loss 0.04280\n",
      "|epoch  74 |   724/  909 batches | lr 0.000220 | loss 0.04284\n",
      "|epoch  74 |   905/  909 batches | lr 0.000220 | loss 0.04292\n"
     ]
    },
    {
     "name": "stderr",
     "output_type": "stream",
     "text": [
      "100%|██████████| 390/390 [00:11<00:00, 33.81it/s]\n"
     ]
    },
    {
     "name": "stdout",
     "output_type": "stream",
     "text": [
      "---------------------------------------------------------------------------\n",
      "| end of epoch  74 | time: 87.84s | valid loss 0.00010 | valid ppl     1.00 |\n",
      "---------------------------------------------------------------------------\n",
      "|epoch  75 |     0/  909 batches | lr 0.000215 | loss 0.00023\n",
      "|epoch  75 |   181/  909 batches | lr 0.000215 | loss 0.04284\n",
      "|epoch  75 |   362/  909 batches | lr 0.000215 | loss 0.04302\n",
      "|epoch  75 |   543/  909 batches | lr 0.000215 | loss 0.04277\n",
      "|epoch  75 |   724/  909 batches | lr 0.000215 | loss 0.04283\n",
      "|epoch  75 |   905/  909 batches | lr 0.000215 | loss 0.04272\n"
     ]
    },
    {
     "name": "stderr",
     "output_type": "stream",
     "text": [
      "100%|██████████| 390/390 [00:11<00:00, 34.44it/s]\n"
     ]
    },
    {
     "name": "stdout",
     "output_type": "stream",
     "text": [
      "---------------------------------------------------------------------------\n",
      "| end of epoch  75 | time: 87.89s | valid loss 0.00010 | valid ppl     1.00 |\n",
      "---------------------------------------------------------------------------\n",
      "|epoch  76 |     0/  909 batches | lr 0.000211 | loss 0.00024\n",
      "|epoch  76 |   181/  909 batches | lr 0.000211 | loss 0.04267\n",
      "|epoch  76 |   362/  909 batches | lr 0.000211 | loss 0.04294\n",
      "|epoch  76 |   543/  909 batches | lr 0.000211 | loss 0.04270\n",
      "|epoch  76 |   724/  909 batches | lr 0.000211 | loss 0.04276\n",
      "|epoch  76 |   905/  909 batches | lr 0.000211 | loss 0.04308\n"
     ]
    },
    {
     "name": "stderr",
     "output_type": "stream",
     "text": [
      "100%|██████████| 390/390 [00:11<00:00, 33.52it/s]\n"
     ]
    },
    {
     "name": "stdout",
     "output_type": "stream",
     "text": [
      "---------------------------------------------------------------------------\n",
      "| end of epoch  76 | time: 88.75s | valid loss 0.00010 | valid ppl     1.00 |\n",
      "---------------------------------------------------------------------------\n",
      "|epoch  77 |     0/  909 batches | lr 0.000207 | loss 0.00025\n",
      "|epoch  77 |   181/  909 batches | lr 0.000207 | loss 0.04284\n",
      "|epoch  77 |   362/  909 batches | lr 0.000207 | loss 0.04274\n",
      "|epoch  77 |   543/  909 batches | lr 0.000207 | loss 0.04286\n",
      "|epoch  77 |   724/  909 batches | lr 0.000207 | loss 0.04282\n",
      "|epoch  77 |   905/  909 batches | lr 0.000207 | loss 0.04288\n"
     ]
    },
    {
     "name": "stderr",
     "output_type": "stream",
     "text": [
      "100%|██████████| 390/390 [00:11<00:00, 33.76it/s]\n"
     ]
    },
    {
     "name": "stdout",
     "output_type": "stream",
     "text": [
      "---------------------------------------------------------------------------\n",
      "| end of epoch  77 | time: 88.27s | valid loss 0.00010 | valid ppl     1.00 |\n",
      "---------------------------------------------------------------------------\n",
      "|epoch  78 |     0/  909 batches | lr 0.000203 | loss 0.00024\n",
      "|epoch  78 |   181/  909 batches | lr 0.000203 | loss 0.04282\n",
      "|epoch  78 |   362/  909 batches | lr 0.000203 | loss 0.04274\n",
      "|epoch  78 |   543/  909 batches | lr 0.000203 | loss 0.04279\n",
      "|epoch  78 |   724/  909 batches | lr 0.000203 | loss 0.04292\n",
      "|epoch  78 |   905/  909 batches | lr 0.000203 | loss 0.04289\n"
     ]
    },
    {
     "name": "stderr",
     "output_type": "stream",
     "text": [
      "100%|██████████| 390/390 [00:11<00:00, 33.91it/s]\n"
     ]
    },
    {
     "name": "stdout",
     "output_type": "stream",
     "text": [
      "---------------------------------------------------------------------------\n",
      "| end of epoch  78 | time: 88.95s | valid loss 0.00010 | valid ppl     1.00 |\n",
      "---------------------------------------------------------------------------\n",
      "|epoch  79 |     0/  909 batches | lr 0.000199 | loss 0.00023\n",
      "|epoch  79 |   181/  909 batches | lr 0.000199 | loss 0.04286\n",
      "|epoch  79 |   362/  909 batches | lr 0.000199 | loss 0.04289\n",
      "|epoch  79 |   543/  909 batches | lr 0.000199 | loss 0.04277\n",
      "|epoch  79 |   724/  909 batches | lr 0.000199 | loss 0.04302\n",
      "|epoch  79 |   905/  909 batches | lr 0.000199 | loss 0.04257\n"
     ]
    },
    {
     "name": "stderr",
     "output_type": "stream",
     "text": [
      "100%|██████████| 390/390 [00:11<00:00, 34.14it/s]\n"
     ]
    },
    {
     "name": "stdout",
     "output_type": "stream",
     "text": [
      "---------------------------------------------------------------------------\n",
      "| end of epoch  79 | time: 87.97s | valid loss 0.00010 | valid ppl     1.00 |\n",
      "---------------------------------------------------------------------------\n",
      "|epoch  80 |     0/  909 batches | lr 0.000195 | loss 0.00023\n",
      "|epoch  80 |   181/  909 batches | lr 0.000195 | loss 0.04256\n",
      "|epoch  80 |   362/  909 batches | lr 0.000195 | loss 0.04288\n",
      "|epoch  80 |   543/  909 batches | lr 0.000195 | loss 0.04283\n",
      "|epoch  80 |   724/  909 batches | lr 0.000195 | loss 0.04282\n",
      "|epoch  80 |   905/  909 batches | lr 0.000195 | loss 0.04304\n"
     ]
    },
    {
     "name": "stderr",
     "output_type": "stream",
     "text": [
      "100%|██████████| 390/390 [00:11<00:00, 34.00it/s]\n"
     ]
    },
    {
     "name": "stdout",
     "output_type": "stream",
     "text": [
      "---------------------------------------------------------------------------\n",
      "| end of epoch  80 | time: 87.46s | valid loss 0.00010 | valid ppl     1.00 |\n",
      "---------------------------------------------------------------------------\n",
      "|epoch  81 |     0/  909 batches | lr 0.000191 | loss 0.00024\n",
      "|epoch  81 |   181/  909 batches | lr 0.000191 | loss 0.04293\n",
      "|epoch  81 |   362/  909 batches | lr 0.000191 | loss 0.04307\n",
      "|epoch  81 |   543/  909 batches | lr 0.000191 | loss 0.04292\n",
      "|epoch  81 |   724/  909 batches | lr 0.000191 | loss 0.04270\n",
      "|epoch  81 |   905/  909 batches | lr 0.000191 | loss 0.04251\n"
     ]
    },
    {
     "name": "stderr",
     "output_type": "stream",
     "text": [
      "100%|██████████| 390/390 [00:11<00:00, 34.16it/s]\n"
     ]
    },
    {
     "name": "stdout",
     "output_type": "stream",
     "text": [
      "---------------------------------------------------------------------------\n",
      "| end of epoch  81 | time: 87.46s | valid loss 0.00010 | valid ppl     1.00 |\n",
      "---------------------------------------------------------------------------\n",
      "|epoch  82 |     0/  909 batches | lr 0.000187 | loss 0.00024\n",
      "|epoch  82 |   181/  909 batches | lr 0.000187 | loss 0.04293\n",
      "|epoch  82 |   362/  909 batches | lr 0.000187 | loss 0.04272\n",
      "|epoch  82 |   543/  909 batches | lr 0.000187 | loss 0.04290\n",
      "|epoch  82 |   724/  909 batches | lr 0.000187 | loss 0.04271\n",
      "|epoch  82 |   905/  909 batches | lr 0.000187 | loss 0.04288\n"
     ]
    },
    {
     "name": "stderr",
     "output_type": "stream",
     "text": [
      "100%|██████████| 390/390 [00:11<00:00, 34.55it/s]\n"
     ]
    },
    {
     "name": "stdout",
     "output_type": "stream",
     "text": [
      "---------------------------------------------------------------------------\n",
      "| end of epoch  82 | time: 87.23s | valid loss 0.00010 | valid ppl     1.00 |\n",
      "---------------------------------------------------------------------------\n",
      "|epoch  83 |     0/  909 batches | lr 0.000183 | loss 0.00022\n",
      "|epoch  83 |   181/  909 batches | lr 0.000183 | loss 0.04289\n",
      "|epoch  83 |   362/  909 batches | lr 0.000183 | loss 0.04309\n",
      "|epoch  83 |   543/  909 batches | lr 0.000183 | loss 0.04269\n",
      "|epoch  83 |   724/  909 batches | lr 0.000183 | loss 0.04271\n",
      "|epoch  83 |   905/  909 batches | lr 0.000183 | loss 0.04276\n"
     ]
    },
    {
     "name": "stderr",
     "output_type": "stream",
     "text": [
      "100%|██████████| 390/390 [00:11<00:00, 33.99it/s]\n"
     ]
    },
    {
     "name": "stdout",
     "output_type": "stream",
     "text": [
      "---------------------------------------------------------------------------\n",
      "| end of epoch  83 | time: 87.53s | valid loss 0.00010 | valid ppl     1.00 |\n",
      "---------------------------------------------------------------------------\n",
      "|epoch  84 |     0/  909 batches | lr 0.000180 | loss 0.00022\n",
      "|epoch  84 |   181/  909 batches | lr 0.000180 | loss 0.04277\n",
      "|epoch  84 |   362/  909 batches | lr 0.000180 | loss 0.04299\n",
      "|epoch  84 |   543/  909 batches | lr 0.000180 | loss 0.04265\n",
      "|epoch  84 |   724/  909 batches | lr 0.000180 | loss 0.04272\n",
      "|epoch  84 |   905/  909 batches | lr 0.000180 | loss 0.04299\n"
     ]
    },
    {
     "name": "stderr",
     "output_type": "stream",
     "text": [
      "100%|██████████| 390/390 [00:11<00:00, 34.04it/s]\n"
     ]
    },
    {
     "name": "stdout",
     "output_type": "stream",
     "text": [
      "---------------------------------------------------------------------------\n",
      "| end of epoch  84 | time: 87.68s | valid loss 0.00010 | valid ppl     1.00 |\n",
      "---------------------------------------------------------------------------\n",
      "|epoch  85 |     0/  909 batches | lr 0.000176 | loss 0.00023\n",
      "|epoch  85 |   181/  909 batches | lr 0.000176 | loss 0.04270\n",
      "|epoch  85 |   362/  909 batches | lr 0.000176 | loss 0.04293\n",
      "|epoch  85 |   543/  909 batches | lr 0.000176 | loss 0.04305\n",
      "|epoch  85 |   724/  909 batches | lr 0.000176 | loss 0.04273\n",
      "|epoch  85 |   905/  909 batches | lr 0.000176 | loss 0.04270\n"
     ]
    },
    {
     "name": "stderr",
     "output_type": "stream",
     "text": [
      "100%|██████████| 390/390 [00:11<00:00, 34.02it/s]\n"
     ]
    },
    {
     "name": "stdout",
     "output_type": "stream",
     "text": [
      "---------------------------------------------------------------------------\n",
      "| end of epoch  85 | time: 87.67s | valid loss 0.00010 | valid ppl     1.00 |\n",
      "---------------------------------------------------------------------------\n",
      "|epoch  86 |     0/  909 batches | lr 0.000172 | loss 0.00025\n",
      "|epoch  86 |   181/  909 batches | lr 0.000172 | loss 0.04283\n",
      "|epoch  86 |   362/  909 batches | lr 0.000172 | loss 0.04274\n",
      "|epoch  86 |   543/  909 batches | lr 0.000172 | loss 0.04282\n",
      "|epoch  86 |   724/  909 batches | lr 0.000172 | loss 0.04289\n",
      "|epoch  86 |   905/  909 batches | lr 0.000172 | loss 0.04285\n"
     ]
    },
    {
     "name": "stderr",
     "output_type": "stream",
     "text": [
      "100%|██████████| 390/390 [00:11<00:00, 33.32it/s]\n"
     ]
    },
    {
     "name": "stdout",
     "output_type": "stream",
     "text": [
      "---------------------------------------------------------------------------\n",
      "| end of epoch  86 | time: 88.35s | valid loss 0.00010 | valid ppl     1.00 |\n",
      "---------------------------------------------------------------------------\n",
      "|epoch  87 |     0/  909 batches | lr 0.000169 | loss 0.00021\n",
      "|epoch  87 |   181/  909 batches | lr 0.000169 | loss 0.04276\n",
      "|epoch  87 |   362/  909 batches | lr 0.000169 | loss 0.04287\n",
      "|epoch  87 |   543/  909 batches | lr 0.000169 | loss 0.04293\n",
      "|epoch  87 |   724/  909 batches | lr 0.000169 | loss 0.04271\n",
      "|epoch  87 |   905/  909 batches | lr 0.000169 | loss 0.04288\n"
     ]
    },
    {
     "name": "stderr",
     "output_type": "stream",
     "text": [
      "100%|██████████| 390/390 [00:11<00:00, 34.54it/s]\n"
     ]
    },
    {
     "name": "stdout",
     "output_type": "stream",
     "text": [
      "---------------------------------------------------------------------------\n",
      "| end of epoch  87 | time: 88.50s | valid loss 0.00010 | valid ppl     1.00 |\n",
      "---------------------------------------------------------------------------\n",
      "|epoch  88 |     0/  909 batches | lr 0.000166 | loss 0.00025\n",
      "|epoch  88 |   181/  909 batches | lr 0.000166 | loss 0.04289\n",
      "|epoch  88 |   362/  909 batches | lr 0.000166 | loss 0.04272\n",
      "|epoch  88 |   543/  909 batches | lr 0.000166 | loss 0.04274\n",
      "|epoch  88 |   724/  909 batches | lr 0.000166 | loss 0.04299\n",
      "|epoch  88 |   905/  909 batches | lr 0.000166 | loss 0.04273\n"
     ]
    },
    {
     "name": "stderr",
     "output_type": "stream",
     "text": [
      "100%|██████████| 390/390 [00:11<00:00, 34.25it/s]\n"
     ]
    },
    {
     "name": "stdout",
     "output_type": "stream",
     "text": [
      "---------------------------------------------------------------------------\n",
      "| end of epoch  88 | time: 87.71s | valid loss 0.00010 | valid ppl     1.00 |\n",
      "---------------------------------------------------------------------------\n",
      "|epoch  89 |     0/  909 batches | lr 0.000162 | loss 0.00023\n",
      "|epoch  89 |   181/  909 batches | lr 0.000162 | loss 0.04290\n",
      "|epoch  89 |   362/  909 batches | lr 0.000162 | loss 0.04280\n",
      "|epoch  89 |   543/  909 batches | lr 0.000162 | loss 0.04284\n",
      "|epoch  89 |   724/  909 batches | lr 0.000162 | loss 0.04259\n",
      "|epoch  89 |   905/  909 batches | lr 0.000162 | loss 0.04299\n"
     ]
    },
    {
     "name": "stderr",
     "output_type": "stream",
     "text": [
      "100%|██████████| 390/390 [00:11<00:00, 32.55it/s]\n"
     ]
    },
    {
     "name": "stdout",
     "output_type": "stream",
     "text": [
      "---------------------------------------------------------------------------\n",
      "| end of epoch  89 | time: 88.16s | valid loss 0.00010 | valid ppl     1.00 |\n",
      "---------------------------------------------------------------------------\n",
      "|epoch  90 |     0/  909 batches | lr 0.000159 | loss 0.00025\n",
      "|epoch  90 |   181/  909 batches | lr 0.000159 | loss 0.04300\n",
      "|epoch  90 |   362/  909 batches | lr 0.000159 | loss 0.04264\n",
      "|epoch  90 |   543/  909 batches | lr 0.000159 | loss 0.04287\n",
      "|epoch  90 |   724/  909 batches | lr 0.000159 | loss 0.04285\n",
      "|epoch  90 |   905/  909 batches | lr 0.000159 | loss 0.04276\n"
     ]
    },
    {
     "name": "stderr",
     "output_type": "stream",
     "text": [
      "100%|██████████| 390/390 [00:11<00:00, 34.12it/s]\n"
     ]
    },
    {
     "name": "stdout",
     "output_type": "stream",
     "text": [
      "---------------------------------------------------------------------------\n",
      "| end of epoch  90 | time: 88.77s | valid loss 0.00010 | valid ppl     1.00 |\n",
      "---------------------------------------------------------------------------\n",
      "|epoch  91 |     0/  909 batches | lr 0.000156 | loss 0.00024\n",
      "|epoch  91 |   181/  909 batches | lr 0.000156 | loss 0.04284\n",
      "|epoch  91 |   362/  909 batches | lr 0.000156 | loss 0.04278\n",
      "|epoch  91 |   543/  909 batches | lr 0.000156 | loss 0.04292\n",
      "|epoch  91 |   724/  909 batches | lr 0.000156 | loss 0.04267\n",
      "|epoch  91 |   905/  909 batches | lr 0.000156 | loss 0.04289\n"
     ]
    },
    {
     "name": "stderr",
     "output_type": "stream",
     "text": [
      "100%|██████████| 390/390 [00:11<00:00, 34.12it/s]\n"
     ]
    },
    {
     "name": "stdout",
     "output_type": "stream",
     "text": [
      "---------------------------------------------------------------------------\n",
      "| end of epoch  91 | time: 87.70s | valid loss 0.00010 | valid ppl     1.00 |\n",
      "---------------------------------------------------------------------------\n",
      "|epoch  92 |     0/  909 batches | lr 0.000153 | loss 0.00023\n",
      "|epoch  92 |   181/  909 batches | lr 0.000153 | loss 0.04294\n",
      "|epoch  92 |   362/  909 batches | lr 0.000153 | loss 0.04277\n",
      "|epoch  92 |   543/  909 batches | lr 0.000153 | loss 0.04266\n",
      "|epoch  92 |   724/  909 batches | lr 0.000153 | loss 0.04292\n",
      "|epoch  92 |   905/  909 batches | lr 0.000153 | loss 0.04280\n"
     ]
    },
    {
     "name": "stderr",
     "output_type": "stream",
     "text": [
      "100%|██████████| 390/390 [00:11<00:00, 34.17it/s]\n"
     ]
    },
    {
     "name": "stdout",
     "output_type": "stream",
     "text": [
      "---------------------------------------------------------------------------\n",
      "| end of epoch  92 | time: 87.37s | valid loss 0.00010 | valid ppl     1.00 |\n",
      "---------------------------------------------------------------------------\n",
      "|epoch  93 |     0/  909 batches | lr 0.000150 | loss 0.00022\n",
      "|epoch  93 |   181/  909 batches | lr 0.000150 | loss 0.04290\n",
      "|epoch  93 |   362/  909 batches | lr 0.000150 | loss 0.04275\n",
      "|epoch  93 |   543/  909 batches | lr 0.000150 | loss 0.04271\n",
      "|epoch  93 |   724/  909 batches | lr 0.000150 | loss 0.04295\n",
      "|epoch  93 |   905/  909 batches | lr 0.000150 | loss 0.04279\n"
     ]
    },
    {
     "name": "stderr",
     "output_type": "stream",
     "text": [
      "100%|██████████| 390/390 [00:11<00:00, 34.40it/s]\n"
     ]
    },
    {
     "name": "stdout",
     "output_type": "stream",
     "text": [
      "---------------------------------------------------------------------------\n",
      "| end of epoch  93 | time: 87.40s | valid loss 0.00010 | valid ppl     1.00 |\n",
      "---------------------------------------------------------------------------\n",
      "|epoch  94 |     0/  909 batches | lr 0.000147 | loss 0.00022\n",
      "|epoch  94 |   181/  909 batches | lr 0.000147 | loss 0.04302\n",
      "|epoch  94 |   362/  909 batches | lr 0.000147 | loss 0.04273\n",
      "|epoch  94 |   543/  909 batches | lr 0.000147 | loss 0.04280\n",
      "|epoch  94 |   724/  909 batches | lr 0.000147 | loss 0.04288\n",
      "|epoch  94 |   905/  909 batches | lr 0.000147 | loss 0.04263\n"
     ]
    },
    {
     "name": "stderr",
     "output_type": "stream",
     "text": [
      "100%|██████████| 390/390 [00:11<00:00, 34.09it/s]\n"
     ]
    },
    {
     "name": "stdout",
     "output_type": "stream",
     "text": [
      "---------------------------------------------------------------------------\n",
      "| end of epoch  94 | time: 88.12s | valid loss 0.00010 | valid ppl     1.00 |\n",
      "---------------------------------------------------------------------------\n",
      "|epoch  95 |     0/  909 batches | lr 0.000144 | loss 0.00024\n",
      "|epoch  95 |   181/  909 batches | lr 0.000144 | loss 0.04266\n",
      "|epoch  95 |   362/  909 batches | lr 0.000144 | loss 0.04280\n",
      "|epoch  95 |   543/  909 batches | lr 0.000144 | loss 0.04292\n",
      "|epoch  95 |   724/  909 batches | lr 0.000144 | loss 0.04296\n",
      "|epoch  95 |   905/  909 batches | lr 0.000144 | loss 0.04275\n"
     ]
    },
    {
     "name": "stderr",
     "output_type": "stream",
     "text": [
      "100%|██████████| 390/390 [00:11<00:00, 34.84it/s]\n"
     ]
    },
    {
     "name": "stdout",
     "output_type": "stream",
     "text": [
      "---------------------------------------------------------------------------\n",
      "| end of epoch  95 | time: 86.87s | valid loss 0.00010 | valid ppl     1.00 |\n",
      "---------------------------------------------------------------------------\n",
      "|epoch  96 |     0/  909 batches | lr 0.000141 | loss 0.00025\n",
      "|epoch  96 |   181/  909 batches | lr 0.000141 | loss 0.04276\n",
      "|epoch  96 |   362/  909 batches | lr 0.000141 | loss 0.04270\n",
      "|epoch  96 |   543/  909 batches | lr 0.000141 | loss 0.04280\n",
      "|epoch  96 |   724/  909 batches | lr 0.000141 | loss 0.04291\n",
      "|epoch  96 |   905/  909 batches | lr 0.000141 | loss 0.04290\n"
     ]
    },
    {
     "name": "stderr",
     "output_type": "stream",
     "text": [
      "100%|██████████| 390/390 [00:11<00:00, 34.95it/s]\n"
     ]
    },
    {
     "name": "stdout",
     "output_type": "stream",
     "text": [
      "---------------------------------------------------------------------------\n",
      "| end of epoch  96 | time: 86.09s | valid loss 0.00010 | valid ppl     1.00 |\n",
      "---------------------------------------------------------------------------\n",
      "|epoch  97 |     0/  909 batches | lr 0.000138 | loss 0.00024\n",
      "|epoch  97 |   181/  909 batches | lr 0.000138 | loss 0.04284\n",
      "|epoch  97 |   362/  909 batches | lr 0.000138 | loss 0.04293\n",
      "|epoch  97 |   543/  909 batches | lr 0.000138 | loss 0.04284\n",
      "|epoch  97 |   724/  909 batches | lr 0.000138 | loss 0.04262\n",
      "|epoch  97 |   905/  909 batches | lr 0.000138 | loss 0.04281\n"
     ]
    },
    {
     "name": "stderr",
     "output_type": "stream",
     "text": [
      "100%|██████████| 390/390 [00:11<00:00, 34.85it/s]\n"
     ]
    },
    {
     "name": "stdout",
     "output_type": "stream",
     "text": [
      "---------------------------------------------------------------------------\n",
      "| end of epoch  97 | time: 86.19s | valid loss 0.00010 | valid ppl     1.00 |\n",
      "---------------------------------------------------------------------------\n",
      "|epoch  98 |     0/  909 batches | lr 0.000135 | loss 0.00023\n",
      "|epoch  98 |   181/  909 batches | lr 0.000135 | loss 0.04270\n",
      "|epoch  98 |   362/  909 batches | lr 0.000135 | loss 0.04271\n",
      "|epoch  98 |   543/  909 batches | lr 0.000135 | loss 0.04287\n",
      "|epoch  98 |   724/  909 batches | lr 0.000135 | loss 0.04298\n",
      "|epoch  98 |   905/  909 batches | lr 0.000135 | loss 0.04281\n"
     ]
    },
    {
     "name": "stderr",
     "output_type": "stream",
     "text": [
      "100%|██████████| 390/390 [00:11<00:00, 34.88it/s]\n"
     ]
    },
    {
     "name": "stdout",
     "output_type": "stream",
     "text": [
      "---------------------------------------------------------------------------\n",
      "| end of epoch  98 | time: 86.09s | valid loss 0.00010 | valid ppl     1.00 |\n",
      "---------------------------------------------------------------------------\n",
      "|epoch  99 |     0/  909 batches | lr 0.000133 | loss 0.00024\n",
      "|epoch  99 |   181/  909 batches | lr 0.000133 | loss 0.04262\n",
      "|epoch  99 |   362/  909 batches | lr 0.000133 | loss 0.04279\n",
      "|epoch  99 |   543/  909 batches | lr 0.000133 | loss 0.04282\n",
      "|epoch  99 |   724/  909 batches | lr 0.000133 | loss 0.04287\n",
      "|epoch  99 |   905/  909 batches | lr 0.000133 | loss 0.04295\n"
     ]
    },
    {
     "name": "stderr",
     "output_type": "stream",
     "text": [
      "100%|██████████| 390/390 [00:11<00:00, 34.85it/s]\n"
     ]
    },
    {
     "name": "stdout",
     "output_type": "stream",
     "text": [
      "---------------------------------------------------------------------------\n",
      "| end of epoch  99 | time: 86.13s | valid loss 0.00010 | valid ppl     1.00 |\n",
      "---------------------------------------------------------------------------\n",
      "|epoch 100 |     0/  909 batches | lr 0.000130 | loss 0.00023\n",
      "|epoch 100 |   181/  909 batches | lr 0.000130 | loss 0.04258\n",
      "|epoch 100 |   362/  909 batches | lr 0.000130 | loss 0.04270\n",
      "|epoch 100 |   543/  909 batches | lr 0.000130 | loss 0.04299\n",
      "|epoch 100 |   724/  909 batches | lr 0.000130 | loss 0.04295\n",
      "|epoch 100 |   905/  909 batches | lr 0.000130 | loss 0.04283\n"
     ]
    },
    {
     "name": "stderr",
     "output_type": "stream",
     "text": [
      "100%|██████████| 390/390 [13:26<00:00,  2.07s/it]\n"
     ]
    },
    {
     "data": {
      "image/png": "[encoded data removed]",
      "text/plain": [
       "<Figure size 640x480 with 1 Axes>"
      ]
     },
     "metadata": {},
     "output_type": "display_data"
    },
    {
     "name": "stdout",
     "output_type": "stream",
     "text": [
      "---------------------------------------------------------------------------\n",
      "| end of epoch 100 | time: 882.93s | valid loss 27.22516 | valid ppl 666404610094.69 |\n",
      "---------------------------------------------------------------------------\n",
      "|epoch 101 |     0/  909 batches | lr 0.000127 | loss 0.00023\n",
      "|epoch 101 |   181/  909 batches | lr 0.000127 | loss 0.04286\n",
      "|epoch 101 |   362/  909 batches | lr 0.000127 | loss 0.04270\n",
      "|epoch 101 |   543/  909 batches | lr 0.000127 | loss 0.04301\n",
      "|epoch 101 |   724/  909 batches | lr 0.000127 | loss 0.04258\n",
      "|epoch 101 |   905/  909 batches | lr 0.000127 | loss 0.04293\n"
     ]
    },
    {
     "name": "stderr",
     "output_type": "stream",
     "text": [
      "100%|██████████| 390/390 [00:11<00:00, 34.59it/s]\n"
     ]
    },
    {
     "name": "stdout",
     "output_type": "stream",
     "text": [
      "---------------------------------------------------------------------------\n",
      "| end of epoch 101 | time: 86.22s | valid loss 0.00010 | valid ppl     1.00 |\n",
      "---------------------------------------------------------------------------\n",
      "|epoch 102 |     0/  909 batches | lr 0.000125 | loss 0.00023\n",
      "|epoch 102 |   181/  909 batches | lr 0.000125 | loss 0.04273\n",
      "|epoch 102 |   362/  909 batches | lr 0.000125 | loss 0.04277\n",
      "|epoch 102 |   543/  909 batches | lr 0.000125 | loss 0.04281\n",
      "|epoch 102 |   724/  909 batches | lr 0.000125 | loss 0.04288\n",
      "|epoch 102 |   905/  909 batches | lr 0.000125 | loss 0.04285\n"
     ]
    },
    {
     "name": "stderr",
     "output_type": "stream",
     "text": [
      "100%|██████████| 390/390 [00:11<00:00, 35.20it/s]\n"
     ]
    },
    {
     "name": "stdout",
     "output_type": "stream",
     "text": [
      "---------------------------------------------------------------------------\n",
      "| end of epoch 102 | time: 86.10s | valid loss 0.00010 | valid ppl     1.00 |\n",
      "---------------------------------------------------------------------------\n",
      "|epoch 103 |     0/  909 batches | lr 0.000122 | loss 0.00025\n",
      "|epoch 103 |   181/  909 batches | lr 0.000122 | loss 0.04264\n",
      "|epoch 103 |   362/  909 batches | lr 0.000122 | loss 0.04291\n",
      "|epoch 103 |   543/  909 batches | lr 0.000122 | loss 0.04288\n",
      "|epoch 103 |   724/  909 batches | lr 0.000122 | loss 0.04271\n",
      "|epoch 103 |   905/  909 batches | lr 0.000122 | loss 0.04289\n"
     ]
    },
    {
     "name": "stderr",
     "output_type": "stream",
     "text": [
      "100%|██████████| 390/390 [00:11<00:00, 35.00it/s]\n"
     ]
    },
    {
     "name": "stdout",
     "output_type": "stream",
     "text": [
      "---------------------------------------------------------------------------\n",
      "| end of epoch 103 | time: 86.30s | valid loss 0.00010 | valid ppl     1.00 |\n",
      "---------------------------------------------------------------------------\n",
      "|epoch 104 |     0/  909 batches | lr 0.000120 | loss 0.00023\n",
      "|epoch 104 |   181/  909 batches | lr 0.000120 | loss 0.04282\n",
      "|epoch 104 |   362/  909 batches | lr 0.000120 | loss 0.04278\n",
      "|epoch 104 |   543/  909 batches | lr 0.000120 | loss 0.04273\n",
      "|epoch 104 |   724/  909 batches | lr 0.000120 | loss 0.04302\n",
      "|epoch 104 |   905/  909 batches | lr 0.000120 | loss 0.04274\n"
     ]
    },
    {
     "name": "stderr",
     "output_type": "stream",
     "text": [
      "100%|██████████| 390/390 [00:11<00:00, 34.69it/s]\n"
     ]
    },
    {
     "name": "stdout",
     "output_type": "stream",
     "text": [
      "---------------------------------------------------------------------------\n",
      "| end of epoch 104 | time: 86.33s | valid loss 0.00010 | valid ppl     1.00 |\n",
      "---------------------------------------------------------------------------\n",
      "|epoch 105 |     0/  909 batches | lr 0.000117 | loss 0.00024\n",
      "|epoch 105 |   181/  909 batches | lr 0.000117 | loss 0.04295\n",
      "|epoch 105 |   362/  909 batches | lr 0.000117 | loss 0.04263\n",
      "|epoch 105 |   543/  909 batches | lr 0.000117 | loss 0.04280\n",
      "|epoch 105 |   724/  909 batches | lr 0.000117 | loss 0.04283\n",
      "|epoch 105 |   905/  909 batches | lr 0.000117 | loss 0.04284\n"
     ]
    },
    {
     "name": "stderr",
     "output_type": "stream",
     "text": [
      "100%|██████████| 390/390 [00:11<00:00, 34.85it/s]\n"
     ]
    },
    {
     "name": "stdout",
     "output_type": "stream",
     "text": [
      "---------------------------------------------------------------------------\n",
      "| end of epoch 105 | time: 86.14s | valid loss 0.00010 | valid ppl     1.00 |\n",
      "---------------------------------------------------------------------------\n",
      "|epoch 106 |     0/  909 batches | lr 0.000115 | loss 0.00026\n",
      "|epoch 106 |   181/  909 batches | lr 0.000115 | loss 0.04285\n",
      "|epoch 106 |   362/  909 batches | lr 0.000115 | loss 0.04293\n",
      "|epoch 106 |   543/  909 batches | lr 0.000115 | loss 0.04252\n",
      "|epoch 106 |   724/  909 batches | lr 0.000115 | loss 0.04297\n",
      "|epoch 106 |   905/  909 batches | lr 0.000115 | loss 0.04275\n"
     ]
    },
    {
     "name": "stderr",
     "output_type": "stream",
     "text": [
      "100%|██████████| 390/390 [00:11<00:00, 34.91it/s]\n"
     ]
    },
    {
     "name": "stdout",
     "output_type": "stream",
     "text": [
      "---------------------------------------------------------------------------\n",
      "| end of epoch 106 | time: 86.15s | valid loss 0.00010 | valid ppl     1.00 |\n",
      "---------------------------------------------------------------------------\n",
      "|epoch 107 |     0/  909 batches | lr 0.000113 | loss 0.00024\n",
      "|epoch 107 |   181/  909 batches | lr 0.000113 | loss 0.04280\n",
      "|epoch 107 |   362/  909 batches | lr 0.000113 | loss 0.04295\n",
      "|epoch 107 |   543/  909 batches | lr 0.000113 | loss 0.04274\n",
      "|epoch 107 |   724/  909 batches | lr 0.000113 | loss 0.04283\n",
      "|epoch 107 |   905/  909 batches | lr 0.000113 | loss 0.04272\n"
     ]
    },
    {
     "name": "stderr",
     "output_type": "stream",
     "text": [
      "100%|██████████| 390/390 [00:11<00:00, 34.70it/s]\n"
     ]
    },
    {
     "name": "stdout",
     "output_type": "stream",
     "text": [
      "---------------------------------------------------------------------------\n",
      "| end of epoch 107 | time: 86.24s | valid loss 0.00010 | valid ppl     1.00 |\n",
      "---------------------------------------------------------------------------\n",
      "|epoch 108 |     0/  909 batches | lr 0.000111 | loss 0.00022\n",
      "|epoch 108 |   181/  909 batches | lr 0.000111 | loss 0.04293\n",
      "|epoch 108 |   362/  909 batches | lr 0.000111 | loss 0.04272\n",
      "|epoch 108 |   543/  909 batches | lr 0.000111 | loss 0.04271\n",
      "|epoch 108 |   724/  909 batches | lr 0.000111 | loss 0.04268\n",
      "|epoch 108 |   905/  909 batches | lr 0.000111 | loss 0.04303\n"
     ]
    },
    {
     "name": "stderr",
     "output_type": "stream",
     "text": [
      "100%|██████████| 390/390 [00:11<00:00, 34.79it/s]\n"
     ]
    },
    {
     "name": "stdout",
     "output_type": "stream",
     "text": [
      "---------------------------------------------------------------------------\n",
      "| end of epoch 108 | time: 86.10s | valid loss 0.00010 | valid ppl     1.00 |\n",
      "---------------------------------------------------------------------------\n",
      "|epoch 109 |     0/  909 batches | lr 0.000108 | loss 0.00024\n",
      "|epoch 109 |   181/  909 batches | lr 0.000108 | loss 0.04290\n",
      "|epoch 109 |   362/  909 batches | lr 0.000108 | loss 0.04275\n",
      "|epoch 109 |   543/  909 batches | lr 0.000108 | loss 0.04279\n",
      "|epoch 109 |   724/  909 batches | lr 0.000108 | loss 0.04291\n",
      "|epoch 109 |   905/  909 batches | lr 0.000108 | loss 0.04268\n"
     ]
    },
    {
     "name": "stderr",
     "output_type": "stream",
     "text": [
      "100%|██████████| 390/390 [00:11<00:00, 35.01it/s]\n"
     ]
    },
    {
     "name": "stdout",
     "output_type": "stream",
     "text": [
      "---------------------------------------------------------------------------\n",
      "| end of epoch 109 | time: 86.13s | valid loss 0.00010 | valid ppl     1.00 |\n",
      "---------------------------------------------------------------------------\n",
      "|epoch 110 |     0/  909 batches | lr 0.000106 | loss 0.00023\n",
      "|epoch 110 |   181/  909 batches | lr 0.000106 | loss 0.04273\n",
      "|epoch 110 |   362/  909 batches | lr 0.000106 | loss 0.04288\n",
      "|epoch 110 |   543/  909 batches | lr 0.000106 | loss 0.04287\n",
      "|epoch 110 |   724/  909 batches | lr 0.000106 | loss 0.04284\n",
      "|epoch 110 |   905/  909 batches | lr 0.000106 | loss 0.04271\n"
     ]
    },
    {
     "name": "stderr",
     "output_type": "stream",
     "text": [
      "100%|██████████| 390/390 [00:11<00:00, 35.10it/s]\n"
     ]
    },
    {
     "name": "stdout",
     "output_type": "stream",
     "text": [
      "---------------------------------------------------------------------------\n",
      "| end of epoch 110 | time: 86.19s | valid loss 0.00010 | valid ppl     1.00 |\n",
      "---------------------------------------------------------------------------\n",
      "|epoch 111 |     0/  909 batches | lr 0.000104 | loss 0.00023\n",
      "|epoch 111 |   181/  909 batches | lr 0.000104 | loss 0.04279\n",
      "|epoch 111 |   362/  909 batches | lr 0.000104 | loss 0.04284\n",
      "|epoch 111 |   543/  909 batches | lr 0.000104 | loss 0.04263\n",
      "|epoch 111 |   724/  909 batches | lr 0.000104 | loss 0.04288\n",
      "|epoch 111 |   905/  909 batches | lr 0.000104 | loss 0.04293\n"
     ]
    },
    {
     "name": "stderr",
     "output_type": "stream",
     "text": [
      "100%|██████████| 390/390 [00:11<00:00, 34.70it/s]\n"
     ]
    },
    {
     "name": "stdout",
     "output_type": "stream",
     "text": [
      "---------------------------------------------------------------------------\n",
      "| end of epoch 111 | time: 86.26s | valid loss 0.00010 | valid ppl     1.00 |\n",
      "---------------------------------------------------------------------------\n",
      "|epoch 112 |     0/  909 batches | lr 0.000102 | loss 0.00023\n",
      "|epoch 112 |   181/  909 batches | lr 0.000102 | loss 0.04284\n",
      "|epoch 112 |   362/  909 batches | lr 0.000102 | loss 0.04272\n",
      "|epoch 112 |   543/  909 batches | lr 0.000102 | loss 0.04277\n",
      "|epoch 112 |   724/  909 batches | lr 0.000102 | loss 0.04281\n",
      "|epoch 112 |   905/  909 batches | lr 0.000102 | loss 0.04290\n"
     ]
    },
    {
     "name": "stderr",
     "output_type": "stream",
     "text": [
      "100%|██████████| 390/390 [00:11<00:00, 34.66it/s]\n"
     ]
    },
    {
     "name": "stdout",
     "output_type": "stream",
     "text": [
      "---------------------------------------------------------------------------\n",
      "| end of epoch 112 | time: 86.12s | valid loss 0.00010 | valid ppl     1.00 |\n",
      "---------------------------------------------------------------------------\n",
      "|epoch 113 |     0/  909 batches | lr 0.000100 | loss 0.00024\n",
      "|epoch 113 |   181/  909 batches | lr 0.000100 | loss 0.04273\n",
      "|epoch 113 |   362/  909 batches | lr 0.000100 | loss 0.04289\n",
      "|epoch 113 |   543/  909 batches | lr 0.000100 | loss 0.04274\n",
      "|epoch 113 |   724/  909 batches | lr 0.000100 | loss 0.04294\n",
      "|epoch 113 |   905/  909 batches | lr 0.000100 | loss 0.04273\n"
     ]
    },
    {
     "name": "stderr",
     "output_type": "stream",
     "text": [
      "100%|██████████| 390/390 [00:11<00:00, 34.74it/s]\n"
     ]
    },
    {
     "name": "stdout",
     "output_type": "stream",
     "text": [
      "---------------------------------------------------------------------------\n",
      "| end of epoch 113 | time: 86.02s | valid loss 0.00010 | valid ppl     1.00 |\n",
      "---------------------------------------------------------------------------\n",
      "|epoch 114 |     0/  909 batches | lr 0.000098 | loss 0.00023\n",
      "|epoch 114 |   181/  909 batches | lr 0.000098 | loss 0.04286\n",
      "|epoch 114 |   362/  909 batches | lr 0.000098 | loss 0.04268\n",
      "|epoch 114 |   543/  909 batches | lr 0.000098 | loss 0.04282\n",
      "|epoch 114 |   724/  909 batches | lr 0.000098 | loss 0.04283\n",
      "|epoch 114 |   905/  909 batches | lr 0.000098 | loss 0.04285\n"
     ]
    },
    {
     "name": "stderr",
     "output_type": "stream",
     "text": [
      "100%|██████████| 390/390 [00:11<00:00, 34.69it/s]\n"
     ]
    },
    {
     "name": "stdout",
     "output_type": "stream",
     "text": [
      "---------------------------------------------------------------------------\n",
      "| end of epoch 114 | time: 86.07s | valid loss 0.00010 | valid ppl     1.00 |\n",
      "---------------------------------------------------------------------------\n",
      "|epoch 115 |     0/  909 batches | lr 0.000096 | loss 0.00024\n",
      "|epoch 115 |   181/  909 batches | lr 0.000096 | loss 0.04289\n",
      "|epoch 115 |   362/  909 batches | lr 0.000096 | loss 0.04293\n",
      "|epoch 115 |   543/  909 batches | lr 0.000096 | loss 0.04272\n",
      "|epoch 115 |   724/  909 batches | lr 0.000096 | loss 0.04272\n",
      "|epoch 115 |   905/  909 batches | lr 0.000096 | loss 0.04276\n"
     ]
    },
    {
     "name": "stderr",
     "output_type": "stream",
     "text": [
      "100%|██████████| 390/390 [00:11<00:00, 34.97it/s]\n"
     ]
    },
    {
     "name": "stdout",
     "output_type": "stream",
     "text": [
      "---------------------------------------------------------------------------\n",
      "| end of epoch 115 | time: 86.07s | valid loss 0.00010 | valid ppl     1.00 |\n",
      "---------------------------------------------------------------------------\n",
      "|epoch 116 |     0/  909 batches | lr 0.000094 | loss 0.00023\n",
      "|epoch 116 |   181/  909 batches | lr 0.000094 | loss 0.04279\n",
      "|epoch 116 |   362/  909 batches | lr 0.000094 | loss 0.04297\n",
      "|epoch 116 |   543/  909 batches | lr 0.000094 | loss 0.04267\n",
      "|epoch 116 |   724/  909 batches | lr 0.000094 | loss 0.04289\n",
      "|epoch 116 |   905/  909 batches | lr 0.000094 | loss 0.04274\n"
     ]
    },
    {
     "name": "stderr",
     "output_type": "stream",
     "text": [
      "100%|██████████| 390/390 [00:11<00:00, 34.75it/s]\n"
     ]
    },
    {
     "name": "stdout",
     "output_type": "stream",
     "text": [
      "---------------------------------------------------------------------------\n",
      "| end of epoch 116 | time: 86.20s | valid loss 0.00010 | valid ppl     1.00 |\n",
      "---------------------------------------------------------------------------\n",
      "|epoch 117 |     0/  909 batches | lr 0.000092 | loss 0.00025\n",
      "|epoch 117 |   181/  909 batches | lr 0.000092 | loss 0.04284\n",
      "|epoch 117 |   362/  909 batches | lr 0.000092 | loss 0.04271\n",
      "|epoch 117 |   543/  909 batches | lr 0.000092 | loss 0.04296\n",
      "|epoch 117 |   724/  909 batches | lr 0.000092 | loss 0.04278\n",
      "|epoch 117 |   905/  909 batches | lr 0.000092 | loss 0.04273\n"
     ]
    },
    {
     "name": "stderr",
     "output_type": "stream",
     "text": [
      "100%|██████████| 390/390 [00:11<00:00, 34.96it/s]\n"
     ]
    },
    {
     "name": "stdout",
     "output_type": "stream",
     "text": [
      "---------------------------------------------------------------------------\n",
      "| end of epoch 117 | time: 86.06s | valid loss 0.00010 | valid ppl     1.00 |\n",
      "---------------------------------------------------------------------------\n",
      "|epoch 118 |     0/  909 batches | lr 0.000090 | loss 0.00023\n",
      "|epoch 118 |   181/  909 batches | lr 0.000090 | loss 0.04272\n",
      "|epoch 118 |   362/  909 batches | lr 0.000090 | loss 0.04281\n",
      "|epoch 118 |   543/  909 batches | lr 0.000090 | loss 0.04299\n",
      "|epoch 118 |   724/  909 batches | lr 0.000090 | loss 0.04255\n",
      "|epoch 118 |   905/  909 batches | lr 0.000090 | loss 0.04297\n"
     ]
    },
    {
     "name": "stderr",
     "output_type": "stream",
     "text": [
      "100%|██████████| 390/390 [00:11<00:00, 34.64it/s]\n"
     ]
    },
    {
     "name": "stdout",
     "output_type": "stream",
     "text": [
      "---------------------------------------------------------------------------\n",
      "| end of epoch 118 | time: 86.54s | valid loss 0.00010 | valid ppl     1.00 |\n",
      "---------------------------------------------------------------------------\n",
      "|epoch 119 |     0/  909 batches | lr 0.000089 | loss 0.00025\n",
      "|epoch 119 |   181/  909 batches | lr 0.000089 | loss 0.04274\n",
      "|epoch 119 |   362/  909 batches | lr 0.000089 | loss 0.04291\n",
      "|epoch 119 |   543/  909 batches | lr 0.000089 | loss 0.04270\n",
      "|epoch 119 |   724/  909 batches | lr 0.000089 | loss 0.04262\n",
      "|epoch 119 |   905/  909 batches | lr 0.000089 | loss 0.04304\n"
     ]
    },
    {
     "name": "stderr",
     "output_type": "stream",
     "text": [
      "100%|██████████| 390/390 [00:11<00:00, 34.64it/s]\n"
     ]
    },
    {
     "name": "stdout",
     "output_type": "stream",
     "text": [
      "---------------------------------------------------------------------------\n",
      "| end of epoch 119 | time: 86.44s | valid loss 0.00010 | valid ppl     1.00 |\n",
      "---------------------------------------------------------------------------\n",
      "|epoch 120 |     0/  909 batches | lr 0.000087 | loss 0.00024\n",
      "|epoch 120 |   181/  909 batches | lr 0.000087 | loss 0.04286\n",
      "|epoch 120 |   362/  909 batches | lr 0.000087 | loss 0.04268\n",
      "|epoch 120 |   543/  909 batches | lr 0.000087 | loss 0.04288\n",
      "|epoch 120 |   724/  909 batches | lr 0.000087 | loss 0.04267\n",
      "|epoch 120 |   905/  909 batches | lr 0.000087 | loss 0.04292\n"
     ]
    },
    {
     "name": "stderr",
     "output_type": "stream",
     "text": [
      "100%|██████████| 390/390 [00:11<00:00, 34.64it/s]\n"
     ]
    },
    {
     "name": "stdout",
     "output_type": "stream",
     "text": [
      "---------------------------------------------------------------------------\n",
      "| end of epoch 120 | time: 86.41s | valid loss 0.00010 | valid ppl     1.00 |\n",
      "---------------------------------------------------------------------------\n",
      "|epoch 121 |     0/  909 batches | lr 0.000085 | loss 0.00024\n",
      "|epoch 121 |   181/  909 batches | lr 0.000085 | loss 0.04287\n",
      "|epoch 121 |   362/  909 batches | lr 0.000085 | loss 0.04284\n",
      "|epoch 121 |   543/  909 batches | lr 0.000085 | loss 0.04275\n",
      "|epoch 121 |   724/  909 batches | lr 0.000085 | loss 0.04269\n",
      "|epoch 121 |   905/  909 batches | lr 0.000085 | loss 0.04289\n"
     ]
    },
    {
     "name": "stderr",
     "output_type": "stream",
     "text": [
      "100%|██████████| 390/390 [00:11<00:00, 34.64it/s]\n"
     ]
    },
    {
     "name": "stdout",
     "output_type": "stream",
     "text": [
      "---------------------------------------------------------------------------\n",
      "| end of epoch 121 | time: 86.39s | valid loss 0.00010 | valid ppl     1.00 |\n",
      "---------------------------------------------------------------------------\n",
      "|epoch 122 |     0/  909 batches | lr 0.000083 | loss 0.00023\n",
      "|epoch 122 |   181/  909 batches | lr 0.000083 | loss 0.04284\n",
      "|epoch 122 |   362/  909 batches | lr 0.000083 | loss 0.04296\n",
      "|epoch 122 |   543/  909 batches | lr 0.000083 | loss 0.04280\n",
      "|epoch 122 |   724/  909 batches | lr 0.000083 | loss 0.04265\n",
      "|epoch 122 |   905/  909 batches | lr 0.000083 | loss 0.04276\n"
     ]
    },
    {
     "name": "stderr",
     "output_type": "stream",
     "text": [
      "100%|██████████| 390/390 [00:11<00:00, 35.08it/s]\n"
     ]
    },
    {
     "name": "stdout",
     "output_type": "stream",
     "text": [
      "---------------------------------------------------------------------------\n",
      "| end of epoch 122 | time: 86.39s | valid loss 0.00010 | valid ppl     1.00 |\n",
      "---------------------------------------------------------------------------\n",
      "|epoch 123 |     0/  909 batches | lr 0.000082 | loss 0.00025\n",
      "|epoch 123 |   181/  909 batches | lr 0.000082 | loss 0.04288\n",
      "|epoch 123 |   362/  909 batches | lr 0.000082 | loss 0.04267\n",
      "|epoch 123 |   543/  909 batches | lr 0.000082 | loss 0.04245\n",
      "|epoch 123 |   724/  909 batches | lr 0.000082 | loss 0.04308\n",
      "|epoch 123 |   905/  909 batches | lr 0.000082 | loss 0.04292\n"
     ]
    },
    {
     "name": "stderr",
     "output_type": "stream",
     "text": [
      "100%|██████████| 390/390 [00:11<00:00, 34.65it/s]\n"
     ]
    },
    {
     "name": "stdout",
     "output_type": "stream",
     "text": [
      "---------------------------------------------------------------------------\n",
      "| end of epoch 123 | time: 86.55s | valid loss 0.00010 | valid ppl     1.00 |\n",
      "---------------------------------------------------------------------------\n",
      "|epoch 124 |     0/  909 batches | lr 0.000080 | loss 0.00024\n",
      "|epoch 124 |   181/  909 batches | lr 0.000080 | loss 0.04275\n",
      "|epoch 124 |   362/  909 batches | lr 0.000080 | loss 0.04280\n",
      "|epoch 124 |   543/  909 batches | lr 0.000080 | loss 0.04270\n",
      "|epoch 124 |   724/  909 batches | lr 0.000080 | loss 0.04295\n",
      "|epoch 124 |   905/  909 batches | lr 0.000080 | loss 0.04283\n"
     ]
    },
    {
     "name": "stderr",
     "output_type": "stream",
     "text": [
      "100%|██████████| 390/390 [00:11<00:00, 35.07it/s]\n"
     ]
    },
    {
     "name": "stdout",
     "output_type": "stream",
     "text": [
      "---------------------------------------------------------------------------\n",
      "| end of epoch 124 | time: 86.29s | valid loss 0.00010 | valid ppl     1.00 |\n",
      "---------------------------------------------------------------------------\n",
      "|epoch 125 |     0/  909 batches | lr 0.000078 | loss 0.00023\n",
      "|epoch 125 |   181/  909 batches | lr 0.000078 | loss 0.04267\n",
      "|epoch 125 |   362/  909 batches | lr 0.000078 | loss 0.04283\n",
      "|epoch 125 |   543/  909 batches | lr 0.000078 | loss 0.04298\n",
      "|epoch 125 |   724/  909 batches | lr 0.000078 | loss 0.04285\n",
      "|epoch 125 |   905/  909 batches | lr 0.000078 | loss 0.04270\n"
     ]
    },
    {
     "name": "stderr",
     "output_type": "stream",
     "text": [
      "100%|██████████| 390/390 [00:11<00:00, 34.65it/s]\n"
     ]
    },
    {
     "name": "stdout",
     "output_type": "stream",
     "text": [
      "---------------------------------------------------------------------------\n",
      "| end of epoch 125 | time: 86.54s | valid loss 0.00010 | valid ppl     1.00 |\n",
      "---------------------------------------------------------------------------\n",
      "|epoch 126 |     0/  909 batches | lr 0.000077 | loss 0.00022\n",
      "|epoch 126 |   181/  909 batches | lr 0.000077 | loss 0.04311\n",
      "|epoch 126 |   362/  909 batches | lr 0.000077 | loss 0.04263\n",
      "|epoch 126 |   543/  909 batches | lr 0.000077 | loss 0.04269\n",
      "|epoch 126 |   724/  909 batches | lr 0.000077 | loss 0.04274\n",
      "|epoch 126 |   905/  909 batches | lr 0.000077 | loss 0.04286\n"
     ]
    },
    {
     "name": "stderr",
     "output_type": "stream",
     "text": [
      "100%|██████████| 390/390 [00:11<00:00, 34.69it/s]\n"
     ]
    },
    {
     "name": "stdout",
     "output_type": "stream",
     "text": [
      "---------------------------------------------------------------------------\n",
      "| end of epoch 126 | time: 86.42s | valid loss 0.00010 | valid ppl     1.00 |\n",
      "---------------------------------------------------------------------------\n",
      "|epoch 127 |     0/  909 batches | lr 0.000075 | loss 0.00023\n",
      "|epoch 127 |   181/  909 batches | lr 0.000075 | loss 0.04280\n",
      "|epoch 127 |   362/  909 batches | lr 0.000075 | loss 0.04267\n",
      "|epoch 127 |   543/  909 batches | lr 0.000075 | loss 0.04286\n",
      "|epoch 127 |   724/  909 batches | lr 0.000075 | loss 0.04289\n",
      "|epoch 127 |   905/  909 batches | lr 0.000075 | loss 0.04280\n"
     ]
    },
    {
     "name": "stderr",
     "output_type": "stream",
     "text": [
      "100%|██████████| 390/390 [00:11<00:00, 34.65it/s]\n"
     ]
    },
    {
     "name": "stdout",
     "output_type": "stream",
     "text": [
      "---------------------------------------------------------------------------\n",
      "| end of epoch 127 | time: 86.46s | valid loss 0.00010 | valid ppl     1.00 |\n",
      "---------------------------------------------------------------------------\n",
      "|epoch 128 |     0/  909 batches | lr 0.000074 | loss 0.00023\n",
      "|epoch 128 |   181/  909 batches | lr 0.000074 | loss 0.04277\n",
      "|epoch 128 |   362/  909 batches | lr 0.000074 | loss 0.04296\n",
      "|epoch 128 |   543/  909 batches | lr 0.000074 | loss 0.04279\n",
      "|epoch 128 |   724/  909 batches | lr 0.000074 | loss 0.04285\n",
      "|epoch 128 |   905/  909 batches | lr 0.000074 | loss 0.04268\n"
     ]
    },
    {
     "name": "stderr",
     "output_type": "stream",
     "text": [
      "100%|██████████| 390/390 [00:11<00:00, 34.92it/s]\n"
     ]
    },
    {
     "name": "stdout",
     "output_type": "stream",
     "text": [
      "---------------------------------------------------------------------------\n",
      "| end of epoch 128 | time: 86.48s | valid loss 0.00010 | valid ppl     1.00 |\n",
      "---------------------------------------------------------------------------\n",
      "|epoch 129 |     0/  909 batches | lr 0.000072 | loss 0.00023\n",
      "|epoch 129 |   181/  909 batches | lr 0.000072 | loss 0.04278\n",
      "|epoch 129 |   362/  909 batches | lr 0.000072 | loss 0.04273\n",
      "|epoch 129 |   543/  909 batches | lr 0.000072 | loss 0.04279\n",
      "|epoch 129 |   724/  909 batches | lr 0.000072 | loss 0.04295\n",
      "|epoch 129 |   905/  909 batches | lr 0.000072 | loss 0.04274\n"
     ]
    },
    {
     "name": "stderr",
     "output_type": "stream",
     "text": [
      "100%|██████████| 390/390 [00:11<00:00, 34.91it/s]\n"
     ]
    },
    {
     "name": "stdout",
     "output_type": "stream",
     "text": [
      "---------------------------------------------------------------------------\n",
      "| end of epoch 129 | time: 86.46s | valid loss 0.00010 | valid ppl     1.00 |\n",
      "---------------------------------------------------------------------------\n",
      "|epoch 130 |     0/  909 batches | lr 0.000071 | loss 0.00025\n",
      "|epoch 130 |   181/  909 batches | lr 0.000071 | loss 0.04305\n",
      "|epoch 130 |   362/  909 batches | lr 0.000071 | loss 0.04274\n",
      "|epoch 130 |   543/  909 batches | lr 0.000071 | loss 0.04277\n",
      "|epoch 130 |   724/  909 batches | lr 0.000071 | loss 0.04251\n",
      "|epoch 130 |   905/  909 batches | lr 0.000071 | loss 0.04292\n"
     ]
    },
    {
     "name": "stderr",
     "output_type": "stream",
     "text": [
      "100%|██████████| 390/390 [00:11<00:00, 34.60it/s]\n"
     ]
    },
    {
     "name": "stdout",
     "output_type": "stream",
     "text": [
      "---------------------------------------------------------------------------\n",
      "| end of epoch 130 | time: 86.58s | valid loss 0.00010 | valid ppl     1.00 |\n",
      "---------------------------------------------------------------------------\n",
      "|epoch 131 |     0/  909 batches | lr 0.000069 | loss 0.00023\n",
      "|epoch 131 |   181/  909 batches | lr 0.000069 | loss 0.04284\n",
      "|epoch 131 |   362/  909 batches | lr 0.000069 | loss 0.04285\n",
      "|epoch 131 |   543/  909 batches | lr 0.000069 | loss 0.04276\n",
      "|epoch 131 |   724/  909 batches | lr 0.000069 | loss 0.04274\n",
      "|epoch 131 |   905/  909 batches | lr 0.000069 | loss 0.04285\n"
     ]
    },
    {
     "name": "stderr",
     "output_type": "stream",
     "text": [
      "100%|██████████| 390/390 [00:11<00:00, 34.65it/s]\n"
     ]
    },
    {
     "name": "stdout",
     "output_type": "stream",
     "text": [
      "---------------------------------------------------------------------------\n",
      "| end of epoch 131 | time: 86.47s | valid loss 0.00010 | valid ppl     1.00 |\n",
      "---------------------------------------------------------------------------\n",
      "|epoch 132 |     0/  909 batches | lr 0.000068 | loss 0.00023\n",
      "|epoch 132 |   181/  909 batches | lr 0.000068 | loss 0.04270\n",
      "|epoch 132 |   362/  909 batches | lr 0.000068 | loss 0.04284\n",
      "|epoch 132 |   543/  909 batches | lr 0.000068 | loss 0.04282\n",
      "|epoch 132 |   724/  909 batches | lr 0.000068 | loss 0.04271\n",
      "|epoch 132 |   905/  909 batches | lr 0.000068 | loss 0.04292\n"
     ]
    },
    {
     "name": "stderr",
     "output_type": "stream",
     "text": [
      "100%|██████████| 390/390 [00:11<00:00, 34.58it/s]\n"
     ]
    },
    {
     "name": "stdout",
     "output_type": "stream",
     "text": [
      "---------------------------------------------------------------------------\n",
      "| end of epoch 132 | time: 86.54s | valid loss 0.00010 | valid ppl     1.00 |\n",
      "---------------------------------------------------------------------------\n",
      "|epoch 133 |     0/  909 batches | lr 0.000067 | loss 0.00024\n",
      "|epoch 133 |   181/  909 batches | lr 0.000067 | loss 0.04272\n",
      "|epoch 133 |   362/  909 batches | lr 0.000067 | loss 0.04282\n",
      "|epoch 133 |   543/  909 batches | lr 0.000067 | loss 0.04287\n",
      "|epoch 133 |   724/  909 batches | lr 0.000067 | loss 0.04280\n",
      "|epoch 133 |   905/  909 batches | lr 0.000067 | loss 0.04277\n"
     ]
    },
    {
     "name": "stderr",
     "output_type": "stream",
     "text": [
      "100%|██████████| 390/390 [00:11<00:00, 34.53it/s]\n"
     ]
    },
    {
     "name": "stdout",
     "output_type": "stream",
     "text": [
      "---------------------------------------------------------------------------\n",
      "| end of epoch 133 | time: 86.62s | valid loss 0.00010 | valid ppl     1.00 |\n",
      "---------------------------------------------------------------------------\n",
      "|epoch 134 |     0/  909 batches | lr 0.000065 | loss 0.00024\n",
      "|epoch 134 |   181/  909 batches | lr 0.000065 | loss 0.04283\n",
      "|epoch 134 |   362/  909 batches | lr 0.000065 | loss 0.04287\n",
      "|epoch 134 |   543/  909 batches | lr 0.000065 | loss 0.04278\n",
      "|epoch 134 |   724/  909 batches | lr 0.000065 | loss 0.04273\n",
      "|epoch 134 |   905/  909 batches | lr 0.000065 | loss 0.04278\n"
     ]
    },
    {
     "name": "stderr",
     "output_type": "stream",
     "text": [
      "100%|██████████| 390/390 [00:11<00:00, 34.48it/s]\n"
     ]
    },
    {
     "name": "stdout",
     "output_type": "stream",
     "text": [
      "---------------------------------------------------------------------------\n",
      "| end of epoch 134 | time: 86.63s | valid loss 0.00010 | valid ppl     1.00 |\n",
      "---------------------------------------------------------------------------\n",
      "|epoch 135 |     0/  909 batches | lr 0.000064 | loss 0.00025\n",
      "|epoch 135 |   181/  909 batches | lr 0.000064 | loss 0.04291\n",
      "|epoch 135 |   362/  909 batches | lr 0.000064 | loss 0.04288\n",
      "|epoch 135 |   543/  909 batches | lr 0.000064 | loss 0.04285\n",
      "|epoch 135 |   724/  909 batches | lr 0.000064 | loss 0.04267\n",
      "|epoch 135 |   905/  909 batches | lr 0.000064 | loss 0.04264\n"
     ]
    },
    {
     "name": "stderr",
     "output_type": "stream",
     "text": [
      "100%|██████████| 390/390 [00:11<00:00, 34.43it/s]\n"
     ]
    },
    {
     "name": "stdout",
     "output_type": "stream",
     "text": [
      "---------------------------------------------------------------------------\n",
      "| end of epoch 135 | time: 86.76s | valid loss 0.00010 | valid ppl     1.00 |\n",
      "---------------------------------------------------------------------------\n",
      "|epoch 136 |     0/  909 batches | lr 0.000063 | loss 0.00024\n",
      "|epoch 136 |   181/  909 batches | lr 0.000063 | loss 0.04281\n",
      "|epoch 136 |   362/  909 batches | lr 0.000063 | loss 0.04262\n",
      "|epoch 136 |   543/  909 batches | lr 0.000063 | loss 0.04259\n",
      "|epoch 136 |   724/  909 batches | lr 0.000063 | loss 0.04301\n",
      "|epoch 136 |   905/  909 batches | lr 0.000063 | loss 0.04298\n"
     ]
    },
    {
     "name": "stderr",
     "output_type": "stream",
     "text": [
      "100%|██████████| 390/390 [00:11<00:00, 34.84it/s]\n"
     ]
    },
    {
     "name": "stdout",
     "output_type": "stream",
     "text": [
      "---------------------------------------------------------------------------\n",
      "| end of epoch 136 | time: 86.54s | valid loss 0.00010 | valid ppl     1.00 |\n",
      "---------------------------------------------------------------------------\n",
      "|epoch 137 |     0/  909 batches | lr 0.000062 | loss 0.00024\n",
      "|epoch 137 |   181/  909 batches | lr 0.000062 | loss 0.04265\n",
      "|epoch 137 |   362/  909 batches | lr 0.000062 | loss 0.04293\n",
      "|epoch 137 |   543/  909 batches | lr 0.000062 | loss 0.04278\n",
      "|epoch 137 |   724/  909 batches | lr 0.000062 | loss 0.04267\n",
      "|epoch 137 |   905/  909 batches | lr 0.000062 | loss 0.04299\n"
     ]
    },
    {
     "name": "stderr",
     "output_type": "stream",
     "text": [
      "100%|██████████| 390/390 [00:11<00:00, 34.57it/s]\n"
     ]
    },
    {
     "name": "stdout",
     "output_type": "stream",
     "text": [
      "---------------------------------------------------------------------------\n",
      "| end of epoch 137 | time: 86.74s | valid loss 0.00010 | valid ppl     1.00 |\n",
      "---------------------------------------------------------------------------\n",
      "|epoch 138 |     0/  909 batches | lr 0.000060 | loss 0.00023\n",
      "|epoch 138 |   181/  909 batches | lr 0.000060 | loss 0.04284\n",
      "|epoch 138 |   362/  909 batches | lr 0.000060 | loss 0.04295\n",
      "|epoch 138 |   543/  909 batches | lr 0.000060 | loss 0.04278\n",
      "|epoch 138 |   724/  909 batches | lr 0.000060 | loss 0.04264\n",
      "|epoch 138 |   905/  909 batches | lr 0.000060 | loss 0.04279\n"
     ]
    },
    {
     "name": "stderr",
     "output_type": "stream",
     "text": [
      "100%|██████████| 390/390 [00:11<00:00, 34.69it/s]\n"
     ]
    },
    {
     "name": "stdout",
     "output_type": "stream",
     "text": [
      "---------------------------------------------------------------------------\n",
      "| end of epoch 138 | time: 86.55s | valid loss 0.00010 | valid ppl     1.00 |\n",
      "---------------------------------------------------------------------------\n",
      "|epoch 139 |     0/  909 batches | lr 0.000059 | loss 0.00024\n",
      "|epoch 139 |   181/  909 batches | lr 0.000059 | loss 0.04278\n",
      "|epoch 139 |   362/  909 batches | lr 0.000059 | loss 0.04274\n",
      "|epoch 139 |   543/  909 batches | lr 0.000059 | loss 0.04261\n",
      "|epoch 139 |   724/  909 batches | lr 0.000059 | loss 0.04286\n",
      "|epoch 139 |   905/  909 batches | lr 0.000059 | loss 0.04298\n"
     ]
    },
    {
     "name": "stderr",
     "output_type": "stream",
     "text": [
      "100%|██████████| 390/390 [00:11<00:00, 34.42it/s]\n"
     ]
    },
    {
     "name": "stdout",
     "output_type": "stream",
     "text": [
      "---------------------------------------------------------------------------\n",
      "| end of epoch 139 | time: 86.66s | valid loss 0.00010 | valid ppl     1.00 |\n",
      "---------------------------------------------------------------------------\n",
      "|epoch 140 |     0/  909 batches | lr 0.000058 | loss 0.00022\n",
      "|epoch 140 |   181/  909 batches | lr 0.000058 | loss 0.04281\n",
      "|epoch 140 |   362/  909 batches | lr 0.000058 | loss 0.04284\n",
      "|epoch 140 |   543/  909 batches | lr 0.000058 | loss 0.04273\n",
      "|epoch 140 |   724/  909 batches | lr 0.000058 | loss 0.04272\n",
      "|epoch 140 |   905/  909 batches | lr 0.000058 | loss 0.04288\n"
     ]
    },
    {
     "name": "stderr",
     "output_type": "stream",
     "text": [
      "100%|██████████| 390/390 [00:11<00:00, 34.39it/s]\n"
     ]
    },
    {
     "name": "stdout",
     "output_type": "stream",
     "text": [
      "---------------------------------------------------------------------------\n",
      "| end of epoch 140 | time: 86.66s | valid loss 0.00010 | valid ppl     1.00 |\n",
      "---------------------------------------------------------------------------\n",
      "|epoch 141 |     0/  909 batches | lr 0.000057 | loss 0.00024\n",
      "|epoch 141 |   181/  909 batches | lr 0.000057 | loss 0.04283\n",
      "|epoch 141 |   362/  909 batches | lr 0.000057 | loss 0.04273\n",
      "|epoch 141 |   543/  909 batches | lr 0.000057 | loss 0.04285\n",
      "|epoch 141 |   724/  909 batches | lr 0.000057 | loss 0.04282\n",
      "|epoch 141 |   905/  909 batches | lr 0.000057 | loss 0.04277\n"
     ]
    },
    {
     "name": "stderr",
     "output_type": "stream",
     "text": [
      "100%|██████████| 390/390 [00:11<00:00, 35.02it/s]\n"
     ]
    },
    {
     "name": "stdout",
     "output_type": "stream",
     "text": [
      "---------------------------------------------------------------------------\n",
      "| end of epoch 141 | time: 86.55s | valid loss 0.00010 | valid ppl     1.00 |\n",
      "---------------------------------------------------------------------------\n",
      "|epoch 142 |     0/  909 batches | lr 0.000056 | loss 0.00022\n",
      "|epoch 142 |   181/  909 batches | lr 0.000056 | loss 0.04267\n",
      "|epoch 142 |   362/  909 batches | lr 0.000056 | loss 0.04278\n",
      "|epoch 142 |   543/  909 batches | lr 0.000056 | loss 0.04283\n",
      "|epoch 142 |   724/  909 batches | lr 0.000056 | loss 0.04282\n",
      "|epoch 142 |   905/  909 batches | lr 0.000056 | loss 0.04289\n"
     ]
    },
    {
     "name": "stderr",
     "output_type": "stream",
     "text": [
      "100%|██████████| 390/390 [00:11<00:00, 34.54it/s]\n"
     ]
    },
    {
     "name": "stdout",
     "output_type": "stream",
     "text": [
      "---------------------------------------------------------------------------\n",
      "| end of epoch 142 | time: 86.69s | valid loss 0.00010 | valid ppl     1.00 |\n",
      "---------------------------------------------------------------------------\n",
      "|epoch 143 |     0/  909 batches | lr 0.000055 | loss 0.00023\n",
      "|epoch 143 |   181/  909 batches | lr 0.000055 | loss 0.04269\n",
      "|epoch 143 |   362/  909 batches | lr 0.000055 | loss 0.04303\n",
      "|epoch 143 |   543/  909 batches | lr 0.000055 | loss 0.04270\n",
      "|epoch 143 |   724/  909 batches | lr 0.000055 | loss 0.04255\n",
      "|epoch 143 |   905/  909 batches | lr 0.000055 | loss 0.04303\n"
     ]
    },
    {
     "name": "stderr",
     "output_type": "stream",
     "text": [
      "100%|██████████| 390/390 [00:11<00:00, 34.96it/s]\n"
     ]
    },
    {
     "name": "stdout",
     "output_type": "stream",
     "text": [
      "---------------------------------------------------------------------------\n",
      "| end of epoch 143 | time: 86.49s | valid loss 0.00010 | valid ppl     1.00 |\n",
      "---------------------------------------------------------------------------\n",
      "|epoch 144 |     0/  909 batches | lr 0.000053 | loss 0.00024\n",
      "|epoch 144 |   181/  909 batches | lr 0.000053 | loss 0.04284\n",
      "|epoch 144 |   362/  909 batches | lr 0.000053 | loss 0.04310\n",
      "|epoch 144 |   543/  909 batches | lr 0.000053 | loss 0.04276\n",
      "|epoch 144 |   724/  909 batches | lr 0.000053 | loss 0.04253\n",
      "|epoch 144 |   905/  909 batches | lr 0.000053 | loss 0.04276\n"
     ]
    },
    {
     "name": "stderr",
     "output_type": "stream",
     "text": [
      "100%|██████████| 390/390 [00:11<00:00, 34.56it/s]\n"
     ]
    },
    {
     "name": "stdout",
     "output_type": "stream",
     "text": [
      "---------------------------------------------------------------------------\n",
      "| end of epoch 144 | time: 86.71s | valid loss 0.00010 | valid ppl     1.00 |\n",
      "---------------------------------------------------------------------------\n",
      "|epoch 145 |     0/  909 batches | lr 0.000052 | loss 0.00023\n",
      "|epoch 145 |   181/  909 batches | lr 0.000052 | loss 0.04280\n",
      "|epoch 145 |   362/  909 batches | lr 0.000052 | loss 0.04277\n",
      "|epoch 145 |   543/  909 batches | lr 0.000052 | loss 0.04270\n",
      "|epoch 145 |   724/  909 batches | lr 0.000052 | loss 0.04277\n",
      "|epoch 145 |   905/  909 batches | lr 0.000052 | loss 0.04296\n"
     ]
    },
    {
     "name": "stderr",
     "output_type": "stream",
     "text": [
      "100%|██████████| 390/390 [00:11<00:00, 34.62it/s]\n"
     ]
    },
    {
     "name": "stdout",
     "output_type": "stream",
     "text": [
      "---------------------------------------------------------------------------\n",
      "| end of epoch 145 | time: 86.53s | valid loss 0.00010 | valid ppl     1.00 |\n",
      "---------------------------------------------------------------------------\n",
      "|epoch 146 |     0/  909 batches | lr 0.000051 | loss 0.00024\n",
      "|epoch 146 |   181/  909 batches | lr 0.000051 | loss 0.04295\n",
      "|epoch 146 |   362/  909 batches | lr 0.000051 | loss 0.04252\n",
      "|epoch 146 |   543/  909 batches | lr 0.000051 | loss 0.04292\n",
      "|epoch 146 |   724/  909 batches | lr 0.000051 | loss 0.04275\n",
      "|epoch 146 |   905/  909 batches | lr 0.000051 | loss 0.04286\n"
     ]
    },
    {
     "name": "stderr",
     "output_type": "stream",
     "text": [
      "100%|██████████| 390/390 [00:11<00:00, 34.61it/s]\n"
     ]
    },
    {
     "name": "stdout",
     "output_type": "stream",
     "text": [
      "---------------------------------------------------------------------------\n",
      "| end of epoch 146 | time: 86.54s | valid loss 0.00010 | valid ppl     1.00 |\n",
      "---------------------------------------------------------------------------\n",
      "|epoch 147 |     0/  909 batches | lr 0.000050 | loss 0.00024\n",
      "|epoch 147 |   181/  909 batches | lr 0.000050 | loss 0.04273\n",
      "|epoch 147 |   362/  909 batches | lr 0.000050 | loss 0.04292\n",
      "|epoch 147 |   543/  909 batches | lr 0.000050 | loss 0.04264\n",
      "|epoch 147 |   724/  909 batches | lr 0.000050 | loss 0.04283\n",
      "|epoch 147 |   905/  909 batches | lr 0.000050 | loss 0.04286\n"
     ]
    },
    {
     "name": "stderr",
     "output_type": "stream",
     "text": [
      "100%|██████████| 390/390 [00:11<00:00, 34.90it/s]\n"
     ]
    },
    {
     "name": "stdout",
     "output_type": "stream",
     "text": [
      "---------------------------------------------------------------------------\n",
      "| end of epoch 147 | time: 86.53s | valid loss 0.00010 | valid ppl     1.00 |\n",
      "---------------------------------------------------------------------------\n",
      "|epoch 148 |     0/  909 batches | lr 0.000049 | loss 0.00023\n",
      "|epoch 148 |   181/  909 batches | lr 0.000049 | loss 0.04275\n",
      "|epoch 148 |   362/  909 batches | lr 0.000049 | loss 0.04290\n",
      "|epoch 148 |   543/  909 batches | lr 0.000049 | loss 0.04280\n",
      "|epoch 148 |   724/  909 batches | lr 0.000049 | loss 0.04273\n",
      "|epoch 148 |   905/  909 batches | lr 0.000049 | loss 0.04280\n"
     ]
    },
    {
     "name": "stderr",
     "output_type": "stream",
     "text": [
      "100%|██████████| 390/390 [00:11<00:00, 34.82it/s]\n"
     ]
    },
    {
     "name": "stdout",
     "output_type": "stream",
     "text": [
      "---------------------------------------------------------------------------\n",
      "| end of epoch 148 | time: 86.60s | valid loss 0.00010 | valid ppl     1.00 |\n",
      "---------------------------------------------------------------------------\n",
      "|epoch 149 |     0/  909 batches | lr 0.000048 | loss 0.00024\n",
      "|epoch 149 |   181/  909 batches | lr 0.000048 | loss 0.04269\n",
      "|epoch 149 |   362/  909 batches | lr 0.000048 | loss 0.04274\n",
      "|epoch 149 |   543/  909 batches | lr 0.000048 | loss 0.04294\n",
      "|epoch 149 |   724/  909 batches | lr 0.000048 | loss 0.04265\n",
      "|epoch 149 |   905/  909 batches | lr 0.000048 | loss 0.04297\n"
     ]
    },
    {
     "name": "stderr",
     "output_type": "stream",
     "text": [
      "100%|██████████| 390/390 [00:11<00:00, 34.54it/s]\n"
     ]
    },
    {
     "name": "stdout",
     "output_type": "stream",
     "text": [
      "---------------------------------------------------------------------------\n",
      "| end of epoch 149 | time: 86.78s | valid loss 0.00010 | valid ppl     1.00 |\n",
      "---------------------------------------------------------------------------\n",
      "|epoch 150 |     0/  909 batches | lr 0.000047 | loss 0.00023\n",
      "|epoch 150 |   181/  909 batches | lr 0.000047 | loss 0.04283\n",
      "|epoch 150 |   362/  909 batches | lr 0.000047 | loss 0.04294\n",
      "|epoch 150 |   543/  909 batches | lr 0.000047 | loss 0.04271\n",
      "|epoch 150 |   724/  909 batches | lr 0.000047 | loss 0.04275\n",
      "|epoch 150 |   905/  909 batches | lr 0.000047 | loss 0.04275\n"
     ]
    },
    {
     "name": "stderr",
     "output_type": "stream",
     "text": [
      "100%|██████████| 390/390 [13:33<00:00,  2.09s/it]\n"
     ]
    },
    {
     "data": {
      "image/png": "[encoded data removed]",
      "text/plain": [
       "<Figure size 640x480 with 1 Axes>"
      ]
     },
     "metadata": {},
     "output_type": "display_data"
    },
    {
     "name": "stdout",
     "output_type": "stream",
     "text": [
      "---------------------------------------------------------------------------\n",
      "| end of epoch 150 | time: 890.10s | valid loss 28.79883 | valid ppl 3214956471399.60 |\n",
      "---------------------------------------------------------------------------\n"
     ]
    }
   ],
   "source": [
    "best_val_loss = float(\"inf\")\n",
    "best_model = None\n",
    "\n",
    "for epoch in range(1, epochs + 1):\n",
    "    start_time = time.time()\n",
    "    train(model, train_dataloader, device, optimizer, criterion, epoch, scheduler)\n",
    "    \n",
    "    if (epoch % 50 == 0):\n",
    "        truth, test_result, result_to_ML, val_loss = calculate_loss_and_plot(model, test_dataloader, device, criterion, output_window, scaler_test,batch_size)\n",
    "    else:\n",
    "        val_loss = evaluate(model, test_dataloader, device, criterion, output_window)\n",
    "    \n",
    "    print('-' * 75)\n",
    "    print('| end of epoch {:3d} | time: {:5.2f}s | valid loss {:5.5f} | valid ppl {:8.2f} |'.format(epoch, (time.time() - start_time),\n",
    "                                        val_loss, math.exp(val_loss)))\n",
    "    print('-' * 75)\n",
    "    \n",
    "    scheduler.step()"
   ]
  },
  {
   "cell_type": "code",
   "execution_count": null,
   "metadata": {},
   "outputs": [],
   "source": [
    "# train_data.shape\n",
    "# for batch in train_dataloader:\n",
    "#     input_batch , label_batch = batch[0].to(device), batch[1].to(device)\n",
    "    \n",
    "#     for idx in range(batch_size):\n",
    "#         input = input_batch[idx].unsqueeze(0)\n",
    "#         label = label_batch[idx].unsqueeze(0)\n",
    "#         break\n",
    "        \n",
    "\n",
    "# input.shape, label.shape\n",
    "\n",
    "# X_train.shape #[batch, input_window, 1]\n",
    "# output = model(input)\n",
    "# output.shape\n",
    "\n",
    "# output[:, -output_window:].view(-1).shape\n",
    "# result_to_ML = []\n",
    "# test_result = torch.Tensor(0)\n",
    "# test_result = torch.cat((test_result, output[:, -output_window:].view(-1).cpu()), 0)\n",
    "# result_to_ML.append(output[:, -output_window:].view(-1).cpu().detach().numpy())\n",
    "# for list in result_to_ML:\n",
    "#     print(list)\n",
    "# for idx, batch in enumerate(tqdm(test_dataloader)):\n",
    "#             input_batch, label_batch = batch[0].to(device), batch[1].to(device)\n",
    "#             break\n",
    "        \n",
    "# input_batch.shape[0]"
   ]
  },
  {
   "cell_type": "markdown",
   "metadata": {},
   "source": [
    "# ML"
   ]
  },
  {
   "cell_type": "markdown",
   "metadata": {},
   "source": [
    "### Train"
   ]
  },
  {
   "cell_type": "code",
   "execution_count": null,
   "metadata": {},
   "outputs": [],
   "source": [
    "from final_functions.final_ML import time_series_dataframe_ML\n",
    "\n",
    "df_ts_ML, _, _ = time_series_dataframe_ML()"
   ]
  },
  {
   "cell_type": "code",
   "execution_count": 1,
   "metadata": {},
   "outputs": [],
   "source": [
    "from final_functions.final_ML import ML, make_dataframe\n",
    "from sklearn.model_selection import GridSearchCV\n",
    "from sklearn.model_selection import train_test_split\n",
    "from sklearn.ensemble import RandomForestClassifier\n",
    "\n",
    "df_ML = make_dataframe(60,1)\n",
    "X = df_ML.iloc[:, :9].values\n",
    "y = df_ML['label'].values\n",
    "X_train, X_test, y_train, y_test = train_test_split(X,y, test_size = 0.2, random_state = 42, shuffle = True)\n",
    "\n"
   ]
  },
  {
   "cell_type": "code",
   "execution_count": null,
   "metadata": {},
   "outputs": [],
   "source": [
    "params = { 'n_estimators' : [10,20,50,100],\n",
    "           'max_depth' : [10,20,30,40,50,60],\n",
    "           'min_samples_leaf' : [8, 12, 18],\n",
    "           'min_samples_split' : [8, 16, 20]\n",
    "            }\n",
    "\n",
    "# RandomForestClassifier 객체 생성 후 GridSearchCV 수행\n",
    "rf_clf = RandomForestClassifier(random_state = 42, n_jobs = -1)\n",
    "grid_cv = GridSearchCV(rf_clf, param_grid = params, cv = 3, n_jobs = -1)\n",
    "grid_cv.fit(X_train, y_train)\n",
    "\n",
    "print('최적 하이퍼 파라미터: ', grid_cv.best_params_)\n",
    "print('최고 예측 정확도: {:.4f}'.format(grid_cv.best_score_))"
   ]
  },
  {
   "cell_type": "code",
   "execution_count": null,
   "metadata": {},
   "outputs": [],
   "source": [
    "ML_model, ML_accuracy = ML()\n",
    "print(ML_accuracy)"
   ]
  },
  {
   "cell_type": "markdown",
   "metadata": {},
   "source": [
    "### Transformer output to DataFrame"
   ]
  },
  {
   "cell_type": "code",
   "execution_count": null,
   "metadata": {},
   "outputs": [],
   "source": [
    "from scipy.stats import skew, kurtosis\n",
    "\n",
    "columns = {'MEAN_TEMP' : [], 'STD' : [], 'MIN' : [], 'MAX' : [], 'SKEW' : [], 'KURT' : [], 'MEDIAN':[], '25%' : [], '75%' : []} #, 'label' : []\n",
    "for LIST in result_to_ML:\n",
    "    \n",
    "    MEAN = np.round(np.mean(LIST), 3)\n",
    "    MIN = np.min(LIST)\n",
    "    MAX = np.max(LIST)\n",
    "    STD = np.std(LIST)\n",
    "    median = np.median(LIST)\n",
    "    SKEW = skew(LIST)\n",
    "    KURT = kurtosis(LIST)\n",
    "    a, b = np.percentile(LIST, q = [25,75])\n",
    "    \n",
    "    #columns['label'].append(i)\n",
    "    columns['MEAN_TEMP'].append(MEAN)\n",
    "    columns['MIN'].append(MIN)\n",
    "    columns['MAX'].append(MAX)\n",
    "    columns['STD'].append(STD)\n",
    "    columns['SKEW'].append(SKEW)\n",
    "    columns['KURT'].append(KURT)\n",
    "    columns['MEDIAN'].append(np.round(median,3))\n",
    "    columns['25%'].append(np.round(a,3))\n",
    "    columns['75%'].append(np.round(b,3))\n",
    "\n",
    "LABEL = pd.DataFrame({'label' : test_label})\n",
    "\n",
    "dataframe = pd.DataFrame(columns)\n",
    "dataframe = pd.concat([dataframe, LABEL], axis = 1)\n",
    "dataframe"
   ]
  },
  {
   "cell_type": "code",
   "execution_count": null,
   "metadata": {},
   "outputs": [],
   "source": []
  }
 ],
 "metadata": {
  "kernelspec": {
   "display_name": "hanhwa",
   "language": "python",
   "name": "python3"
  },
  "language_info": {
   "codemirror_mode": {
    "name": "ipython",
    "version": 3
   },
   "file_extension": ".py",
   "mimetype": "text/x-python",
   "name": "python",
   "nbconvert_exporter": "python",
   "pygments_lexer": "ipython3",
   "version": "3.11.4"
  }
 },
 "nbformat": 4,
 "nbformat_minor": 2
}
