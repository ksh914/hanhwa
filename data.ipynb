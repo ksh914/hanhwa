{
 "cells": [
  {
   "cell_type": "code",
   "execution_count": 2,
   "metadata": {},
   "outputs": [],
   "source": [
    "import pandas as pd\n",
    "import numpy as np\n",
    "import os\n",
    "import matplotlib.pyplot as plt\n",
    "import warnings\n",
    "import seaborn as sns\n",
    "\n",
    "warnings.filterwarnings('ignore')\n",
    "%matplotlib inline\n",
    "#device = 'cuda' if torch.cuda.is_available() else 'cpu'"
   ]
  },
  {
   "cell_type": "markdown",
   "metadata": {},
   "source": [
    "# 모의 1: GAS MEAN TEMP 만 다루기 위한 데이터 전처리"
   ]
  },
  {
   "cell_type": "markdown",
   "metadata": {},
   "source": [
    "### 예시 : 1월 데이터"
   ]
  },
  {
   "cell_type": "code",
   "execution_count": 3,
   "metadata": {},
   "outputs": [
    {
     "data": {
      "text/html": [
       "<div>\n",
       "<style scoped>\n",
       "    .dataframe tbody tr th:only-of-type {\n",
       "        vertical-align: middle;\n",
       "    }\n",
       "\n",
       "    .dataframe tbody tr th {\n",
       "        vertical-align: top;\n",
       "    }\n",
       "\n",
       "    .dataframe thead th {\n",
       "        text-align: right;\n",
       "    }\n",
       "</style>\n",
       "<table border=\"1\" class=\"dataframe\">\n",
       "  <thead>\n",
       "    <tr style=\"text-align: right;\">\n",
       "      <th></th>\n",
       "      <th>date</th>\n",
       "      <th>kst</th>\n",
       "      <th>GAS MEAN TEMP</th>\n",
       "    </tr>\n",
       "  </thead>\n",
       "  <tbody>\n",
       "    <tr>\n",
       "      <th>0</th>\n",
       "      <td>20230101</td>\n",
       "      <td>9:00</td>\n",
       "      <td>286.9395</td>\n",
       "    </tr>\n",
       "    <tr>\n",
       "      <th>1</th>\n",
       "      <td>20230101</td>\n",
       "      <td>9:01</td>\n",
       "      <td>285.8550</td>\n",
       "    </tr>\n",
       "    <tr>\n",
       "      <th>2</th>\n",
       "      <td>20230101</td>\n",
       "      <td>9:02</td>\n",
       "      <td>286.3170</td>\n",
       "    </tr>\n",
       "    <tr>\n",
       "      <th>3</th>\n",
       "      <td>20230101</td>\n",
       "      <td>9:03</td>\n",
       "      <td>285.1720</td>\n",
       "    </tr>\n",
       "    <tr>\n",
       "      <th>4</th>\n",
       "      <td>20230101</td>\n",
       "      <td>9:04</td>\n",
       "      <td>285.0330</td>\n",
       "    </tr>\n",
       "    <tr>\n",
       "      <th>...</th>\n",
       "      <td>...</td>\n",
       "      <td>...</td>\n",
       "      <td>...</td>\n",
       "    </tr>\n",
       "    <tr>\n",
       "      <th>44092</th>\n",
       "      <td>20230131</td>\n",
       "      <td>23:55</td>\n",
       "      <td>275.0270</td>\n",
       "    </tr>\n",
       "    <tr>\n",
       "      <th>44093</th>\n",
       "      <td>20230131</td>\n",
       "      <td>23:56</td>\n",
       "      <td>274.8775</td>\n",
       "    </tr>\n",
       "    <tr>\n",
       "      <th>44094</th>\n",
       "      <td>20230131</td>\n",
       "      <td>23:57</td>\n",
       "      <td>274.7335</td>\n",
       "    </tr>\n",
       "    <tr>\n",
       "      <th>44095</th>\n",
       "      <td>20230131</td>\n",
       "      <td>23:58</td>\n",
       "      <td>274.6310</td>\n",
       "    </tr>\n",
       "    <tr>\n",
       "      <th>44096</th>\n",
       "      <td>20230131</td>\n",
       "      <td>23:59</td>\n",
       "      <td>274.5045</td>\n",
       "    </tr>\n",
       "  </tbody>\n",
       "</table>\n",
       "<p>44097 rows × 3 columns</p>\n",
       "</div>"
      ],
      "text/plain": [
       "           date    kst  GAS MEAN TEMP\n",
       "0      20230101   9:00       286.9395\n",
       "1      20230101   9:01       285.8550\n",
       "2      20230101   9:02       286.3170\n",
       "3      20230101   9:03       285.1720\n",
       "4      20230101   9:04       285.0330\n",
       "...         ...    ...            ...\n",
       "44092  20230131  23:55       275.0270\n",
       "44093  20230131  23:56       274.8775\n",
       "44094  20230131  23:57       274.7335\n",
       "44095  20230131  23:58       274.6310\n",
       "44096  20230131  23:59       274.5045\n",
       "\n",
       "[44097 rows x 3 columns]"
      ]
     },
     "execution_count": 3,
     "metadata": {},
     "output_type": "execute_result"
    }
   ],
   "source": [
    "df = pd.read_csv('C:/Users/Sejong/Desktop/한화오션/모의csv파일/general_pivot_1.csv', encoding = 'cp949')\n",
    "df = df.drop([df.columns[i] for i in range(3,38,2)], axis = 1)\n",
    "df['kst'] = [df['kst'][i][11:] for i in range(0,88194)]\n",
    "df.rename(columns = {'癤풼s_date' : 'date'}, inplace = True)\n",
    "df_gas = df.iloc[:, :8] # gas temerature data frame\n",
    "df_gas_mean = pd.concat([df.iloc[:, :2], df.iloc[:,7]], axis = 1)\n",
    "df_gas_mean_new = {'date' : [],\n",
    "                   'kst' : [],\n",
    "                   'GAS MEAN TEMP' :[]}\n",
    "\n",
    "for i in range(0,len(df_gas_mean['date']),2): # 0, 2, 4,...\n",
    "    MEAN = (df_gas_mean['ME(S) CYL EXH GAS MEAN TEMP'][i] + df_gas_mean['ME(S) CYL EXH GAS MEAN TEMP'][i+1]) / 2\n",
    "    df_gas_mean_new['date'].append(df_gas_mean['date'][i])\n",
    "    df_gas_mean_new['kst'].append(df_gas_mean['kst'][i])\n",
    "    df_gas_mean_new['GAS MEAN TEMP'].append(MEAN)\n",
    "\n",
    "df_gas_mean_new = pd.DataFrame(df_gas_mean_new)\n",
    "df_gas_mean_new"
   ]
  },
  {
   "cell_type": "markdown",
   "metadata": {},
   "source": [
    "### 1-8월 까지의 데이터 GAS MEAN TEMP 만 뽑아서 dataframe 작성"
   ]
  },
  {
   "cell_type": "code",
   "execution_count": 4,
   "metadata": {},
   "outputs": [],
   "source": [
    "for idx in range(1,9): # 1월부터 8월까지\n",
    "    df = pd.read_csv('C:/Users/Sejong/Desktop/한화오션/모의csv파일/general_pivot_{}.csv'.format(idx), encoding = 'cp949')\n",
    "    df = df.drop([df.columns[i] for i in range(3,38,2)], axis = 1)\n",
    "    df['kst'] = [df['kst'][i][11:] for i in range(0,len(df['kst']))]\n",
    "    df.rename(columns = {'癤풼s_date' : 'date'}, inplace = True)\n",
    "    df_gas = df.iloc[:, :8] # gas temerature data frame\n",
    "    df_gas_mean = pd.concat([df.iloc[:, :2], df.iloc[:,7]], axis = 1)\n",
    "    globals()['df_gas_mean_new_' + str(idx)] = {'date' : [],\n",
    "                    'kst' : [],\n",
    "                    'GAS MEAN TEMP' :[]}\n",
    "    \n",
    "    # 새로운 DataFrame 만들기\n",
    "    for i in range(0,len(df_gas_mean['date']),2): # 0, 2, 4,...\n",
    "\n",
    "        # 똑같은 시간(09:00, 09:00) 시간의 GAS TEMP 의 평균을 구해서 하나로 합침\n",
    "        MEAN = (df_gas_mean['ME(S) CYL EXH GAS MEAN TEMP'][i] + df_gas_mean['ME(S) CYL EXH GAS MEAN TEMP'][i+1]) / 2\n",
    "\n",
    "        # df_gas_mean_new_{}인 DataFrame에 값 할당\n",
    "        globals()['df_gas_mean_new_' + str(idx)]['date'].append(df_gas_mean['date'][i])\n",
    "        globals()['df_gas_mean_new_' + str(idx)]['kst'].append(df_gas_mean['kst'][i])\n",
    "        globals()['df_gas_mean_new_' + str(idx)]['GAS MEAN TEMP'].append(MEAN)\n",
    "    \n",
    "    globals()['df_gas_mean_new_' + str(idx)] = pd.DataFrame( globals()['df_gas_mean_new_' + str(idx)]) # df_gas_mewn_new_1,2...8\n",
    "\n",
    "# 결측치 평균값으로 채우기\n",
    "df_gas_mean_new_7['GAS MEAN TEMP'][13884:13886] = 293.81375\n",
    "df_gas_mean_new_7['GAS MEAN TEMP'][13893] = 295.035\n",
    "df_gas_mean_new_7['GAS MEAN TEMP'][13898:13901] = 295.217\n",
    "df_gas_mean_new_7['GAS MEAN TEMP'][14916] = 270.82\n",
    "df_gas_mean_new_7['GAS MEAN TEMP'][14945] = 270.72"
   ]
  },
  {
   "cell_type": "markdown",
   "metadata": {},
   "source": [
    "### 일별로 데이터가 몇개 있는지 Count"
   ]
  },
  {
   "cell_type": "markdown",
   "metadata": {},
   "source": [
    "#### 00시 ~ 24시 : 24 * 60 = 1440 \n",
    "#### 09시 ~ 24시 : 15 * 60 = 900"
   ]
  },
  {
   "cell_type": "code",
   "execution_count": 5,
   "metadata": {},
   "outputs": [
    {
     "name": "stdout",
     "output_type": "stream",
     "text": [
      "{1: [900, 1440, 1440, 1440, 1440, 1440, 1440, 1440, 1440, 1439, 1440, 1440, 1440, 1440, 1438, 1440, 1440, 1440, 1440, 1440, 1440, 1440, 1440, 1440, 1440, 1440, 1440, 1440, 1440, 1440, 1440], 2: [1440, 1440, 1440, 1440, 1440, 1440, 1440, 1440, 1440, 1440, 1440, 1440, 1440, 1440, 1440, 1440, 1440, 1440, 1440, 1440, 1440, 1440, 1440, 1440, 1440, 1440, 1440, 1440], 3: [1440, 1440, 1440, 1440, 1440, 1440, 1440, 1440, 1440, 1440, 1440, 1440, 1439, 1439, 1440, 1440, 1440, 1440, 1440, 1440, 1440, 1440, 1440, 1440, 1440, 1440, 1440, 1440, 1440, 1440, 1440], 4: [1440, 1440, 1440, 1440, 1440, 1440, 1438, 1440, 1440, 1440, 1440, 1440, 1440, 1440, 1440, 1440, 1440, 1440, 1440, 1440, 1440, 1440, 1440, 1440, 1440, 1440, 1440, 1440, 1440, 1440], 5: [1440, 1440, 1440, 1440, 1440, 1440, 1440, 1440, 1440, 1438, 1440, 1440, 1440, 1440, 1440, 1440, 1440, 1440, 1440, 1440, 1440, 1440, 1440, 1440, 1440, 1440, 1440, 1440, 1440, 1440, 1440], 6: [1440, 1440, 1440, 1440, 1440, 1440, 1440, 1440, 1440, 1440, 1438, 1439, 1440, 1440, 1440, 1440, 1440, 1440, 1440, 1440, 1440, 1440, 1440, 1440, 1440, 1440, 1440, 1439, 1439, 1440], 7: [1440, 1440, 1440, 1440, 1440, 1440, 1440, 1440, 1440, 1440, 1440, 1440, 1440, 1440, 1440, 1440, 1440, 1440, 1440, 1440, 540, 900, 1440, 1440, 1440, 1440, 1440, 1440, 1440], 8: [540]}\n"
     ]
    }
   ],
   "source": [
    "df_gas_count_dict = { 1: [],\n",
    "                2: [],\n",
    "                3: [],\n",
    "                4: [],\n",
    "                5 : [],\n",
    "                6 : [],\n",
    "                7 : [],\n",
    "                8 : []}\n",
    "for idx in range(1,9):\n",
    "    df_gas_count = globals()['df_gas_mean_new_' + str(idx)].loc[:,'date'].value_counts(sort = False)\n",
    "    for j in range(1,len(df_gas_count)+1):\n",
    "        df_gas_count_dict[idx].append(df_gas_count.iloc[j-1])\n",
    "\n",
    "print(df_gas_count_dict)"
   ]
  },
  {
   "cell_type": "markdown",
   "metadata": {},
   "source": [
    "#### 1월 Data EDA"
   ]
  },
  {
   "cell_type": "code",
   "execution_count": 6,
   "metadata": {},
   "outputs": [
    {
     "data": {
      "text/html": [
       "<div>\n",
       "<style scoped>\n",
       "    .dataframe tbody tr th:only-of-type {\n",
       "        vertical-align: middle;\n",
       "    }\n",
       "\n",
       "    .dataframe tbody tr th {\n",
       "        vertical-align: top;\n",
       "    }\n",
       "\n",
       "    .dataframe thead th {\n",
       "        text-align: right;\n",
       "    }\n",
       "</style>\n",
       "<table border=\"1\" class=\"dataframe\">\n",
       "  <thead>\n",
       "    <tr style=\"text-align: right;\">\n",
       "      <th></th>\n",
       "      <th>date</th>\n",
       "      <th>GAS MEAN TEMP</th>\n",
       "    </tr>\n",
       "  </thead>\n",
       "  <tbody>\n",
       "    <tr>\n",
       "      <th>count</th>\n",
       "      <td>4.409700e+04</td>\n",
       "      <td>44097.000000</td>\n",
       "    </tr>\n",
       "    <tr>\n",
       "      <th>mean</th>\n",
       "      <td>2.023012e+07</td>\n",
       "      <td>262.060428</td>\n",
       "    </tr>\n",
       "    <tr>\n",
       "      <th>std</th>\n",
       "      <td>8.842902e+00</td>\n",
       "      <td>61.242246</td>\n",
       "    </tr>\n",
       "    <tr>\n",
       "      <th>min</th>\n",
       "      <td>2.023010e+07</td>\n",
       "      <td>49.405500</td>\n",
       "    </tr>\n",
       "    <tr>\n",
       "      <th>25%</th>\n",
       "      <td>2.023011e+07</td>\n",
       "      <td>276.027000</td>\n",
       "    </tr>\n",
       "    <tr>\n",
       "      <th>50%</th>\n",
       "      <td>2.023012e+07</td>\n",
       "      <td>280.048000</td>\n",
       "    </tr>\n",
       "    <tr>\n",
       "      <th>75%</th>\n",
       "      <td>2.023012e+07</td>\n",
       "      <td>283.949500</td>\n",
       "    </tr>\n",
       "    <tr>\n",
       "      <th>max</th>\n",
       "      <td>2.023013e+07</td>\n",
       "      <td>313.038000</td>\n",
       "    </tr>\n",
       "  </tbody>\n",
       "</table>\n",
       "</div>"
      ],
      "text/plain": [
       "               date  GAS MEAN TEMP\n",
       "count  4.409700e+04   44097.000000\n",
       "mean   2.023012e+07     262.060428\n",
       "std    8.842902e+00      61.242246\n",
       "min    2.023010e+07      49.405500\n",
       "25%    2.023011e+07     276.027000\n",
       "50%    2.023012e+07     280.048000\n",
       "75%    2.023012e+07     283.949500\n",
       "max    2.023013e+07     313.038000"
      ]
     },
     "execution_count": 6,
     "metadata": {},
     "output_type": "execute_result"
    }
   ],
   "source": [
    "df_gas_mean_new_1.describe()"
   ]
  },
  {
   "cell_type": "markdown",
   "metadata": {},
   "source": [
    "#### window size : 1시간 으로 slicing -> 간격 : 60, overlap : 10"
   ]
  },
  {
   "cell_type": "code",
   "execution_count": 7,
   "metadata": {},
   "outputs": [
    {
     "name": "stdout",
     "output_type": "stream",
     "text": [
      "share, remainder :  734 57\n",
      "mean_temp length :  735\n"
     ]
    }
   ],
   "source": [
    "mean_temp = []\n",
    "#hyper parameter\n",
    "DATA = df_gas_mean_new_1\n",
    "LEN = len(DATA['GAS MEAN TEMP'])\n",
    "\n",
    "# 몫과 나머지 구하기\n",
    "share, remainder = (LEN // 60), (LEN % 60)\n",
    "print(\"share, remainder : \", share, remainder)\n",
    "\n",
    "for i in range(share):\n",
    "    mean = round(DATA['GAS MEAN TEMP'][(i)*60:(i+1)*60].mean(),2) # (0,60),(60,120)\n",
    "    mean_temp.append(mean)\n",
    "\n",
    "if remainder != 0:\n",
    "    mean_temp.append(DATA['GAS MEAN TEMP'][share * 60:].mean())\n",
    "\n",
    "print(\"mean_temp length : \", len(mean_temp))\n"
   ]
  },
  {
   "cell_type": "code",
   "execution_count": 8,
   "metadata": {},
   "outputs": [
    {
     "data": {
      "text/plain": [
       "<function matplotlib.pyplot.hist(x, bins=None, range=None, density=False, weights=None, cumulative=False, bottom=None, histtype='bar', align='mid', orientation='vertical', rwidth=None, log=False, color=None, label=None, stacked=False, *, data=None, **kwargs)>"
      ]
     },
     "execution_count": 8,
     "metadata": {},
     "output_type": "execute_result"
    },
    {
     "data": {
      "text/plain": [
       "<Figure size 3000x1000 with 0 Axes>"
      ]
     },
     "metadata": {},
     "output_type": "display_data"
    }
   ],
   "source": [
    "\n",
    "plt.figure(figsize = (30,10))\n"
   ]
  },
  {
   "cell_type": "code",
   "execution_count": 9,
   "metadata": {},
   "outputs": [],
   "source": [
    "# for i in range(8):\n",
    "#     pivot_data = pd.read_csv('./csv파일/2451_general_pivot_{}.csv'.format(i+1), encoding = 'cp949')\n",
    "#     pkg_data = pd.read_csv('./csv파일/2451_general_pkg_list_{}.CSV'.format(i+1), encoding = 'cp949')\n",
    "#     pivot_df = pd.DataFrame(pivot_data)\n",
    "#     pkg_df = pd.DataFrame(pkg_data) \n",
    "#     one = pivot_df.loc[:, 'ds_date'].value_counts(sort=False)\n",
    "#     two = pkg_df.loc[:, 'ds_date'].value_counts(sort=False)\n",
    "#     result = pd.concat([one, two], axis =1 )\n",
    "#     print(result)"
   ]
  },
  {
   "cell_type": "code",
   "execution_count": 10,
   "metadata": {},
   "outputs": [],
   "source": [
    "# for i in range(8):\n",
    "#     pivot_data = pd.read_csv('./csv파일/2451_general_pivot_{}.csv'.format(i+1), encoding = 'cp949')\n",
    "    \n",
    "#     pivot_df = pd.DataFrame(pivot_data)\n",
    "\n",
    "#     one = pivot_df.loc[:, 'ds_date'].value_counts(sort=False)\n",
    "\n",
    "#     print(one)"
   ]
  },
  {
   "cell_type": "code",
   "execution_count": 11,
   "metadata": {},
   "outputs": [],
   "source": [
    "# for i in range(8):\n",
    "#     pivot_data = pd.read_csv('./csv파일/2451_general_pkg_list_{}.csv'.format(i+1), encoding = 'cp949')\n",
    "#     pkg_data = pd.read_csv('./한화오션_예지보전_데이터/2451_general_pkg_list_{}.csv'.format(i+1), encoding = 'cp949')\n",
    "#     pivot_df = pd.DataFrame(pivot_data)\n",
    "#     pkg_df = pd.DataFrame(pkg_data)\n",
    "#     one = pivot_df.loc[:, 'ds_date'].value_counts(sort=False)\n",
    "#     two = pkg_df.loc[:, 'ds_date'].value_counts(sort=False)\n",
    "#     result = pd.concat([one, two], axis =1 )\n",
    "#     print(result)"
   ]
  },
  {
   "cell_type": "code",
   "execution_count": 12,
   "metadata": {},
   "outputs": [],
   "source": [
    "import seaborn as sns"
   ]
  },
  {
   "cell_type": "code",
   "execution_count": null,
   "metadata": {},
   "outputs": [],
   "source": []
  },
  {
   "cell_type": "code",
   "execution_count": null,
   "metadata": {},
   "outputs": [],
   "source": []
  }
 ],
 "metadata": {
  "kernelspec": {
   "display_name": "Python 3",
   "language": "python",
   "name": "python3"
  },
  "language_info": {
   "codemirror_mode": {
    "name": "ipython",
    "version": 3
   },
   "file_extension": ".py",
   "mimetype": "text/x-python",
   "name": "python",
   "nbconvert_exporter": "python",
   "pygments_lexer": "ipython3",
   "version": "3.11.5"
  },
  "orig_nbformat": 4
 },
 "nbformat": 4,
 "nbformat_minor": 2
}
