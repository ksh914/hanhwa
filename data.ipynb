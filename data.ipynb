{
 "cells": [
  {
   "cell_type": "code",
   "execution_count": 6,
   "metadata": {},
   "outputs": [],
   "source": [
    "import pandas as pd\n",
    "import numpy as np\n",
    "import os\n",
    "import matplotlib.pyplot as plt\n",
    "import warnings\n",
    "import seaborn as sns\n",
    "\n",
    "warnings.filterwarnings('ignore')\n",
    "%matplotlib inline\n",
    "#device = 'cuda' if torch.cuda.is_available() else 'cpu'"
   ]
  },
  {
   "cell_type": "markdown",
   "metadata": {},
   "source": [
    "# 모의 1: GAS MEAN TEMP 만 다루기 위한 데이터 전처리"
   ]
  },
  {
   "cell_type": "markdown",
   "metadata": {},
   "source": [
    "### 예시 : 1월 데이터"
   ]
  },
  {
   "cell_type": "code",
   "execution_count": 7,
   "metadata": {},
   "outputs": [],
   "source": [
    "# df = pd.read_csv('C:/Users/Sejong/Desktop/한화오션/모의csv파일/general_pivot_1.csv', encoding = 'cp949')\n",
    "# df = df.drop([df.columns[i] for i in range(3,38,2)], axis = 1)\n",
    "# df['kst'] = [df['kst'][i][11:] for i in range(0,88194)]\n",
    "# df.rename(columns = {'癤풼s_date' : 'date'}, inplace = True)\n",
    "# df_gas = df.iloc[:, :8] # gas temerature data frame\n",
    "# df_gas_mean = pd.concat([df.iloc[:, :2], df.iloc[:,7]], axis = 1)\n",
    "# df_gas_mean_new = {'date' : [],\n",
    "#                    'kst' : [],\n",
    "#                    'GAS MEAN TEMP' :[]}\n",
    "\n",
    "# for i in range(0,len(df_gas_mean['date']),2): # 0, 2, 4,...\n",
    "#     MEAN = (df_gas_mean['ME(S) CYL EXH GAS MEAN TEMP'][i] + df_gas_mean['ME(S) CYL EXH GAS MEAN TEMP'][i+1]) / 2\n",
    "#     df_gas_mean_new['date'].append(df_gas_mean['date'][i])\n",
    "#     df_gas_mean_new['kst'].append(df_gas_mean['kst'][i])\n",
    "#     df_gas_mean_new['GAS MEAN TEMP'].append(MEAN)\n",
    "\n",
    "# df_gas_mean_new = pd.DataFrame(df_gas_mean_new)\n",
    "# df_gas_mean_new"
   ]
  },
  {
   "cell_type": "markdown",
   "metadata": {},
   "source": [
    "### 1-8월 까지의 데이터 GAS MEAN TEMP 만 뽑아서 dataframe 작성"
   ]
  },
  {
   "cell_type": "code",
   "execution_count": 8,
   "metadata": {},
   "outputs": [],
   "source": [
    "for idx in range(1,9): # 1월부터 8월까지\n",
    "    df = pd.read_csv('./모의csv파일/general_pivot_{}.csv'.format(idx), encoding = 'cp949')\n",
    "    df = df.drop([df.columns[i] for i in range(3,38,2)], axis = 1)\n",
    "    df['kst'] = [df['kst'][i][11:] for i in range(0,len(df['kst']))]\n",
    "    df.rename(columns = {'癤풼s_date' : 'date'}, inplace = True)\n",
    "    df_gas = df.iloc[:, :8] # gas temerature data frame\n",
    "    df_gas_mean = pd.concat([df.iloc[:, :2], df.iloc[:,7]], axis = 1)\n",
    "    globals()['df_gas_mean_new_' + str(idx)] = {'date' : [],\n",
    "                    'kst' : [],\n",
    "                    'GAS MEAN TEMP' :[]}\n",
    "    \n",
    "    # 새로운 DataFrame 만들기\n",
    "    for i in range(0,len(df_gas_mean['date']),2): # 0, 2, 4,...\n",
    "\n",
    "        # 똑같은 시간(09:00, 09:00) 시간의 GAS TEMP 의 평균을 구해서 하나로 합침\n",
    "        MEAN = (df_gas_mean['ME(S) CYL EXH GAS MEAN TEMP'][i] + df_gas_mean['ME(S) CYL EXH GAS MEAN TEMP'][i+1]) / 2\n",
    "\n",
    "        # df_gas_mean_new_{}인 DataFrame에 값 할당\n",
    "        globals()['df_gas_mean_new_' + str(idx)]['date'].append(df_gas_mean['date'][i])\n",
    "        globals()['df_gas_mean_new_' + str(idx)]['kst'].append(df_gas_mean['kst'][i])\n",
    "        globals()['df_gas_mean_new_' + str(idx)]['GAS MEAN TEMP'].append(MEAN)\n",
    "    \n",
    "    globals()['df_gas_mean_new_' + str(idx)] = pd.DataFrame( globals()['df_gas_mean_new_' + str(idx)]) # df_gas_mewn_new_1,2...8\n",
    "\n",
    "# 결측치 평균값으로 채우기\n",
    "df_gas_mean_new_7['GAS MEAN TEMP'][13884:13886] = 293.81375\n",
    "df_gas_mean_new_7['GAS MEAN TEMP'][13893] = 295.035\n",
    "df_gas_mean_new_7['GAS MEAN TEMP'][13898:13901] = 295.217\n",
    "df_gas_mean_new_7['GAS MEAN TEMP'][14916] = 270.82\n",
    "df_gas_mean_new_7['GAS MEAN TEMP'][14945] = 270.72"
   ]
  },
  {
   "cell_type": "markdown",
   "metadata": {},
   "source": [
    "### 일별로 데이터가 몇개 있는지 Count"
   ]
  },
  {
   "cell_type": "markdown",
   "metadata": {},
   "source": [
    "#### 00시 ~ 24시 : 24 * 60 = 1440 \n",
    "#### 09시 ~ 24시 : 15 * 60 = 900"
   ]
  },
  {
   "cell_type": "code",
   "execution_count": 9,
   "metadata": {},
   "outputs": [
    {
     "name": "stdout",
     "output_type": "stream",
     "text": [
      "{1: [900, 1440, 1440, 1440, 1440, 1440, 1440, 1440, 1440, 1439, 1440, 1440, 1440, 1440, 1438, 1440, 1440, 1440, 1440, 1440, 1440, 1440, 1440, 1440, 1440, 1440, 1440, 1440, 1440, 1440, 1440], 2: [1440, 1440, 1440, 1440, 1440, 1440, 1440, 1440, 1440, 1440, 1440, 1440, 1440, 1440, 1440, 1440, 1440, 1440, 1440, 1440, 1440, 1440, 1440, 1440, 1440, 1440, 1440, 1440], 3: [1440, 1440, 1440, 1440, 1440, 1440, 1440, 1440, 1440, 1440, 1440, 1440, 1439, 1439, 1440, 1440, 1440, 1440, 1440, 1440, 1440, 1440, 1440, 1440, 1440, 1440, 1440, 1440, 1440, 1440, 1440], 4: [1440, 1440, 1440, 1440, 1440, 1440, 1438, 1440, 1440, 1440, 1440, 1440, 1440, 1440, 1440, 1440, 1440, 1440, 1440, 1440, 1440, 1440, 1440, 1440, 1440, 1440, 1440, 1440, 1440, 1440], 5: [1440, 1440, 1440, 1440, 1440, 1440, 1440, 1440, 1440, 1438, 1440, 1440, 1440, 1440, 1440, 1440, 1440, 1440, 1440, 1440, 1440, 1440, 1440, 1440, 1440, 1440, 1440, 1440, 1440, 1440, 1440], 6: [1440, 1440, 1440, 1440, 1440, 1440, 1440, 1440, 1440, 1440, 1438, 1439, 1440, 1440, 1440, 1440, 1440, 1440, 1440, 1440, 1440, 1440, 1440, 1440, 1440, 1440, 1440, 1439, 1439, 1440], 7: [1440, 1440, 1440, 1440, 1440, 1440, 1440, 1440, 1440, 1440, 1440, 1440, 1440, 1440, 1440, 1440, 1440, 1440, 1440, 1440, 540, 900, 1440, 1440, 1440, 1440, 1440, 1440, 1440], 8: [540]}\n"
     ]
    }
   ],
   "source": [
    "df_gas_count_dict = { 1: [],\n",
    "                2: [],\n",
    "                3: [],\n",
    "                4: [],\n",
    "                5 : [],\n",
    "                6 : [],\n",
    "                7 : [],\n",
    "                8 : []}\n",
    "for idx in range(1,9):\n",
    "    df_gas_count = globals()['df_gas_mean_new_' + str(idx)].loc[:,'date'].value_counts(sort = False)\n",
    "    for j in range(1,len(df_gas_count)+1):\n",
    "        df_gas_count_dict[idx].append(df_gas_count.iloc[j-1])\n",
    "\n",
    "print(df_gas_count_dict)"
   ]
  },
  {
   "cell_type": "markdown",
   "metadata": {},
   "source": [
    "#### 1월 Data EDA"
   ]
  },
  {
   "cell_type": "code",
   "execution_count": 10,
   "metadata": {},
   "outputs": [
    {
     "data": {
      "text/html": [
       "<div>\n",
       "<style scoped>\n",
       "    .dataframe tbody tr th:only-of-type {\n",
       "        vertical-align: middle;\n",
       "    }\n",
       "\n",
       "    .dataframe tbody tr th {\n",
       "        vertical-align: top;\n",
       "    }\n",
       "\n",
       "    .dataframe thead th {\n",
       "        text-align: right;\n",
       "    }\n",
       "</style>\n",
       "<table border=\"1\" class=\"dataframe\">\n",
       "  <thead>\n",
       "    <tr style=\"text-align: right;\">\n",
       "      <th></th>\n",
       "      <th>date</th>\n",
       "      <th>GAS MEAN TEMP</th>\n",
       "    </tr>\n",
       "  </thead>\n",
       "  <tbody>\n",
       "    <tr>\n",
       "      <th>count</th>\n",
       "      <td>4.409700e+04</td>\n",
       "      <td>44097.000000</td>\n",
       "    </tr>\n",
       "    <tr>\n",
       "      <th>mean</th>\n",
       "      <td>2.023012e+07</td>\n",
       "      <td>262.060428</td>\n",
       "    </tr>\n",
       "    <tr>\n",
       "      <th>std</th>\n",
       "      <td>8.842902e+00</td>\n",
       "      <td>61.242246</td>\n",
       "    </tr>\n",
       "    <tr>\n",
       "      <th>min</th>\n",
       "      <td>2.023010e+07</td>\n",
       "      <td>49.405500</td>\n",
       "    </tr>\n",
       "    <tr>\n",
       "      <th>25%</th>\n",
       "      <td>2.023011e+07</td>\n",
       "      <td>276.027000</td>\n",
       "    </tr>\n",
       "    <tr>\n",
       "      <th>50%</th>\n",
       "      <td>2.023012e+07</td>\n",
       "      <td>280.048000</td>\n",
       "    </tr>\n",
       "    <tr>\n",
       "      <th>75%</th>\n",
       "      <td>2.023012e+07</td>\n",
       "      <td>283.949500</td>\n",
       "    </tr>\n",
       "    <tr>\n",
       "      <th>max</th>\n",
       "      <td>2.023013e+07</td>\n",
       "      <td>313.038000</td>\n",
       "    </tr>\n",
       "  </tbody>\n",
       "</table>\n",
       "</div>"
      ],
      "text/plain": [
       "               date  GAS MEAN TEMP\n",
       "count  4.409700e+04   44097.000000\n",
       "mean   2.023012e+07     262.060428\n",
       "std    8.842902e+00      61.242246\n",
       "min    2.023010e+07      49.405500\n",
       "25%    2.023011e+07     276.027000\n",
       "50%    2.023012e+07     280.048000\n",
       "75%    2.023012e+07     283.949500\n",
       "max    2.023013e+07     313.038000"
      ]
     },
     "execution_count": 10,
     "metadata": {},
     "output_type": "execute_result"
    }
   ],
   "source": [
    "df_gas_mean_new_1.describe()"
   ]
  },
  {
   "cell_type": "markdown",
   "metadata": {},
   "source": [
    "#### window size : 1시간 으로 slicing -> 간격 : 60, overlap : 10"
   ]
  },
  {
   "cell_type": "code",
   "execution_count": null,
   "metadata": {},
   "outputs": [],
   "source": [
    "mean_temp = []\n",
    "#hyper parameter\n",
    "DATA = df_gas_mean_new_7\n",
    "LEN = len(DATA['GAS MEAN TEMP'])\n",
    "\n",
    "# 몫과 나머지 구하기\n",
    "share, remainder = (LEN // 60), (LEN % 60)\n",
    "print(\"share, remainder : \", share, remainder)\n",
    "\n",
    "for i in range(share):\n",
    "    mean = round(DATA['GAS MEAN TEMP'][(i)*60:(i+1)*60].mean(),2) # (0,60),(60,120)\n",
    "    mean_temp.append(mean)\n",
    "\n",
    "if remainder != 0:\n",
    "    mean_temp.append(DATA['GAS MEAN TEMP'][share * 60:].mean())\n",
    "\n",
    "print(\"mean_temp length : \", len(mean_temp))\n",
    "\n",
    "plt.figure(figsize = (30,10))\n",
    "x = np.arange(1,len(mean_temp)+1)\n",
    "sns.lineplot(x = x, y = mean_temp)\n",
    "plt.show()"
   ]
  },
  {
   "cell_type": "markdown",
   "metadata": {},
   "source": [
    "#### 2월부터 7월까지 1시간 단위로 자른 평균 데이터"
   ]
  },
  {
   "cell_type": "code",
   "execution_count": 108,
   "metadata": {},
   "outputs": [
    {
     "name": "stdout",
     "output_type": "stream",
     "text": [
      "239.72498595505618 82.41515430848148\n"
     ]
    }
   ],
   "source": [
    "MEAN_TEMP_2_to_7 = []\n",
    "for i in range(2,8):\n",
    "    dataset = globals()['df_gas_mean_new_{}'.format(i)]\n",
    "    LEN = len(dataset['GAS MEAN TEMP'])\n",
    "    share, remainder = LEN // 60, LEN % 60\n",
    "\n",
    "    for i in range(share):\n",
    "        MEAN_TEMP_2_to_7.append(round(dataset['GAS MEAN TEMP'][(i)*60:(i+1)*60].mean(), 2))\n",
    "\n",
    "    if remainder != 0:\n",
    "        MEAN_TEMP_2_to_7.append(round(dataset['GAS MEAN TEMP'][share * 60:].mean(),2))\n",
    "\n",
    "print(np.mean(MEAN_TEMP_2_to_7), np.std(MEAN_TEMP_2_to_7))\n"
   ]
  },
  {
   "cell_type": "code",
   "execution_count": 128,
   "metadata": {},
   "outputs": [
    {
     "name": "stdout",
     "output_type": "stream",
     "text": [
      "[43. 44. 45. 46.]\n"
     ]
    }
   ],
   "source": [
    "L = np.array([1.0,2.0,3.0,4.0])\n",
    "print(L + 42)"
   ]
  },
  {
   "cell_type": "code",
   "execution_count": 126,
   "metadata": {},
   "outputs": [
    {
     "name": "stdout",
     "output_type": "stream",
     "text": [
      "[260.071 260.142 260.213 260.284]\n"
     ]
    }
   ],
   "source": [
    "def linear_function(data):\n",
    "    return data * 0.071 + 260\n",
    "print(linear_function(L))"
   ]
  },
  {
   "cell_type": "markdown",
   "metadata": {},
   "source": [
    "#### 모의를 위한 random 데이터 추출"
   ]
  },
  {
   "cell_type": "code",
   "execution_count": 166,
   "metadata": {},
   "outputs": [
    {
     "data": {
      "text/plain": [
       "280.71223833333335"
      ]
     },
     "execution_count": 166,
     "metadata": {},
     "output_type": "execute_result"
    }
   ],
   "source": [
    "random_temp = np.random.choice(MEAN_TEMP_2_to_7, 720)\n",
    "random_temp = random_temp + 52\n",
    "random_temp = linear_function(random_temp)\n",
    "random_temp.mean()"
   ]
  },
  {
   "cell_type": "code",
   "execution_count": 167,
   "metadata": {},
   "outputs": [
    {
     "data": {
      "text/plain": [
       "(720,)"
      ]
     },
     "execution_count": 167,
     "metadata": {},
     "output_type": "execute_result"
    }
   ],
   "source": [
    "random_temp.shape"
   ]
  },
  {
   "cell_type": "code",
   "execution_count": 169,
   "metadata": {},
   "outputs": [
    {
     "data": {
      "text/html": [
       "<div>\n",
       "<style scoped>\n",
       "    .dataframe tbody tr th:only-of-type {\n",
       "        vertical-align: middle;\n",
       "    }\n",
       "\n",
       "    .dataframe tbody tr th {\n",
       "        vertical-align: top;\n",
       "    }\n",
       "\n",
       "    .dataframe thead th {\n",
       "        text-align: right;\n",
       "    }\n",
       "</style>\n",
       "<table border=\"1\" class=\"dataframe\">\n",
       "  <thead>\n",
       "    <tr style=\"text-align: right;\">\n",
       "      <th></th>\n",
       "      <th>index</th>\n",
       "      <th>temp</th>\n",
       "    </tr>\n",
       "  </thead>\n",
       "  <tbody>\n",
       "    <tr>\n",
       "      <th>0</th>\n",
       "      <td>1</td>\n",
       "      <td>284.72504</td>\n",
       "    </tr>\n",
       "    <tr>\n",
       "      <th>1</th>\n",
       "      <td>2</td>\n",
       "      <td>282.75834</td>\n",
       "    </tr>\n",
       "    <tr>\n",
       "      <th>2</th>\n",
       "      <td>3</td>\n",
       "      <td>284.37288</td>\n",
       "    </tr>\n",
       "    <tr>\n",
       "      <th>3</th>\n",
       "      <td>4</td>\n",
       "      <td>272.55067</td>\n",
       "    </tr>\n",
       "    <tr>\n",
       "      <th>4</th>\n",
       "      <td>5</td>\n",
       "      <td>284.10237</td>\n",
       "    </tr>\n",
       "    <tr>\n",
       "      <th>...</th>\n",
       "      <td>...</td>\n",
       "      <td>...</td>\n",
       "    </tr>\n",
       "    <tr>\n",
       "      <th>715</th>\n",
       "      <td>716</td>\n",
       "      <td>283.29226</td>\n",
       "    </tr>\n",
       "    <tr>\n",
       "      <th>716</th>\n",
       "      <td>717</td>\n",
       "      <td>267.35773</td>\n",
       "    </tr>\n",
       "    <tr>\n",
       "      <th>717</th>\n",
       "      <td>718</td>\n",
       "      <td>281.97947</td>\n",
       "    </tr>\n",
       "    <tr>\n",
       "      <th>718</th>\n",
       "      <td>719</td>\n",
       "      <td>284.33454</td>\n",
       "    </tr>\n",
       "    <tr>\n",
       "      <th>719</th>\n",
       "      <td>720</td>\n",
       "      <td>283.46621</td>\n",
       "    </tr>\n",
       "  </tbody>\n",
       "</table>\n",
       "<p>720 rows × 2 columns</p>\n",
       "</div>"
      ],
      "text/plain": [
       "     index       temp\n",
       "0        1  284.72504\n",
       "1        2  282.75834\n",
       "2        3  284.37288\n",
       "3        4  272.55067\n",
       "4        5  284.10237\n",
       "..     ...        ...\n",
       "715    716  283.29226\n",
       "716    717  267.35773\n",
       "717    718  281.97947\n",
       "718    719  284.33454\n",
       "719    720  283.46621\n",
       "\n",
       "[720 rows x 2 columns]"
      ]
     },
     "execution_count": 169,
     "metadata": {},
     "output_type": "execute_result"
    }
   ],
   "source": [
    "x = np.arange(1,721)\n",
    "df = pd.DataFrame({\n",
    "    'index' : x,\n",
    "    'temp' : np.array(random_temp)\n",
    "})\n",
    "df"
   ]
  },
  {
   "cell_type": "markdown",
   "metadata": {},
   "source": [
    "#### 통계 분석 (기울기, y 절편)"
   ]
  },
  {
   "cell_type": "code",
   "execution_count": 171,
   "metadata": {},
   "outputs": [],
   "source": [
    "from sklearn.linear_model import LinearRegression\n",
    "from statsmodels.formula.api import ols"
   ]
  },
  {
   "cell_type": "code",
   "execution_count": 176,
   "metadata": {},
   "outputs": [],
   "source": [
    "model = ols('temp ~ index', data = df).fit() "
   ]
  },
  {
   "cell_type": "code",
   "execution_count": 177,
   "metadata": {},
   "outputs": [
    {
     "data": {
      "text/html": [
       "<table class=\"simpletable\">\n",
       "<caption>OLS Regression Results</caption>\n",
       "<tr>\n",
       "  <th>Dep. Variable:</th>          <td>temp</td>       <th>  R-squared:         </th> <td>   0.010</td>\n",
       "</tr>\n",
       "<tr>\n",
       "  <th>Model:</th>                   <td>OLS</td>       <th>  Adj. R-squared:    </th> <td>   0.009</td>\n",
       "</tr>\n",
       "<tr>\n",
       "  <th>Method:</th>             <td>Least Squares</td>  <th>  F-statistic:       </th> <td>   7.198</td>\n",
       "</tr>\n",
       "<tr>\n",
       "  <th>Date:</th>             <td>Thu, 21 Sep 2023</td> <th>  Prob (F-statistic):</th>  <td>0.00747</td>\n",
       "</tr>\n",
       "<tr>\n",
       "  <th>Time:</th>                 <td>15:11:11</td>     <th>  Log-Likelihood:    </th> <td> -2294.8</td>\n",
       "</tr>\n",
       "<tr>\n",
       "  <th>No. Observations:</th>      <td>   720</td>      <th>  AIC:               </th> <td>   4594.</td>\n",
       "</tr>\n",
       "<tr>\n",
       "  <th>Df Residuals:</th>          <td>   718</td>      <th>  BIC:               </th> <td>   4603.</td>\n",
       "</tr>\n",
       "<tr>\n",
       "  <th>Df Model:</th>              <td>     1</td>      <th>                     </th>     <td> </td>   \n",
       "</tr>\n",
       "<tr>\n",
       "  <th>Covariance Type:</th>      <td>nonrobust</td>    <th>                     </th>     <td> </td>   \n",
       "</tr>\n",
       "</table>\n",
       "<table class=\"simpletable\">\n",
       "<tr>\n",
       "      <td></td>         <th>coef</th>     <th>std err</th>      <th>t</th>      <th>P>|t|</th>  <th>[0.025</th>    <th>0.975]</th>  \n",
       "</tr>\n",
       "<tr>\n",
       "  <th>Intercept</th> <td>  279.6945</td> <td>    0.438</td> <td>  638.752</td> <td> 0.000</td> <td>  278.835</td> <td>  280.554</td>\n",
       "</tr>\n",
       "<tr>\n",
       "  <th>index</th>     <td>    0.0028</td> <td>    0.001</td> <td>    2.683</td> <td> 0.007</td> <td>    0.001</td> <td>    0.005</td>\n",
       "</tr>\n",
       "</table>\n",
       "<table class=\"simpletable\">\n",
       "<tr>\n",
       "  <th>Omnibus:</th>       <td>168.127</td> <th>  Durbin-Watson:     </th> <td>   2.095</td>\n",
       "</tr>\n",
       "<tr>\n",
       "  <th>Prob(Omnibus):</th> <td> 0.000</td>  <th>  Jarque-Bera (JB):  </th> <td> 296.589</td>\n",
       "</tr>\n",
       "<tr>\n",
       "  <th>Skew:</th>          <td>-1.537</td>  <th>  Prob(JB):          </th> <td>3.95e-65</td>\n",
       "</tr>\n",
       "<tr>\n",
       "  <th>Kurtosis:</th>      <td> 3.661</td>  <th>  Cond. No.          </th> <td>    833.</td>\n",
       "</tr>\n",
       "</table><br/><br/>Notes:<br/>[1] Standard Errors assume that the covariance matrix of the errors is correctly specified."
      ],
      "text/latex": [
       "\\begin{center}\n",
       "\\begin{tabular}{lclc}\n",
       "\\toprule\n",
       "\\textbf{Dep. Variable:}    &       temp       & \\textbf{  R-squared:         } &     0.010   \\\\\n",
       "\\textbf{Model:}            &       OLS        & \\textbf{  Adj. R-squared:    } &     0.009   \\\\\n",
       "\\textbf{Method:}           &  Least Squares   & \\textbf{  F-statistic:       } &     7.198   \\\\\n",
       "\\textbf{Date:}             & Thu, 21 Sep 2023 & \\textbf{  Prob (F-statistic):} &  0.00747    \\\\\n",
       "\\textbf{Time:}             &     15:11:11     & \\textbf{  Log-Likelihood:    } &   -2294.8   \\\\\n",
       "\\textbf{No. Observations:} &         720      & \\textbf{  AIC:               } &     4594.   \\\\\n",
       "\\textbf{Df Residuals:}     &         718      & \\textbf{  BIC:               } &     4603.   \\\\\n",
       "\\textbf{Df Model:}         &           1      & \\textbf{                     } &             \\\\\n",
       "\\textbf{Covariance Type:}  &    nonrobust     & \\textbf{                     } &             \\\\\n",
       "\\bottomrule\n",
       "\\end{tabular}\n",
       "\\begin{tabular}{lcccccc}\n",
       "                   & \\textbf{coef} & \\textbf{std err} & \\textbf{t} & \\textbf{P$> |$t$|$} & \\textbf{[0.025} & \\textbf{0.975]}  \\\\\n",
       "\\midrule\n",
       "\\textbf{Intercept} &     279.6945  &        0.438     &   638.752  &         0.000        &      278.835    &      280.554     \\\\\n",
       "\\textbf{index}     &       0.0028  &        0.001     &     2.683  &         0.007        &        0.001    &        0.005     \\\\\n",
       "\\bottomrule\n",
       "\\end{tabular}\n",
       "\\begin{tabular}{lclc}\n",
       "\\textbf{Omnibus:}       & 168.127 & \\textbf{  Durbin-Watson:     } &    2.095  \\\\\n",
       "\\textbf{Prob(Omnibus):} &   0.000 & \\textbf{  Jarque-Bera (JB):  } &  296.589  \\\\\n",
       "\\textbf{Skew:}          &  -1.537 & \\textbf{  Prob(JB):          } & 3.95e-65  \\\\\n",
       "\\textbf{Kurtosis:}      &   3.661 & \\textbf{  Cond. No.          } &     833.  \\\\\n",
       "\\bottomrule\n",
       "\\end{tabular}\n",
       "%\\caption{OLS Regression Results}\n",
       "\\end{center}\n",
       "\n",
       "Notes: \\newline\n",
       " [1] Standard Errors assume that the covariance matrix of the errors is correctly specified."
      ],
      "text/plain": [
       "<class 'statsmodels.iolib.summary.Summary'>\n",
       "\"\"\"\n",
       "                            OLS Regression Results                            \n",
       "==============================================================================\n",
       "Dep. Variable:                   temp   R-squared:                       0.010\n",
       "Model:                            OLS   Adj. R-squared:                  0.009\n",
       "Method:                 Least Squares   F-statistic:                     7.198\n",
       "Date:                Thu, 21 Sep 2023   Prob (F-statistic):            0.00747\n",
       "Time:                        15:11:11   Log-Likelihood:                -2294.8\n",
       "No. Observations:                 720   AIC:                             4594.\n",
       "Df Residuals:                     718   BIC:                             4603.\n",
       "Df Model:                           1                                         \n",
       "Covariance Type:            nonrobust                                         \n",
       "==============================================================================\n",
       "                 coef    std err          t      P>|t|      [0.025      0.975]\n",
       "------------------------------------------------------------------------------\n",
       "Intercept    279.6945      0.438    638.752      0.000     278.835     280.554\n",
       "index          0.0028      0.001      2.683      0.007       0.001       0.005\n",
       "==============================================================================\n",
       "Omnibus:                      168.127   Durbin-Watson:                   2.095\n",
       "Prob(Omnibus):                  0.000   Jarque-Bera (JB):              296.589\n",
       "Skew:                          -1.537   Prob(JB):                     3.95e-65\n",
       "Kurtosis:                       3.661   Cond. No.                         833.\n",
       "==============================================================================\n",
       "\n",
       "Notes:\n",
       "[1] Standard Errors assume that the covariance matrix of the errors is correctly specified.\n",
       "\"\"\""
      ]
     },
     "execution_count": 177,
     "metadata": {},
     "output_type": "execute_result"
    }
   ],
   "source": [
    "model.summary()"
   ]
  },
  {
   "cell_type": "code",
   "execution_count": null,
   "metadata": {},
   "outputs": [],
   "source": [
    "plt.figure(figsize = (300,50))\n",
    "x = np.arange(1,len(random_temp)+1)\n",
    "sns.regplot(x = x, y = random_temp)\n",
    "plt.show()"
   ]
  },
  {
   "cell_type": "markdown",
   "metadata": {},
   "source": [
    "#### 본 데이터와 random 데이터 분포 비교"
   ]
  },
  {
   "cell_type": "code",
   "execution_count": null,
   "metadata": {},
   "outputs": [],
   "source": [
    "print(np.mean(random_temp), np.std(random_temp))\n",
    "plt.figure(figsize = (300,50))\n",
    "x = np.arange(1,len(random_temp)+1)\n",
    "sns.histplot(random_temp)\n",
    "plt.show()"
   ]
  },
  {
   "cell_type": "code",
   "execution_count": null,
   "metadata": {},
   "outputs": [],
   "source": [
    "plt.figure(figsize = (300,50))\n",
    "sns.histplot(MEAN_TEMP_2_to_7)\n",
    "plt.show()"
   ]
  },
  {
   "cell_type": "code",
   "execution_count": 13,
   "metadata": {},
   "outputs": [],
   "source": [
    "# for i in range(8):\n",
    "#     pivot_data = pd.read_csv('./csv파일/2451_general_pivot_{}.csv'.format(i+1), encoding = 'cp949')\n",
    "#     pkg_data = pd.read_csv('./csv파일/2451_general_pkg_list_{}.CSV'.format(i+1), encoding = 'cp949')\n",
    "#     pivot_df = pd.DataFrame(pivot_data)\n",
    "#     pkg_df = pd.DataFrame(pkg_data) \n",
    "#     one = pivot_df.loc[:, 'ds_date'].value_counts(sort=False)\n",
    "#     two = pkg_df.loc[:, 'ds_date'].value_counts(sort=False)\n",
    "#     result = pd.concat([one, two], axis =1 )\n",
    "#     print(result)"
   ]
  },
  {
   "cell_type": "code",
   "execution_count": 14,
   "metadata": {},
   "outputs": [],
   "source": [
    "# for i in range(8):\n",
    "#     pivot_data = pd.read_csv('./csv파일/2451_general_pivot_{}.csv'.format(i+1), encoding = 'cp949')\n",
    "    \n",
    "#     pivot_df = pd.DataFrame(pivot_data)\n",
    "\n",
    "#     one = pivot_df.loc[:, 'ds_date'].value_counts(sort=False)\n",
    "\n",
    "#     print(one)"
   ]
  },
  {
   "cell_type": "code",
   "execution_count": 15,
   "metadata": {},
   "outputs": [],
   "source": [
    "# for i in range(8):\n",
    "#     pivot_data = pd.read_csv('./csv파일/2451_general_pkg_list_{}.csv'.format(i+1), encoding = 'cp949')\n",
    "#     pkg_data = pd.read_csv('./한화오션_예지보전_데이터/2451_general_pkg_list_{}.csv'.format(i+1), encoding = 'cp949')\n",
    "#     pivot_df = pd.DataFrame(pivot_data)\n",
    "#     pkg_df = pd.DataFrame(pkg_data)\n",
    "#     one = pivot_df.loc[:, 'ds_date'].value_counts(sort=False)\n",
    "#     two = pkg_df.loc[:, 'ds_date'].value_counts(sort=False)\n",
    "#     result = pd.concat([one, two], axis =1 )\n",
    "#     print(result)"
   ]
  },
  {
   "cell_type": "code",
   "execution_count": null,
   "metadata": {},
   "outputs": [],
   "source": []
  },
  {
   "cell_type": "code",
   "execution_count": null,
   "metadata": {},
   "outputs": [],
   "source": []
  }
 ],
 "metadata": {
  "kernelspec": {
   "display_name": "Python 3",
   "language": "python",
   "name": "python3"
  },
  "language_info": {
   "codemirror_mode": {
    "name": "ipython",
    "version": 3
   },
   "file_extension": ".py",
   "mimetype": "text/x-python",
   "name": "python",
   "nbconvert_exporter": "python",
   "pygments_lexer": "ipython3",
   "version": "3.11.4"
  },
  "orig_nbformat": 4
 },
 "nbformat": 4,
 "nbformat_minor": 2
}
