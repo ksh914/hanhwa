{
 "cells": [
  {
   "cell_type": "code",
   "execution_count": 3,
   "metadata": {},
   "outputs": [
    {
     "name": "stdout",
     "output_type": "stream",
     "text": [
      " C ����̺��� �������� �̸��� �����ϴ�.\n",
      " ���� �Ϸ� ��ȣ: 702E-35B2\n",
      "\n",
      " c:\\Users\\Sejong\\Desktop\\hanhwa\\model ���͸�\n",
      "\n",
      "2023-11-28  ���� 11:18    <DIR>          .\n",
      "2023-12-11  ���� 10:17    <DIR>          ..\n",
      "2023-11-28  ���� 11:07                 0 __init__.py\n",
      "2023-11-28  ���� 11:43    <DIR>          __pycache__\n",
      "2023-12-05  ���� 09:58               891 LSTM_multi_step.ipynb\n",
      "2023-12-01  ���� 10:38           156,156 LSTM_Single_Step.ipynb\n",
      "2023-12-11  ���� 02:06            24,887 transformer_multistep_prediction.ipynb\n",
      "2023-11-28  ���� 11:43            12,578 transformer_singlestep.py\n",
      "2023-12-03  ���� 06:27           168,260 transformer_singlestep_prediction_11_24.ipynb\n",
      "               6�� ����             362,772 ����Ʈ\n",
      "               3�� ���͸�  244,493,590,528 ����Ʈ ����\n"
     ]
    }
   ],
   "source": [
    "ls"
   ]
  },
  {
   "cell_type": "code",
   "execution_count": 4,
   "metadata": {},
   "outputs": [
    {
     "name": "stdout",
     "output_type": "stream",
     "text": [
      "c:\\Users\\Sejong\\Desktop\\hanhwa\n"
     ]
    }
   ],
   "source": [
    "cd .."
   ]
  },
  {
   "cell_type": "code",
   "execution_count": 9,
   "metadata": {},
   "outputs": [],
   "source": [
    "import torch\n",
    "import torch.nn as nn\n",
    "import numpy as np\n",
    "import time\n",
    "import math\n",
    "from matplotlib import pyplot\n",
    "import warnings\n",
    "warnings.filterwarnings('ignore')\n",
    "SEED = 42\n",
    "torch.manual_seed(SEED)\n",
    "np.random.seed(SEED)\n",
    "\n",
    "# This concept is also called teacher forceing. \n",
    "# The flag decides if the loss will be calculted over all \n",
    "# or just the predicted values.\n",
    "calculate_loss_over_all_values = False\n",
    "\n",
    "# S is the source sequence length\n",
    "# T is the target sequence length\n",
    "# N is the batch size\n",
    "# E is the feature number\n",
    "\n",
    "#src = torch.rand((10, 32, 512)) # (S,N,E) \n",
    "#tgt = torch.rand((20, 32, 512)) # (T,N,E)\n",
    "#out = transformer_model(src, tgt)\n",
    "#\n",
    "#print(out)\n",
    "from sklearn.preprocessing import MinMaxScaler\n",
    "scaler = MinMaxScaler() \n",
    "input_window = 100\n",
    "output_window = 60\n",
    "batch_size = 512 # batch size\n",
    "device = torch.device(\"cuda\" if torch.cuda.is_available() else \"cpu\")\n",
    "\n",
    "class PositionalEncoding(nn.Module):\n",
    "\n",
    "    def __init__(self, d_model, max_len=5000):\n",
    "        super(PositionalEncoding, self).__init__()       \n",
    "        pe = torch.zeros(max_len, 1, d_model)\n",
    "        position = torch.arange(max_len, dtype=torch.float).unsqueeze(1)\n",
    "        div_term = torch.exp(torch.arange(0, d_model, 2).float() * (-math.log(10000.0) / d_model))\n",
    "        pe[:, 0, 0::2] = torch.sin(position * div_term)\n",
    "        pe[:, 0, 1::2] = torch.cos(position * div_term)\n",
    "        #pe.requires_grad = False\n",
    "        self.register_buffer('pe', pe)\n",
    "\n",
    "    def forward(self, x):\n",
    "        \"\"\"\n",
    "        Arguments : \n",
    "            x : Tensor, shape : [input_window, batch_size, embedding_dim]\n",
    "        \"\"\"\n",
    "        return x + self.pe[:x.size(0), :]\n",
    "       \n",
    "\n",
    "class TransAm(nn.Module):\n",
    "    def __init__(self,feature_size=250,num_layers=1,dropout=0.1):\n",
    "        super(TransAm, self).__init__()\n",
    "        self.model_type = 'Transformer'\n",
    "        \n",
    "        self.src_mask = None\n",
    "        self.pos_encoder = PositionalEncoding(feature_size)\n",
    "        self.encoder_layer = nn.TransformerEncoderLayer(d_model=feature_size, nhead=10, dropout=dropout)\n",
    "        self.transformer_encoder = nn.TransformerEncoder(self.encoder_layer, num_layers=num_layers)        \n",
    "        self.decoder = nn.Linear(feature_size,1)\n",
    "        self.init_weights()\n",
    "\n",
    "    def init_weights(self):\n",
    "        initrange = 0.1    \n",
    "        self.decoder.bias.data.zero_()\n",
    "        self.decoder.weight.data.uniform_(-initrange, initrange)\n",
    "\n",
    "    def forward(self,src):\n",
    "        if self.src_mask is None or self.src_mask.size(0) != len(src):\n",
    "            device = src.device\n",
    "            mask = self._generate_square_subsequent_mask(len(src)).to(device)\n",
    "            self.src_mask = mask\n",
    "\n",
    "        src = self.pos_encoder(src)\n",
    "        output = self.transformer_encoder(src,self.src_mask)#, self.src_mask)\n",
    "        output = self.decoder(output)\n",
    "        return output\n",
    "\n",
    "    def _generate_square_subsequent_mask(self, sz):\n",
    "        mask = (torch.triu(torch.ones(sz, sz)) == 1).transpose(0, 1)\n",
    "        mask = mask.float().masked_fill(mask == 0, float('-inf')).masked_fill(mask == 1, float(0.0))\n",
    "        return mask\n",
    "\n",
    "\n",
    "from sklearn.preprocessing import MinMaxScaler\n",
    "scaler_train = MinMaxScaler()\n",
    "scaler_test = MinMaxScaler()\n",
    "\n",
    "# if window is 100 and prediction step is 1\n",
    "# in -> [0..99]\n",
    "# target -> [1..100]\n",
    "def create_inout_sequences(input_data, tw):\n",
    "    inout_seq = []\n",
    "    L = len(input_data)\n",
    "    for i in range(L-tw):\n",
    "        train_seq = np.append(input_data[i:i+tw][:-output_window] , output_window * [0])\n",
    "        train_label = input_data[i:i+tw]\n",
    "        #train_label = input_data[i+output_window:i+tw+output_window]\n",
    "        inout_seq.append((train_seq ,train_label))\n",
    "    return torch.FloatTensor(inout_seq)\n",
    "\n",
    "from function_file.time_series import time_series_dataframe\n",
    "\n",
    "def get_data():\n",
    "    time        = np.arange(0, 400, 0.1) # 4000 sample\n",
    "    amplitude   = np.sin(time) + np.sin(time*0.05) +np.sin(time*0.12) *np.random.normal(-0.2, 0.2, len(time))\n",
    "    #amplitude = scaler.fit_transform(series.to_numpy().reshape(-1, 1)).reshape(-1)\n",
    "    #amplitude = scaler.fit_transform(df.reshape(-1, 1)).reshape(-1)\n",
    "    #from pandas import read_csv\n",
    "    #series = read_csv('daily-min-temperatures.csv', header=0, index_col=0, parse_dates=True, squeeze=True)\n",
    "\n",
    "    df = time_series_dataframe()\n",
    "    df = df['TEMP'].values   \n",
    "    \n",
    "    train_len = int(len(df) * 0.7)\n",
    "    train_data = df[:train_len] \n",
    "    test_data = df[train_len:] \n",
    "    train_data = scaler_train.fit_transform(train_data.reshape(-1,1)).reshape(-1)\n",
    "    test_data = scaler_test.fit_transform(test_data.reshape(-1,1)).reshape(-1)\n",
    "\n",
    "    # convert our train data into a pytorch train tensor\n",
    "    #train_tensor = torch.FloatTensor(train_data).view(-1)\n",
    "    # todo: add comment.. \n",
    "    train_sequence = create_inout_sequences(train_data,input_window)\n",
    "    train_sequence = train_sequence[:-output_window] #todo: fix hack?\n",
    "\n",
    "    #test_data = torch.FloatTensor(test_data).view(-1) \n",
    "    test_data = create_inout_sequences(test_data,input_window)\n",
    "    test_data = test_data[:-output_window] #todo: fix hack?\n",
    "\n",
    "    return train_sequence.to(device), test_data.to(device)\n",
    "\n",
    "def get_batch(source, i,batch_size):\n",
    "    seq_len = min(batch_size, len(source) - 1 - i)\n",
    "    data = source[i:i+seq_len]    \n",
    "    input = torch.stack(torch.stack([item[0] for item in data]).chunk(input_window,1)) # 1 is feature size\n",
    "    target = torch.stack(torch.stack([item[1] for item in data]).chunk(input_window,1))\n",
    "    return input, target\n",
    "\n",
    "\n",
    "def train(train_data):\n",
    "    model.train() # Turn on the train mode\n",
    "    total_loss = 0.\n",
    "    start_time = time.time()\n",
    "\n",
    "    for batch, i in enumerate(range(0, len(train_data) - 1, batch_size)):\n",
    "        data, targets = get_batch(train_data, i,batch_size)\n",
    "        optimizer.zero_grad()\n",
    "        output = model(data)        \n",
    "\n",
    "        if calculate_loss_over_all_values:\n",
    "            loss = criterion(output, targets)\n",
    "        else:\n",
    "            loss = criterion(output[-output_window:], targets[-output_window:])\n",
    "    \n",
    "        loss.backward()\n",
    "        torch.nn.utils.clip_grad_norm_(model.parameters(), 0.5)\n",
    "        optimizer.step()\n",
    "\n",
    "        total_loss += loss.item()\n",
    "        log_interval = int(len(train_data) / batch_size / 5)\n",
    "        if batch % log_interval == 0 and batch > 0:\n",
    "            cur_loss = total_loss / log_interval\n",
    "            elapsed = time.time() - start_time\n",
    "            print('| epoch {:3d} | {:5d}/{:5d} batches | '\n",
    "                  'lr {:02.6f} | {:5.2f} ms | '\n",
    "                  'loss {:5.5f} | ppl {:8.2f}'.format(\n",
    "                    epoch, batch, len(train_data) // batch_size, scheduler.get_lr()[0],\n",
    "                    elapsed * 1000 / log_interval,\n",
    "                    cur_loss, math.exp(cur_loss)))\n",
    "            total_loss = 0\n",
    "            start_time = time.time()\n",
    "\n",
    "def plot_and_loss(eval_model, data_source):\n",
    "    eval_model.eval() \n",
    "    total_loss = 0.\n",
    "    test_result = torch.Tensor(0)    \n",
    "    truth = torch.Tensor(0)\n",
    "    with torch.no_grad():\n",
    "        for i in range(0, len(data_source) - 1):\n",
    "            data, target = get_batch(data_source, i,1)\n",
    "            # look like the model returns static values for the output window\n",
    "            output = eval_model(data)\n",
    "            if calculate_loss_over_all_values:                                \n",
    "                total_loss += criterion(output, target).item()\n",
    "            else:\n",
    "                total_loss += criterion(output[-output_window:], target[-output_window:]).item()\n",
    "            \n",
    "            test_result = torch.cat((test_result, output[-output_window:].view(-1).cpu()), 0) #todo: check this. -> looks good to me\n",
    "            truth = torch.cat((truth, target[-output_window:].view(-1).cpu()), 0)\n",
    "            \n",
    "    #test_result = test_result.cpu().numpy()\n",
    "\n",
    "    test_result = scaler_test.inverse_transform(test_result.reshape(-1,1)).reshape(-1)\n",
    "    truth = scaler_test.inverse_transform(truth.reshape(-1,1)).reshape(-1)\n",
    "\n",
    "    pyplot.plot(test_result,color=\"red\")\n",
    "    pyplot.plot(truth,color=\"blue\")\n",
    "    #pyplot.plot(test_result-truth,color=\"green\")\n",
    "    pyplot.grid(True, which='both')\n",
    "    pyplot.axhline(y=0, color='k')\n",
    "    pyplot.show()\n",
    "    pyplot.close()\n",
    "    \n",
    "    return test_result, truth, total_loss / i\n",
    "\n",
    "\n",
    "def predict_future(eval_model, data_source,steps):\n",
    "    eval_model.eval() \n",
    "    total_loss = 0.\n",
    "    test_result = torch.Tensor(0)    \n",
    "    truth = torch.Tensor(0)\n",
    "    data, _  = get_batch(data_source, 0,1)\n",
    "    with torch.no_grad():\n",
    "        for i in range(0, steps):\n",
    "            input = torch.clone(data[-input_window:])\n",
    "            input[-output_window:] = 0     \n",
    "            output = eval_model(data[-input_window:])                        \n",
    "            data = torch.cat((data, output[-1:]))\n",
    "            \n",
    "    data = data.cpu().view(-1)\n",
    "    \n",
    "    data = scaler_test.inverse_transform(data.reshape(-1,1)).reshape(-1)\n",
    "\n",
    "    pyplot.plot(data,color=\"red\")       \n",
    "    pyplot.plot(data[:input_window],color=\"blue\")\n",
    "    pyplot.grid(True, which='both')\n",
    "    pyplot.axhline(y=0, color='k')\n",
    "    pyplot.show()\n",
    "    pyplot.close()\n",
    "        \n",
    "# There is either an error in the loss or in the train method, but the results are different\n",
    "# also to those of the predict_future\n",
    "def evaluate(eval_model, data_source):\n",
    "    eval_model.eval() # Turn on the evaluation mode\n",
    "    total_loss = 0.\n",
    "    eval_batch_size = 512\n",
    "    with torch.no_grad():\n",
    "        for i in range(0, len(data_source) - 1, eval_batch_size):\n",
    "            data, targets = get_batch(data_source, i,eval_batch_size)\n",
    "            output = eval_model(data)            \n",
    "            if calculate_loss_over_all_values:\n",
    "                total_loss += len(data[0])* criterion(output, targets).cpu().item()\n",
    "            else:                                \n",
    "                total_loss += len(data[0])* criterion(output[-output_window:], targets[-output_window:]).cpu().item()            \n",
    "    return total_loss / len(data_source)\n",
    "\n",
    "\n",
    "\n",
    "#src = torch.rand(input_window, batch_size, 1) # (source sequence length,batch size,feature number) \n",
    "#out = model(src)\n",
    "#\n",
    "#print(out)\n",
    "#print(out.shape)"
   ]
  },
  {
   "cell_type": "markdown",
   "metadata": {},
   "source": [
    "# Train"
   ]
  },
  {
   "cell_type": "code",
   "execution_count": 10,
   "metadata": {},
   "outputs": [
    {
     "name": "stdout",
     "output_type": "stream",
     "text": [
      "| epoch   1 |   283/ 1416 batches | lr 0.001000 | 52.71 ms | loss 0.54110 | ppl     1.72\n",
      "| epoch   1 |   566/ 1416 batches | lr 0.001000 | 52.70 ms | loss 0.01254 | ppl     1.01\n",
      "| epoch   1 |   849/ 1416 batches | lr 0.001000 | 52.45 ms | loss 0.02079 | ppl     1.02\n",
      "| epoch   1 |  1132/ 1416 batches | lr 0.001000 | 53.32 ms | loss 0.00512 | ppl     1.01\n",
      "| epoch   1 |  1415/ 1416 batches | lr 0.001000 | 52.60 ms | loss 0.02328 | ppl     1.02\n",
      "-----------------------------------------------------------------------------------------\n",
      "| end of epoch   1 | time: 81.69s | valid loss 0.10070 | valid ppl     1.11\n",
      "-----------------------------------------------------------------------------------------\n",
      "| epoch   2 |   283/ 1416 batches | lr 0.000960 | 53.66 ms | loss 0.00744 | ppl     1.01\n",
      "| epoch   2 |   566/ 1416 batches | lr 0.000960 | 53.79 ms | loss 0.01522 | ppl     1.02\n",
      "| epoch   2 |   849/ 1416 batches | lr 0.000960 | 55.22 ms | loss 0.03559 | ppl     1.04\n",
      "| epoch   2 |  1132/ 1416 batches | lr 0.000960 | 52.90 ms | loss 0.00682 | ppl     1.01\n",
      "| epoch   2 |  1415/ 1416 batches | lr 0.000960 | 52.28 ms | loss 0.03236 | ppl     1.03\n",
      "-----------------------------------------------------------------------------------------\n",
      "| end of epoch   2 | time: 82.83s | valid loss 0.10060 | valid ppl     1.11\n",
      "-----------------------------------------------------------------------------------------\n",
      "| epoch   3 |   283/ 1416 batches | lr 0.000941 | 53.00 ms | loss 0.00939 | ppl     1.01\n",
      "| epoch   3 |   566/ 1416 batches | lr 0.000941 | 52.47 ms | loss 0.02398 | ppl     1.02\n",
      "| epoch   3 |   849/ 1416 batches | lr 0.000941 | 52.21 ms | loss 0.03644 | ppl     1.04\n",
      "| epoch   3 |  1132/ 1416 batches | lr 0.000941 | 52.17 ms | loss 0.00750 | ppl     1.01\n",
      "| epoch   3 |  1415/ 1416 batches | lr 0.000941 | 52.46 ms | loss 0.02916 | ppl     1.03\n",
      "-----------------------------------------------------------------------------------------\n",
      "| end of epoch   3 | time: 81.12s | valid loss 0.10080 | valid ppl     1.11\n",
      "-----------------------------------------------------------------------------------------\n",
      "| epoch   4 |   283/ 1416 batches | lr 0.000922 | 52.64 ms | loss 0.00830 | ppl     1.01\n",
      "| epoch   4 |   566/ 1416 batches | lr 0.000922 | 52.22 ms | loss 0.02019 | ppl     1.02\n",
      "| epoch   4 |   849/ 1416 batches | lr 0.000922 | 52.23 ms | loss 0.03649 | ppl     1.04\n",
      "| epoch   4 |  1132/ 1416 batches | lr 0.000922 | 52.44 ms | loss 0.00739 | ppl     1.01\n",
      "| epoch   4 |  1415/ 1416 batches | lr 0.000922 | 52.17 ms | loss 0.03023 | ppl     1.03\n",
      "-----------------------------------------------------------------------------------------\n",
      "| end of epoch   4 | time: 81.02s | valid loss 0.10037 | valid ppl     1.11\n",
      "-----------------------------------------------------------------------------------------\n",
      "| epoch   5 |   283/ 1416 batches | lr 0.000904 | 52.36 ms | loss 0.00862 | ppl     1.01\n",
      "| epoch   5 |   566/ 1416 batches | lr 0.000904 | 52.16 ms | loss 0.01867 | ppl     1.02\n",
      "| epoch   5 |   849/ 1416 batches | lr 0.000904 | 52.47 ms | loss 0.03132 | ppl     1.03\n",
      "| epoch   5 |  1132/ 1416 batches | lr 0.000904 | 52.22 ms | loss 0.00795 | ppl     1.01\n",
      "| epoch   5 |  1415/ 1416 batches | lr 0.000904 | 52.43 ms | loss 0.02501 | ppl     1.03\n",
      "-----------------------------------------------------------------------------------------\n",
      "| end of epoch   5 | time: 80.92s | valid loss 0.10040 | valid ppl     1.11\n",
      "-----------------------------------------------------------------------------------------\n",
      "| epoch   6 |   283/ 1416 batches | lr 0.000886 | 52.35 ms | loss 0.00808 | ppl     1.01\n",
      "| epoch   6 |   566/ 1416 batches | lr 0.000886 | 52.43 ms | loss 0.01451 | ppl     1.01\n",
      "| epoch   6 |   849/ 1416 batches | lr 0.000886 | 52.21 ms | loss 0.02738 | ppl     1.03\n",
      "| epoch   6 |  1132/ 1416 batches | lr 0.000886 | 52.46 ms | loss 0.01083 | ppl     1.01\n",
      "| epoch   6 |  1415/ 1416 batches | lr 0.000886 | 52.22 ms | loss 0.02506 | ppl     1.03\n",
      "-----------------------------------------------------------------------------------------\n",
      "| end of epoch   6 | time: 80.95s | valid loss 0.10009 | valid ppl     1.11\n",
      "-----------------------------------------------------------------------------------------\n",
      "| epoch   7 |   283/ 1416 batches | lr 0.000868 | 52.71 ms | loss 0.00958 | ppl     1.01\n",
      "| epoch   7 |   566/ 1416 batches | lr 0.000868 | 52.22 ms | loss 0.01873 | ppl     1.02\n",
      "| epoch   7 |   849/ 1416 batches | lr 0.000868 | 52.40 ms | loss 0.03395 | ppl     1.03\n",
      "| epoch   7 |  1132/ 1416 batches | lr 0.000868 | 52.14 ms | loss 0.01080 | ppl     1.01\n",
      "| epoch   7 |  1415/ 1416 batches | lr 0.000868 | 52.19 ms | loss 0.02603 | ppl     1.03\n",
      "-----------------------------------------------------------------------------------------\n",
      "| end of epoch   7 | time: 81.00s | valid loss 0.10052 | valid ppl     1.11\n",
      "-----------------------------------------------------------------------------------------\n",
      "| epoch   8 |   283/ 1416 batches | lr 0.000851 | 52.37 ms | loss 0.00853 | ppl     1.01\n",
      "| epoch   8 |   566/ 1416 batches | lr 0.000851 | 52.45 ms | loss 0.01874 | ppl     1.02\n",
      "| epoch   8 |   849/ 1416 batches | lr 0.000851 | 52.10 ms | loss 0.03525 | ppl     1.04\n",
      "| epoch   8 |  1132/ 1416 batches | lr 0.000851 | 52.20 ms | loss 0.00917 | ppl     1.01\n",
      "| epoch   8 |  1415/ 1416 batches | lr 0.000851 | 52.34 ms | loss 0.03041 | ppl     1.03\n",
      "-----------------------------------------------------------------------------------------\n",
      "| end of epoch   8 | time: 80.88s | valid loss 0.10052 | valid ppl     1.11\n",
      "-----------------------------------------------------------------------------------------\n",
      "| epoch   9 |   283/ 1416 batches | lr 0.000834 | 52.60 ms | loss 0.00829 | ppl     1.01\n",
      "| epoch   9 |   566/ 1416 batches | lr 0.000834 | 52.10 ms | loss 0.02195 | ppl     1.02\n",
      "| epoch   9 |   849/ 1416 batches | lr 0.000834 | 52.05 ms | loss 0.03056 | ppl     1.03\n",
      "| epoch   9 |  1132/ 1416 batches | lr 0.000834 | 52.29 ms | loss 0.00693 | ppl     1.01\n",
      "| epoch   9 |  1415/ 1416 batches | lr 0.000834 | 52.04 ms | loss 0.02515 | ppl     1.03\n",
      "-----------------------------------------------------------------------------------------\n",
      "| end of epoch   9 | time: 80.83s | valid loss 0.10079 | valid ppl     1.11\n",
      "-----------------------------------------------------------------------------------------\n",
      "| epoch  10 |   283/ 1416 batches | lr 0.000817 | 52.25 ms | loss 0.00811 | ppl     1.01\n",
      "| epoch  10 |   566/ 1416 batches | lr 0.000817 | 52.04 ms | loss 0.02598 | ppl     1.03\n",
      "| epoch  10 |   849/ 1416 batches | lr 0.000817 | 52.34 ms | loss 0.03024 | ppl     1.03\n",
      "| epoch  10 |  1132/ 1416 batches | lr 0.000817 | 51.98 ms | loss 0.00609 | ppl     1.01\n",
      "| epoch  10 |  1415/ 1416 batches | lr 0.000817 | 52.09 ms | loss 0.02540 | ppl     1.03\n",
      "-----------------------------------------------------------------------------------------\n",
      "| end of epoch  10 | time: 80.72s | valid loss 0.10052 | valid ppl     1.11\n",
      "-----------------------------------------------------------------------------------------\n",
      "| epoch  11 |   283/ 1416 batches | lr 0.000801 | 52.22 ms | loss 0.00766 | ppl     1.01\n",
      "| epoch  11 |   566/ 1416 batches | lr 0.000801 | 52.25 ms | loss 0.02658 | ppl     1.03\n",
      "| epoch  11 |   849/ 1416 batches | lr 0.000801 | 52.02 ms | loss 0.03249 | ppl     1.03\n",
      "| epoch  11 |  1132/ 1416 batches | lr 0.000801 | 52.04 ms | loss 0.00715 | ppl     1.01\n",
      "| epoch  11 |  1415/ 1416 batches | lr 0.000801 | 52.31 ms | loss 0.02995 | ppl     1.03\n",
      "-----------------------------------------------------------------------------------------\n",
      "| end of epoch  11 | time: 80.72s | valid loss 0.10100 | valid ppl     1.11\n",
      "-----------------------------------------------------------------------------------------\n",
      "| epoch  12 |   283/ 1416 batches | lr 0.000785 | 52.46 ms | loss 0.00858 | ppl     1.01\n",
      "| epoch  12 |   566/ 1416 batches | lr 0.000785 | 52.02 ms | loss 0.03205 | ppl     1.03\n",
      "| epoch  12 |   849/ 1416 batches | lr 0.000785 | 52.01 ms | loss 0.03734 | ppl     1.04\n",
      "| epoch  12 |  1132/ 1416 batches | lr 0.000785 | 52.31 ms | loss 0.00847 | ppl     1.01\n",
      "| epoch  12 |  1415/ 1416 batches | lr 0.000785 | 52.05 ms | loss 0.03210 | ppl     1.03\n",
      "-----------------------------------------------------------------------------------------\n",
      "| end of epoch  12 | time: 80.77s | valid loss 0.10092 | valid ppl     1.11\n",
      "-----------------------------------------------------------------------------------------\n",
      "| epoch  13 |   283/ 1416 batches | lr 0.000769 | 52.26 ms | loss 0.00933 | ppl     1.01\n",
      "| epoch  13 |   566/ 1416 batches | lr 0.000769 | 52.07 ms | loss 0.03091 | ppl     1.03\n",
      "| epoch  13 |   849/ 1416 batches | lr 0.000769 | 52.32 ms | loss 0.04006 | ppl     1.04\n",
      "| epoch  13 |  1132/ 1416 batches | lr 0.000769 | 52.01 ms | loss 0.00920 | ppl     1.01\n",
      "| epoch  13 |  1415/ 1416 batches | lr 0.000769 | 52.05 ms | loss 0.03559 | ppl     1.04\n",
      "-----------------------------------------------------------------------------------------\n",
      "| end of epoch  13 | time: 80.72s | valid loss 0.10084 | valid ppl     1.11\n",
      "-----------------------------------------------------------------------------------------\n",
      "| epoch  14 |   283/ 1416 batches | lr 0.000754 | 52.30 ms | loss 0.01038 | ppl     1.01\n",
      "| epoch  14 |   566/ 1416 batches | lr 0.000754 | 52.27 ms | loss 0.03138 | ppl     1.03\n",
      "| epoch  14 |   849/ 1416 batches | lr 0.000754 | 52.01 ms | loss 0.04194 | ppl     1.04\n",
      "| epoch  14 |  1132/ 1416 batches | lr 0.000754 | 52.01 ms | loss 0.01124 | ppl     1.01\n",
      "| epoch  14 |  1415/ 1416 batches | lr 0.000754 | 52.26 ms | loss 0.03824 | ppl     1.04\n",
      "-----------------------------------------------------------------------------------------\n",
      "| end of epoch  14 | time: 80.67s | valid loss 0.10091 | valid ppl     1.11\n",
      "-----------------------------------------------------------------------------------------\n",
      "| epoch  15 |   283/ 1416 batches | lr 0.000739 | 52.45 ms | loss 0.01230 | ppl     1.01\n",
      "| epoch  15 |   566/ 1416 batches | lr 0.000739 | 51.96 ms | loss 0.03422 | ppl     1.03\n",
      "| epoch  15 |   849/ 1416 batches | lr 0.000739 | 51.96 ms | loss 0.04387 | ppl     1.04\n",
      "| epoch  15 |  1132/ 1416 batches | lr 0.000739 | 52.26 ms | loss 0.01649 | ppl     1.02\n",
      "| epoch  15 |  1415/ 1416 batches | lr 0.000739 | 52.01 ms | loss 0.04017 | ppl     1.04\n",
      "-----------------------------------------------------------------------------------------\n",
      "| end of epoch  15 | time: 80.69s | valid loss 0.10099 | valid ppl     1.11\n",
      "-----------------------------------------------------------------------------------------\n",
      "| epoch  16 |   283/ 1416 batches | lr 0.000724 | 52.16 ms | loss 0.01236 | ppl     1.01\n",
      "| epoch  16 |   566/ 1416 batches | lr 0.000724 | 52.05 ms | loss 0.03479 | ppl     1.04\n",
      "| epoch  16 |   849/ 1416 batches | lr 0.000724 | 53.10 ms | loss 0.04591 | ppl     1.05\n",
      "| epoch  16 |  1132/ 1416 batches | lr 0.000724 | 57.41 ms | loss 0.01907 | ppl     1.02\n",
      "| epoch  16 |  1415/ 1416 batches | lr 0.000724 | 57.94 ms | loss 0.03894 | ppl     1.04\n",
      "-----------------------------------------------------------------------------------------\n",
      "| end of epoch  16 | time: 85.61s | valid loss 0.10117 | valid ppl     1.11\n",
      "-----------------------------------------------------------------------------------------\n",
      "| epoch  17 |   283/ 1416 batches | lr 0.000709 | 57.59 ms | loss 0.01294 | ppl     1.01\n",
      "| epoch  17 |   566/ 1416 batches | lr 0.000709 | 57.63 ms | loss 0.03415 | ppl     1.03\n",
      "| epoch  17 |   849/ 1416 batches | lr 0.000709 | 57.61 ms | loss 0.04569 | ppl     1.05\n",
      "| epoch  17 |  1132/ 1416 batches | lr 0.000709 | 58.49 ms | loss 0.00646 | ppl     1.01\n",
      "| epoch  17 |  1415/ 1416 batches | lr 0.000709 | 57.43 ms | loss 0.03599 | ppl     1.04\n",
      "-----------------------------------------------------------------------------------------\n",
      "| end of epoch  17 | time: 90.26s | valid loss 0.10055 | valid ppl     1.11\n",
      "-----------------------------------------------------------------------------------------\n",
      "| epoch  18 |   283/ 1416 batches | lr 0.000695 | 56.71 ms | loss 0.00913 | ppl     1.01\n",
      "| epoch  18 |   566/ 1416 batches | lr 0.000695 | 55.50 ms | loss 0.02871 | ppl     1.03\n",
      "| epoch  18 |   849/ 1416 batches | lr 0.000695 | 58.14 ms | loss 0.03842 | ppl     1.04\n",
      "| epoch  18 |  1132/ 1416 batches | lr 0.000695 | 57.86 ms | loss 0.00992 | ppl     1.01\n",
      "| epoch  18 |  1415/ 1416 batches | lr 0.000695 | 57.76 ms | loss 0.03757 | ppl     1.04\n",
      "-----------------------------------------------------------------------------------------\n",
      "| end of epoch  18 | time: 89.69s | valid loss 0.10116 | valid ppl     1.11\n",
      "-----------------------------------------------------------------------------------------\n",
      "| epoch  19 |   283/ 1416 batches | lr 0.000681 | 57.91 ms | loss 0.01159 | ppl     1.01\n",
      "| epoch  19 |   566/ 1416 batches | lr 0.000681 | 57.63 ms | loss 0.03438 | ppl     1.03\n",
      "| epoch  19 |   849/ 1416 batches | lr 0.000681 | 57.16 ms | loss 0.04728 | ppl     1.05\n",
      "| epoch  19 |  1132/ 1416 batches | lr 0.000681 | 57.67 ms | loss 0.02294 | ppl     1.02\n",
      "| epoch  19 |  1415/ 1416 batches | lr 0.000681 | 57.40 ms | loss 0.04236 | ppl     1.04\n",
      "-----------------------------------------------------------------------------------------\n",
      "| end of epoch  19 | time: 88.71s | valid loss 0.10109 | valid ppl     1.11\n",
      "-----------------------------------------------------------------------------------------\n",
      "| epoch  20 |   283/ 1416 batches | lr 0.000668 | 54.65 ms | loss 0.01700 | ppl     1.02\n",
      "| epoch  20 |   566/ 1416 batches | lr 0.000668 | 57.26 ms | loss 0.03552 | ppl     1.04\n",
      "| epoch  20 |   849/ 1416 batches | lr 0.000668 | 51.85 ms | loss 0.04921 | ppl     1.05\n",
      "| epoch  20 |  1132/ 1416 batches | lr 0.000668 | 52.08 ms | loss 0.02281 | ppl     1.02\n",
      "| epoch  20 |  1415/ 1416 batches | lr 0.000668 | 52.53 ms | loss 0.04233 | ppl     1.04\n"
     ]
    },
    {
     "data": {
      "image/png": "[encoded data removed]",
      "text/plain": [
       "<Figure size 640x480 with 1 Axes>"
      ]
     },
     "metadata": {},
     "output_type": "display_data"
    },
    {
     "data": {
      "image/png": "[encoded data removed]",
      "text/plain": [
       "<Figure size 640x480 with 1 Axes>"
      ]
     },
     "metadata": {},
     "output_type": "display_data"
    },
    {
     "name": "stdout",
     "output_type": "stream",
     "text": [
      "-----------------------------------------------------------------------------------------\n",
      "| end of epoch  20 | time: 881.66s | valid loss 0.10102 | valid ppl     1.11\n",
      "-----------------------------------------------------------------------------------------\n",
      "| epoch  21 |   283/ 1416 batches | lr 0.000654 | 58.51 ms | loss 0.01541 | ppl     1.02\n",
      "| epoch  21 |   566/ 1416 batches | lr 0.000654 | 57.41 ms | loss 0.03631 | ppl     1.04\n",
      "| epoch  21 |   849/ 1416 batches | lr 0.000654 | 57.42 ms | loss 0.05309 | ppl     1.05\n",
      "| epoch  21 |  1132/ 1416 batches | lr 0.000654 | 57.92 ms | loss 0.01112 | ppl     1.01\n"
     ]
    },
    {
     "ename": "KeyboardInterrupt",
     "evalue": "",
     "output_type": "error",
     "traceback": [
      "\u001b[1;31m---------------------------------------------------------------------------\u001b[0m",
      "\u001b[1;31mKeyboardInterrupt\u001b[0m                         Traceback (most recent call last)",
      "Cell \u001b[1;32mIn[10], line 17\u001b[0m\n\u001b[0;32m     15\u001b[0m \u001b[38;5;28;01mfor\u001b[39;00m epoch \u001b[38;5;129;01min\u001b[39;00m \u001b[38;5;28mrange\u001b[39m(\u001b[38;5;241m1\u001b[39m, epochs \u001b[38;5;241m+\u001b[39m \u001b[38;5;241m1\u001b[39m):\n\u001b[0;32m     16\u001b[0m     epoch_start_time \u001b[38;5;241m=\u001b[39m time\u001b[38;5;241m.\u001b[39mtime()\n\u001b[1;32m---> 17\u001b[0m     \u001b[43mtrain\u001b[49m\u001b[43m(\u001b[49m\u001b[43mtrain_data\u001b[49m\u001b[43m)\u001b[49m\n\u001b[0;32m     20\u001b[0m     \u001b[38;5;28;01mif\u001b[39;00m (epoch \u001b[38;5;241m%\u001b[39m \u001b[38;5;241m20\u001b[39m \u001b[38;5;241m==\u001b[39m \u001b[38;5;241m0\u001b[39m):\n\u001b[0;32m     21\u001b[0m         \u001b[38;5;66;03m# epoch = 5 일 때마다 val_loss를 구하고, predict_future를 그린다.\u001b[39;00m\n\u001b[0;32m     22\u001b[0m         test_result, truth, val_loss \u001b[38;5;241m=\u001b[39m plot_and_loss(model, val_data)\n",
      "Cell \u001b[1;32mIn[9], line 164\u001b[0m, in \u001b[0;36mtrain\u001b[1;34m(train_data)\u001b[0m\n\u001b[0;32m    161\u001b[0m torch\u001b[38;5;241m.\u001b[39mnn\u001b[38;5;241m.\u001b[39mutils\u001b[38;5;241m.\u001b[39mclip_grad_norm_(model\u001b[38;5;241m.\u001b[39mparameters(), \u001b[38;5;241m0.5\u001b[39m)\n\u001b[0;32m    162\u001b[0m optimizer\u001b[38;5;241m.\u001b[39mstep()\n\u001b[1;32m--> 164\u001b[0m total_loss \u001b[38;5;241m+\u001b[39m\u001b[38;5;241m=\u001b[39m \u001b[43mloss\u001b[49m\u001b[38;5;241;43m.\u001b[39;49m\u001b[43mitem\u001b[49m\u001b[43m(\u001b[49m\u001b[43m)\u001b[49m\n\u001b[0;32m    165\u001b[0m log_interval \u001b[38;5;241m=\u001b[39m \u001b[38;5;28mint\u001b[39m(\u001b[38;5;28mlen\u001b[39m(train_data) \u001b[38;5;241m/\u001b[39m batch_size \u001b[38;5;241m/\u001b[39m \u001b[38;5;241m5\u001b[39m)\n\u001b[0;32m    166\u001b[0m \u001b[38;5;28;01mif\u001b[39;00m batch \u001b[38;5;241m%\u001b[39m log_interval \u001b[38;5;241m==\u001b[39m \u001b[38;5;241m0\u001b[39m \u001b[38;5;129;01mand\u001b[39;00m batch \u001b[38;5;241m>\u001b[39m \u001b[38;5;241m0\u001b[39m:\n",
      "\u001b[1;31mKeyboardInterrupt\u001b[0m: "
     ]
    }
   ],
   "source": [
    "train_data, val_data = get_data()\n",
    "from function_file.ML_functions import make_dataframe\n",
    "criterion = nn.MSELoss()\n",
    "lr = 0.001\n",
    "model = TransAm().to(device)\n",
    "\n",
    "#optimizer = torch.optim.SGD(model.parameters(), lr=lr)\n",
    "optimizer = torch.optim.Adam(model.parameters(), lr=lr)\n",
    "scheduler = torch.optim.lr_scheduler.StepLR(optimizer, 1.0, gamma=0.98)\n",
    "\n",
    "best_val_loss = float(\"inf\")\n",
    "epochs = 100 # The number of epochs\n",
    "best_model = None\n",
    "\n",
    "for epoch in range(1, epochs + 1):\n",
    "    epoch_start_time = time.time()\n",
    "    train(train_data)\n",
    "    \n",
    "    \n",
    "    if (epoch % 20 == 0):\n",
    "        # epoch = 5 일 때마다 val_loss를 구하고, predict_future를 그린다.\n",
    "        test_result, truth, val_loss = plot_and_loss(model, val_data)\n",
    "        #predict_future(model, val_data,60)\n",
    "    else:\n",
    "        # epoch = 5의 배수가 아닐때마다는 evalute를 사용\n",
    "        val_loss = evaluate(model, val_data)\n",
    "        \n",
    "    print('-' * 89)\n",
    "    print('| end of epoch {:3d} | time: {:5.2f}s | valid loss {:5.5f} | valid ppl {:8.2f}'.format(epoch, (time.time() - epoch_start_time),\n",
    "                                     val_loss, math.exp(val_loss)))\n",
    "    print('-' * 89)\n",
    "\n",
    "    #if val_loss < best_val_loss:\n",
    "    #    best_val_loss = val_loss\n",
    "    #    best_model = model\n",
    "\n",
    "    scheduler.step() "
   ]
  },
  {
   "cell_type": "markdown",
   "metadata": {},
   "source": [
    "###########################################################################"
   ]
  },
  {
   "cell_type": "code",
   "execution_count": 5,
   "metadata": {},
   "outputs": [],
   "source": [
    "def create_inout_sequences(input_data, tw):\n",
    "    inout_seq = []\n",
    "    L = len(input_data)\n",
    "    for i in range(L-tw):\n",
    "        train_seq = np.append(input_data[i:i+tw][:-output_window] , output_window * [0])\n",
    "        train_label = input_data[i:i+tw]\n",
    "        #train_label = input_data[i+output_window:i+tw+output_window]\n",
    "        inout_seq.append((train_seq, train_label))\n",
    "    return torch.FloatTensor(inout_seq)\n",
    "\n",
    "from function_file.ML_functions import make_dataframe\n",
    "\n",
    "def get_data():\n",
    "    time        = np.arange(0, 400, 0.1) # 4000 sample\n",
    "    amplitude   = np.sin(time) + np.sin(time*0.05) +np.sin(time*0.12) *np.random.normal(-0.2, 0.2, len(time))\n",
    "    #amplitude = scaler.fit_transform(series.to_numpy().reshape(-1, 1)).reshape(-1)\n",
    "    #amplitude = scaler.fit_transform(df.reshape(-1, 1)).reshape(-1)\n",
    "    #from pandas import read_csv\n",
    "    #series = read_csv('daily-min-temperatures.csv', header=0, index_col=0, parse_dates=True, squeeze=True)\n",
    "\n",
    "    _, df = make_dataframe(60,20)\n",
    "    df = df['TEMP'].values   \n",
    "    \n",
    "    train_len = int(len(df) * 0.8)\n",
    "    train_data = df[:train_len] \n",
    "    test_data = df[train_len:] \n",
    "    train_data = scaler_train.fit_transform(train_data.reshape(-1,1)).reshape(-1)\n",
    "    test_data = scaler_test.fit_transform(test_data.reshape(-1,1)).reshape(-1)\n",
    "\n",
    "    # convert our train data into a pytorch train tensor\n",
    "    #train_tensor = torch.FloatTensor(train_data).view(-1)\n",
    "    # todo: add comment.. \n",
    "    train_sequence = create_inout_sequences(train_data,input_window)\n",
    "    train_sequence = train_sequence[:-output_window] #todo: fix hack?\n",
    "\n",
    "    #test_data = torch.FloatTensor(test_data).view(-1) \n",
    "    test_data = create_inout_sequences(test_data,input_window)\n",
    "    test_data = test_data[:-output_window] #todo: fix hack?\n",
    "\n",
    "    return train_sequence.to(device),test_data.to(device)\n",
    "\n",
    "def get_batch(source, i,batch_size):\n",
    "    seq_len = min(batch_size, len(source) - 1 - i)\n",
    "    data = source[i:i+seq_len]    \n",
    "    input = torch.stack(torch.stack([item[0] for item in data]).chunk(input_window,1)) # 1 is feature size\n",
    "    target = torch.stack(torch.stack([item[1] for item in data]).chunk(input_window,1))\n",
    "    return input, target"
   ]
  },
  {
   "cell_type": "code",
   "execution_count": 6,
   "metadata": {},
   "outputs": [
    {
     "data": {
      "text/plain": [
       "(torch.Size([531726, 2, 100]), torch.Size([132850, 2, 100]))"
      ]
     },
     "execution_count": 6,
     "metadata": {},
     "output_type": "execute_result"
    }
   ],
   "source": [
    "train, test = get_data()\n",
    "train.shape, test.shape"
   ]
  },
  {
   "cell_type": "code",
   "execution_count": 7,
   "metadata": {},
   "outputs": [],
   "source": [
    "model = TransAm().to(device)\n",
    "criterion = nn.MSELoss()\n",
    "lr = 0.001\n",
    "optimizer = torch.optim.Adam(model.parameters(), lr=lr)\n"
   ]
  },
  {
   "cell_type": "code",
   "execution_count": 8,
   "metadata": {},
   "outputs": [
    {
     "data": {
      "text/plain": [
       "(torch.Size([100, 512, 1]), torch.Size([100, 512, 1]))"
      ]
     },
     "execution_count": 8,
     "metadata": {},
     "output_type": "execute_result"
    }
   ],
   "source": [
    "model.train()\n",
    "data,target = get_batch(train, 0, 512)\n",
    "data.shape, target.shape # [input_window, batch_size, 1]"
   ]
  },
  {
   "cell_type": "code",
   "execution_count": 9,
   "metadata": {},
   "outputs": [
    {
     "data": {
      "text/plain": [
       "torch.Size([100, 512, 1])"
      ]
     },
     "execution_count": 9,
     "metadata": {},
     "output_type": "execute_result"
    }
   ],
   "source": [
    "optimizer.zero_grad()\n",
    "output = model(data)\n",
    "output.shape"
   ]
  },
  {
   "cell_type": "code",
   "execution_count": 26,
   "metadata": {},
   "outputs": [
    {
     "data": {
      "text/plain": [
       "torch.Size([5000, 1, 250])"
      ]
     },
     "execution_count": 26,
     "metadata": {},
     "output_type": "execute_result"
    }
   ],
   "source": [
    "max_len = 5000\n",
    "d_model = 250\n",
    "pe = torch.zeros(max_len, d_model)\n",
    "position = torch.arange(0, max_len, dtype=torch.float).unsqueeze(1)\n",
    "div_term = torch.exp(torch.arange(0, d_model, 2).float() * (-math.log(10000.0) / d_model))\n",
    "pe[:, 0::2] = torch.sin(position * div_term)\n",
    "pe[:, 1::2] = torch.cos(position * div_term)\n",
    "pe1= pe.unsqueeze(0).transpose(0, 1)\n",
    "pe1.shape"
   ]
  },
  {
   "cell_type": "code",
   "execution_count": 27,
   "metadata": {},
   "outputs": [
    {
     "data": {
      "text/plain": [
       "torch.Size([5000, 1, 250])"
      ]
     },
     "execution_count": 27,
     "metadata": {},
     "output_type": "execute_result"
    }
   ],
   "source": [
    "max_len = 5000\n",
    "d_model = 250\n",
    "pe = torch.zeros(max_len, d_model)\n",
    "position = torch.arange(0, max_len, dtype=torch.float).unsqueeze(1)\n",
    "div_term = torch.exp(torch.arange(0, d_model, 2).float() * (-math.log(10000.0) / d_model))\n",
    "pe[:, 0::2] = torch.sin(position * div_term)\n",
    "pe[:, 1::2] = torch.cos(position * div_term)\n",
    "pe2 = pe.unsqueeze(1)\n",
    "pe2.shape"
   ]
  },
  {
   "cell_type": "code",
   "execution_count": null,
   "metadata": {},
   "outputs": [
    {
     "name": "stdout",
     "output_type": "stream",
     "text": [
      "r2 :  0.9495403624764921\n",
      "MAE :  6.884691874525865\n",
      "RMSE :  9.072923252313494\n"
     ]
    }
   ],
   "source": [
    "from sklearn.metrics import mean_absolute_error, mean_squared_error\n",
    "from sklearn.metrics import r2_score\n",
    "\n",
    "print(\"r2 : \", r2_score(truth, test_result))\n",
    "print(\"MAE : \", mean_absolute_error(truth, test_result))\n",
    "print(\"RMSE : \", mean_squared_error(truth, test_result)**0.5)"
   ]
  },
  {
   "cell_type": "code",
   "execution_count": 44,
   "metadata": {},
   "outputs": [
    {
     "data": {
      "text/plain": [
       "tensor([[[ 1,  2,  3,  4]],\n",
       "\n",
       "        [[ 5,  6,  7,  8]],\n",
       "\n",
       "        [[ 9, 10, 11, 12]]], dtype=torch.int32)"
      ]
     },
     "execution_count": 44,
     "metadata": {},
     "output_type": "execute_result"
    }
   ],
   "source": [
    "tmp = np.array([[1,2,3,4],[5,6,7,8],\n",
    "                [9,10,11,12]])\n",
    "tmp = torch.from_numpy(tmp)\n",
    "tmp = tmp.unsqueeze(0)\n",
    "tmp = tmp.transpose(1,0)\n",
    "tmp"
   ]
  },
  {
   "cell_type": "code",
   "execution_count": 43,
   "metadata": {},
   "outputs": [
    {
     "data": {
      "text/plain": [
       "tensor([[[ 1,  2,  3,  4]],\n",
       "\n",
       "        [[ 5,  6,  7,  8]],\n",
       "\n",
       "        [[ 9, 10, 11, 12]]], dtype=torch.int32)"
      ]
     },
     "execution_count": 43,
     "metadata": {},
     "output_type": "execute_result"
    }
   ],
   "source": [
    "tmp1 = np.array([[1,2,3,4],[5,6,7,8],\n",
    "                [9,10,11,12]])\n",
    "tmp1 = torch.from_numpy(tmp1)\n",
    "tmp1 = tmp1.unsqueeze(1)\n",
    "tmp1"
   ]
  },
  {
   "cell_type": "code",
   "execution_count": null,
   "metadata": {},
   "outputs": [],
   "source": []
  }
 ],
 "metadata": {
  "kernelspec": {
   "display_name": "hanhwa",
   "language": "python",
   "name": "python3"
  },
  "language_info": {
   "codemirror_mode": {
    "name": "ipython",
    "version": 3
   },
   "file_extension": ".py",
   "mimetype": "text/x-python",
   "name": "python",
   "nbconvert_exporter": "python",
   "pygments_lexer": "ipython3",
   "version": "3.11.4"
  }
 },
 "nbformat": 4,
 "nbformat_minor": 2
}
